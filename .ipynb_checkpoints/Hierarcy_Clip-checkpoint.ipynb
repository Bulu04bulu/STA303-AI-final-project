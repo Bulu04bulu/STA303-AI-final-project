{
 "cells": [
  {
   "cell_type": "markdown",
   "metadata": {
    "id": "DD02wux82iLo"
   },
   "source": [
    "## 1. Reproducing CLIP zero-shot ImageNet classification performance\n",
    "\n",
    "Replicating the latest OpenAI [Colab](https://github.com/openai/CLIP/blob/main/notebooks/Prompt_Engineering_for_ImageNet.ipynb).\n"
   ]
  },
  {
   "cell_type": "code",
   "execution_count": 23,
   "metadata": {
    "id": "ZrHcKMdltCnX"
   },
   "outputs": [
    {
     "name": "stdout",
     "output_type": "stream",
     "text": [
      "%pylab is deprecated, use %matplotlib inline and import the required libraries.\n",
      "Populating the interactive namespace from numpy and matplotlib\n"
     ]
    },
    {
     "name": "stderr",
     "output_type": "stream",
     "text": [
      "/usr/local/lib/python3.10/dist-packages/IPython/core/magics/pylab.py:162: UserWarning: pylab import has clobbered these variables: ['clip', 'random']\n",
      "`%matplotlib` prevents importing * from pylab and numpy\n",
      "  warn(\"pylab import has clobbered these variables: %s\"  % clobbered +\n"
     ]
    }
   ],
   "source": [
    "%pylab inline\n",
    "import tensorflow_datasets as tfds\n",
    "import jax\n",
    "import jax.numpy as jnp\n",
    "from tqdm import tqdm\n",
    "import tensorflow as tf\n",
    "import random\n",
    "import os\n",
    "import json\n",
    "from scipy.special import softmax\n",
    "from PIL import Image\n",
    "import pandas as pd\n",
    "from scenic.projects.baselines.clip import model as clip\n",
    "from scenic.projects.baselines.clip import tokenizer as clip_tokenizer"
   ]
  },
  {
   "cell_type": "code",
   "execution_count": 24,
   "metadata": {
    "cellView": "form",
    "id": "05NWZ85TVscl"
   },
   "outputs": [],
   "source": [
    "#@title ImageNet classNames\n",
    "# https://github.com/openai/CLIP/blob/main/notebooks/Prompt_Engineering_for_ImageNet.ipynb\n",
    "clip.IMAGENET_CLASSES = ['apple',\n",
    " 'aquarium_fish',\n",
    " 'baby',\n",
    " 'bear',\n",
    " 'beaver',\n",
    " 'bed',\n",
    " 'bee',\n",
    " 'beetle',\n",
    " 'bicycle',\n",
    " 'bottle',\n",
    " 'bowl',\n",
    " 'boy',\n",
    " 'bridge',\n",
    " 'bus',\n",
    " 'butterfly',\n",
    " 'camel',\n",
    " 'can',\n",
    " 'castle',\n",
    " 'caterpillar',\n",
    " 'cattle',\n",
    " 'chair',\n",
    " 'chimpanzee',\n",
    " 'clock',\n",
    " 'cloud',\n",
    " 'cockroach',\n",
    " 'couch',\n",
    " 'crab',\n",
    " 'crocodile',\n",
    " 'cup',\n",
    " 'dinosaur',\n",
    " 'dolphin',\n",
    " 'elephant',\n",
    " 'flatfish',\n",
    " 'forest',\n",
    " 'fox',\n",
    " 'girl',\n",
    " 'hamster',\n",
    " 'house',\n",
    " 'kangaroo',\n",
    " 'keyboard',\n",
    " 'lamp',\n",
    " 'lawn_mower',\n",
    " 'leopard',\n",
    " 'lion',\n",
    " 'lizard',\n",
    " 'lobster',\n",
    " 'man',\n",
    " 'maple_tree',\n",
    " 'motorcycle',\n",
    " 'mountain',\n",
    " 'mouse',\n",
    " 'mushroom',\n",
    " 'oak_tree',\n",
    " 'orange',\n",
    " 'orchid',\n",
    " 'otter',\n",
    " 'palm_tree',\n",
    " 'pear',\n",
    " 'pickup_truck',\n",
    " 'pine_tree',\n",
    " 'plain',\n",
    " 'plate',\n",
    " 'poppy',\n",
    " 'porcupine',\n",
    " 'possum',\n",
    " 'rabbit',\n",
    " 'raccoon',\n",
    " 'ray',\n",
    " 'road',\n",
    " 'rocket',\n",
    " 'rose',\n",
    " 'sea',\n",
    " 'seal',\n",
    " 'shark',\n",
    " 'shrew',\n",
    " 'skunk',\n",
    " 'skyscraper',\n",
    " 'snail',\n",
    " 'snake',\n",
    " 'spider',\n",
    " 'squirrel',\n",
    " 'streetcar',\n",
    " 'sunflower',\n",
    " 'sweet_pepper',\n",
    " 'table',\n",
    " 'tank',\n",
    " 'telephone',\n",
    " 'television',\n",
    " 'tiger',\n",
    " 'tractor',\n",
    " 'train',\n",
    " 'trout',\n",
    " 'tulip',\n",
    " 'turtle',\n",
    " 'wardrobe',\n",
    " 'whale',\n",
    " 'willow_tree',\n",
    " 'wolf',\n",
    " 'woman',\n",
    " 'worm']\n",
    "# #@title ImageNet classNames\n",
    "# # https://github.com/openai/CLIP/blob/main/notebooks/Prompt_Engineering_for_ImageNet.ipynb\n",
    "# clip.IMAGENET_CLASSES = ['beaver',\n",
    "#  'dolphin',\n",
    "#  'otter',\n",
    "#  'seal',\n",
    "#  'whale',\n",
    "#  'aquarium_fish',\n",
    "#  'flatfish',\n",
    "#  'ray',\n",
    "#  'shark',\n",
    "#  'trout',\n",
    "#  'orchid',\n",
    "#  'poppy',\n",
    "#  'rose',\n",
    "#  'sunflower',\n",
    "#  'tulip',\n",
    "#  'bottle',\n",
    "#  'bowl',\n",
    "#  'can',\n",
    "#  'cup',\n",
    "#  'plate',\n",
    "#  'apple',\n",
    "#  'mushroom',\n",
    "#  'orange',\n",
    "#  'pear',\n",
    "#  'sweet_pepper',\n",
    "#  'clock',\n",
    "#  'keyboard',\n",
    "#  'lamp',\n",
    "#  'telephone',\n",
    "#  'television',\n",
    "#  'bed',\n",
    "#  'chair',\n",
    "#  'couch',\n",
    "#  'table',\n",
    "#  'wardrobe',\n",
    "#  'bee',\n",
    "#  'beetle',\n",
    "#  'butterfly',\n",
    "#  'caterpillar',\n",
    "#  'cockroach',\n",
    "#  'bear',\n",
    "#  'leopard',\n",
    "#  'lion',\n",
    "#  'tiger',\n",
    "#  'wolf',\n",
    "#  'bridge',\n",
    "#  'castle',\n",
    "#  'house',\n",
    "#  'road',\n",
    "#  'skyscraper',\n",
    "#  'cloud',\n",
    "#  'forest',\n",
    "#  'mountain',\n",
    "#  'plain',\n",
    "#  'sea',\n",
    "#  'camel',\n",
    "#  'cattle',\n",
    "#  'chimpanzee',\n",
    "#  'elephant',\n",
    "#  'kangaroo',\n",
    "#  'fox',\n",
    "#  'porcupine',\n",
    "#  'possum',\n",
    "#  'raccoon',\n",
    "#  'skunk',\n",
    "#  'crab',\n",
    "#  'lobster',\n",
    "#  'snail',\n",
    "#  'spider',\n",
    "#  'worm',\n",
    "#  'baby',\n",
    "#  'boy',\n",
    "#  'girl',\n",
    "#  'man',\n",
    "#  'woman',\n",
    "#  'crocodile',\n",
    "#  'dinosaur',\n",
    "#  'lizard',\n",
    "#  'snake',\n",
    "#  'turtle',\n",
    "#  'hamster',\n",
    "#  'mouse',\n",
    "#  'rabbit',\n",
    "#  'shrew',\n",
    "#  'squirrel',\n",
    "#  'maple_tree',\n",
    "#  'oak_tree',\n",
    "#  'palm_tree',\n",
    "#  'pine_tree',\n",
    "#  'willow_tree',\n",
    "#  'bicycle',\n",
    "#  'bus',\n",
    "#  'motorcycle',\n",
    "#  'pickup_truck',\n",
    "#  'train',\n",
    "#  'lawn_mower',\n",
    "#  'rocket',\n",
    "#  'streetcar',\n",
    "#  'tank',\n",
    "#  'tractor']\n"
   ]
  },
  {
   "cell_type": "code",
   "execution_count": 25,
   "metadata": {
    "id": "JIzYXXxzTAzZ"
   },
   "outputs": [
    {
     "name": "stderr",
     "output_type": "stream",
     "text": [
      "100%|█████████████████████████████████████| 1.29M/1.29M [00:00<00:00, 4.70MiB/s]\n"
     ]
    }
   ],
   "source": [
    "model_name = 'vit_b16' # we could change different backbone\n",
    "\n",
    "model = clip.MODELS[model_name]()\n",
    "vars = clip.load_model_vars(model_name)\n",
    "\n",
    "encode_text = jax.jit(lambda texts: model.apply(vars, texts, method=model.encode_text))\n",
    "encode_image = jax.jit(lambda x: model.apply(vars, x, method=model.encode_image))\n",
    "\n",
    "tokenize_fn = clip_tokenizer.build_tokenizer()"
   ]
  },
  {
   "cell_type": "code",
   "execution_count": 26,
   "metadata": {
    "id": "lRjGzv6sosYZ"
   },
   "outputs": [],
   "source": [
    "def permute_words(text):\n",
    "  words = text.split(' ')\n",
    "  random.shuffle(words)\n",
    "  return ' '.join(words)\n",
    "\n",
    "def zeroshot_classifier(classnames, templates, permute=False):\n",
    "  zeroshot_weights = []\n",
    "  permute_fn = permute_words if permute else lambda x: x\n",
    "  for classname in tqdm(classnames):\n",
    "    texts = [permute_fn(template.format(classname)) for template in templates]\n",
    "    class_embeddings = encode_text(tokenize_fn(texts))\n",
    "    class_embedding = class_embeddings.mean(0)\n",
    "    class_embedding /= jnp.linalg.norm(class_embedding)\n",
    "    zeroshot_weights.append(class_embedding)\n",
    "  return jnp.stack(zeroshot_weights, axis=1)\n"
   ]
  },
  {
   "cell_type": "code",
   "execution_count": 27,
   "metadata": {
    "id": "nw6OUXuMpQ3Q"
   },
   "outputs": [
    {
     "name": "stderr",
     "output_type": "stream",
     "text": [
      "100%|██████████| 100/100 [01:02<00:00,  1.60it/s]\n",
      "100%|██████████| 100/100 [00:09<00:00, 10.58it/s]\n"
     ]
    }
   ],
   "source": [
    "# Readout weights with prompt engineering\n",
    "weights_prompteng = zeroshot_classifier(clip.IMAGENET_CLASSES, clip.PROMPTS)\n",
    "\n",
    "# Readout weights with modified ImageNet class names only\n",
    "weights_name = zeroshot_classifier(clip.IMAGENET_CLASSES, ['{}'])\n"
   ]
  },
  {
   "cell_type": "code",
   "execution_count": 28,
   "metadata": {
    "id": "HLxQkmIIaeH2"
   },
   "outputs": [],
   "source": [
    "def preprocess(batch, size=224):\n",
    "  batch = tf.image.convert_image_dtype(batch, dtype=tf.float32)\n",
    "  return central_crop(resize_small(batch, size), (size, size))\n",
    "\n",
    "def central_crop(image, crop_size):\n",
    "    '''\n",
    "    image\n",
    "    crop_size: (h, w)\n",
    "    '''\n",
    "    h, w = crop_size[0], crop_size[1]\n",
    "    dy = (tf.shape(image)[0] - h) // 2\n",
    "    dx = (tf.shape(image)[1] - w) // 2\n",
    "    return tf.image.crop_to_bounding_box(image, dy, dx, h, w)\n",
    "\n",
    "def resize_small(image, smaller_size, method=\"area\", antialias=True):\n",
    "    '''\n",
    "    image\n",
    "    smaller_size: an integer, that represents a new size of the smaller side of\n",
    "      an input image.\n",
    "    '''\n",
    "    h, w = tf.shape(image)[0], tf.shape(image)[1]\n",
    "\n",
    "    # Figure out the necessary h/w.\n",
    "    ratio = (\n",
    "        tf.cast(smaller_size, tf.float32) /\n",
    "        tf.cast(tf.minimum(h, w), tf.float32))\n",
    "    h = tf.cast(tf.round(tf.cast(h, tf.float32) * ratio), tf.int32)\n",
    "    w = tf.cast(tf.round(tf.cast(w, tf.float32) * ratio), tf.int32)\n",
    "\n",
    "    dtype = image.dtype\n",
    "    image = tf.image.resize(image, (h, w), method, antialias)\n",
    "    return tf.cast(image, dtype)\n",
    "\n",
    "\n",
    "def normalize(img):\n",
    "  return (img - clip.IMAGE_MEAN) / clip.IMAGE_STD\n",
    "\n",
    "def unnormalize(x):\n",
    "  return x * clip.IMAGE_STD + clip.IMAGE_MEAN"
   ]
  },
  {
   "cell_type": "code",
   "execution_count": 29,
   "metadata": {
    "id": "VZx-2xM2uflF"
   },
   "outputs": [],
   "source": [
    "def load_dataset(dataset='cifar100', split='train', batch_size=1024):\n",
    "  ds = tfds.load(dataset, split=split)\n",
    "  def _preprocess(d):\n",
    "    d['image'] = normalize(preprocess(d['image']))\n",
    "    return d\n",
    "  def _prepare(d):\n",
    "    return jax.tree_map(lambda x: x._numpy(), d)\n",
    "  batched_dataset = ds.map(_preprocess).batch(batch_size)\n",
    "  batched_dataset = map(_prepare, batched_dataset)\n",
    "  return batched_dataset\n",
    "\n",
    "def load_dataset_info(dataset='cifar100', split='train', batch_size=1024):\n",
    "  ds, info = tfds.load(dataset, split=split, with_info=\"true\")\n",
    "  def _preprocess(d):\n",
    "    d['image'] = normalize(preprocess(d['image']))\n",
    "    return d\n",
    "  def _prepare(d):\n",
    "    return jax.tree_map(lambda x: x._numpy(), d)\n",
    "  batched_dataset = ds.map(_preprocess).batch(batch_size)\n",
    "  batched_dataset = map(_prepare, batched_dataset)\n",
    "  return batched_dataset, info\n",
    "\n",
    "# def load_dataset_from(data_dir='YOUR/LOCAL/PATH/imagenet2012', dataset='cifar100', split='train', batch_size=1024):\n",
    "#   # ds = tfds.load(dataset, split=split, data_dir=data_dir)\n",
    "#   ds = tfds.builder_from_directory(data_dir)\n",
    "#   ds = ds.as_dataset(split='validation')\n",
    "#   def _preprocess(d):\n",
    "#     d['image'] = normalize(preprocess(d['image']))\n",
    "#     return d\n",
    "#   def _prepare(d):\n",
    "#     return jax.tree_map(lambda x: x._numpy(), d)\n",
    "#   batched_dataset = ds.map(_preprocess).batch(batch_size)\n",
    "#   batched_dataset = map(_prepare, batched_dataset)\n",
    "#   return batched_dataset"
   ]
  },
  {
   "cell_type": "code",
   "execution_count": 30,
   "metadata": {
    "id": "nlfoPT44NafG"
   },
   "outputs": [],
   "source": [
    "def compute_image_embeddings(dset, norm_image=True):\n",
    "  embeddings = []\n",
    "  labels = []\n",
    "  for batch in tqdm(dset):\n",
    "    image_embedding = encode_image(batch['image'])\n",
    "    if norm_image:\n",
    "      image_embedding /= jnp.linalg.norm(image_embedding)\n",
    "    embeddings.append(image_embedding)\n",
    "    labels.append(batch['label'])\n",
    "  return jnp.vstack(embeddings), jnp.hstack(labels)\n",
    "\n",
    "def compute_accuracy(logits, labels):\n",
    "  top_probs, top_labels = jax.lax.top_k(logits, 5)\n",
    "  top1 = 100 * jnp.mean(top_labels[:, 0] == labels)\n",
    "  top5 = 100 * jnp.sum(top_labels == labels[:, None]) / labels.shape[0]\n",
    "  return top1, top5"
   ]
  },
  {
   "cell_type": "code",
   "execution_count": 10,
   "metadata": {
    "id": "7IRsBlmgN0nz"
   },
   "outputs": [
    {
     "name": "stderr",
     "output_type": "stream",
     "text": [
      "2023-12-28 14:54:50.991537: W tensorflow/core/common_runtime/gpu/gpu_device.cc:1960] Cannot dlopen some GPU libraries. Please make sure the missing libraries mentioned above are installed properly if you would like to use GPU. Follow the guide at https://www.tensorflow.org/install/gpu for how to download and setup the required libraries for your platform.\n",
      "Skipping registering GPU devices...\n",
      "49it [14:05, 17.25s/it]\n"
     ]
    }
   ],
   "source": [
    "dset = load_dataset('cifar100')\n",
    "# You could also first download ImageNet and then process them with tensorflow_datasets and load them with function:\n",
    "# dset = load_dataset_from(data_dir='YOUR/LOCAL/PATH/imagenet2012', dataset='imagenet2012', split='validation')\n",
    "embeddings, labels = compute_image_embeddings(dset)"
   ]
  },
  {
   "cell_type": "code",
   "execution_count": 31,
   "metadata": {},
   "outputs": [
    {
     "data": {
      "text/plain": [
       "map"
      ]
     },
     "execution_count": 31,
     "metadata": {},
     "output_type": "execute_result"
    }
   ],
   "source": [
    "type(dset)"
   ]
  },
  {
   "cell_type": "code",
   "execution_count": 32,
   "metadata": {},
   "outputs": [],
   "source": [
    "# print(logits_name)"
   ]
  },
  {
   "cell_type": "code",
   "execution_count": 33,
   "metadata": {
    "id": "bV7jIm8sFjHD"
   },
   "outputs": [
    {
     "name": "stdout",
     "output_type": "stream",
     "text": [
      "Prompt Engineering: top1=38.55%, top5=67.42%\n",
      "Class Names: top1=32.03%, top5=59.90%\n"
     ]
    }
   ],
   "source": [
    "# More accurate and consistent result\n",
    "logits_prompteng = np.matmul(embeddings, weights_prompteng)\n",
    "logits_name = np.matmul(embeddings, weights_name)\n",
    "top1_prompt, top5_prompt = compute_accuracy(logits_prompteng, labels)\n",
    "top1_name, top5_name = compute_accuracy(logits_name, labels)\n",
    "print(f'Prompt Engineering: top1={top1_prompt:.2f}%, top5={top5_prompt:.2f}%')\n",
    "print(f'Class Names: top1={top1_name:.2f}%, top5={top5_name:.2f}%')"
   ]
  },
  {
   "cell_type": "markdown",
   "metadata": {
    "id": "SLeqlvKV3ZpT"
   },
   "source": [
    "## 2. Build hierarchy from WordNet\n",
    "\n",
    "The wordnet hierarchy is based on Github repo: https://github.com/niharikajainn/imagenet-ancestors-descendants\n"
   ]
  },
  {
   "cell_type": "markdown",
   "metadata": {
    "id": "xMc8VFmpzH8p"
   },
   "source": [
    "### WordNet parse"
   ]
  },
  {
   "cell_type": "code",
   "execution_count": 34,
   "metadata": {
    "id": "RepSntjHI8Er"
   },
   "outputs": [],
   "source": [
    "root_path ='/data/lab/Hierarchy-CLIP/' # VM yunhao"
   ]
  },
  {
   "cell_type": "code",
   "execution_count": 35,
   "metadata": {
    "id": "GI8y4W79zH8p"
   },
   "outputs": [],
   "source": [
    "words_map = {}\n",
    "child_map = {}\n",
    "parent_map = {}\n",
    "# gloss_map = {} # description\n",
    "# BEGIN GOOGLE-INTERNAL\n",
    "words_path = os.path.join(root_path,\"New\",\"words.txt\")\n",
    "# gloss_path = os.path.join(root_path, \"imagenet-ancestors-descendants\", \"gloss.txt\")\n",
    "child_map_path = os.path.join(root_path,\"New\",\"is_a.txt\")\n",
    "imagenet_label_to_wordnet_file = os.path.join(root_path, \"New\", \"imagenet_label.txt\")\n",
    "# END GOOGLE-INTERNAL\n",
    "\n",
    "blank = ' '\n",
    "comma_blank = ', '"
   ]
  },
  {
   "cell_type": "code",
   "execution_count": 36,
   "metadata": {
    "id": "gSGZoG3CzH8p"
   },
   "outputs": [],
   "source": [
    "#obtain wordnet_id mappings for all words\n",
    "with tf.io.gfile.GFile(words_path, mode='r') as f:\n",
    "    for line in f:\n",
    "        line_split = line.split() # use blank \" \" to split\n",
    "        words = line_split[0] # e.g., 'n03200357'\n",
    "        wnid = line_split[1] # e.g., ['electric,', 'electric', 'automobile,', 'electric', 'car'],\n",
    "        words_map[wnid] = words\n",
    "#         print(wnid,words)\n",
    "f.close()"
   ]
  },
  {
   "cell_type": "code",
   "execution_count": 15,
   "metadata": {
    "id": "KAeBPSSxzH8q"
   },
   "outputs": [],
   "source": [
    "#obtain wordnet_id mappings for all word description\n",
    "# with tf.io.gfile.GFile(gloss_path, mode='r') as f:\n",
    "# \tfor line in f:\n",
    "# \t\tline_split = line.split()\n",
    "# \t\twnid = line_split[0]\n",
    "# \t\tgloss = blank.join(line_split[1:])\n",
    "# \t\tgloss_map[wnid] = gloss\n",
    "# f.close()"
   ]
  },
  {
   "cell_type": "code",
   "execution_count": 37,
   "metadata": {
    "id": "awkQS7mnzH8q"
   },
   "outputs": [
    {
     "name": "stdout",
     "output_type": "stream",
     "text": [
      "{'1': '0', '2': '0', '3': '0', '4': '0', '5': '0', '7': '6', '8': '6', '9': '6', '10': '6', '11': '6', '13': '12', '14': '12', '15': '12', '16': '12', '17': '12', '19': '18', '20': '18', '21': '18', '22': '18', '23': '18', '25': '24', '26': '24', '27': '24', '28': '24', '29': '24', '31': '30', '32': '30', '33': '30', '34': '30', '35': '30', '37': '36', '38': '36', '39': '36', '40': '36', '41': '36', '43': '42', '44': '42', '45': '42', '46': '42', '47': '42', '49': '48', '50': '48', '51': '48', '52': '48', '53': '48', '55': '54', '56': '54', '57': '54', '58': '54', '59': '54', '61': '60', '62': '60', '63': '60', '64': '60', '65': '60', '67': '66', '68': '66', '69': '66', '70': '66', '71': '66', '73': '72', '74': '72', '75': '72', '76': '72', '77': '72', '79': '78', '80': '78', '81': '78', '82': '78', '83': '78', '85': '84', '86': '84', '87': '84', '88': '84', '89': '84', '91': '90', '92': '90', '93': '90', '94': '90', '95': '90', '97': '96', '98': '96', '99': '96', '100': '96', '101': '96', '103': '102', '104': '102', '105': '102', '106': '102', '107': '102', '109': '108', '110': '108', '111': '108', '112': '108', '113': '108', '115': '114', '116': '114', '117': '114', '118': '114', '119': '114'}\n",
      "{'0': ['1', '2', '3', '4', '5'], '6': ['7', '8', '9', '10', '11'], '12': ['13', '14', '15', '16', '17'], '18': ['19', '20', '21', '22', '23'], '24': ['25', '26', '27', '28', '29'], '30': ['31', '32', '33', '34', '35'], '36': ['37', '38', '39', '40', '41'], '42': ['43', '44', '45', '46', '47'], '48': ['49', '50', '51', '52', '53'], '54': ['55', '56', '57', '58', '59'], '60': ['61', '62', '63', '64', '65'], '66': ['67', '68', '69', '70', '71'], '72': ['73', '74', '75', '76', '77'], '78': ['79', '80', '81', '82', '83'], '84': ['85', '86', '87', '88', '89'], '90': ['91', '92', '93', '94', '95'], '96': ['97', '98', '99', '100', '101'], '102': ['103', '104', '105', '106', '107'], '108': ['109', '110', '111', '112', '113'], '114': ['115', '116', '117', '118', '119']}\n"
     ]
    }
   ],
   "source": [
    "#obtain wordnet_id mappings for all parents-children\n",
    "with tf.io.gfile.GFile(child_map_path, mode='r') as f:\n",
    "    for line in f:\n",
    "        parent, child = line.split()\n",
    "        parent_map[child] = parent\n",
    "        if parent not in child_map:\n",
    "            child_map[parent] = [child]\n",
    "        else:\n",
    "            child_map[parent].append(child)\n",
    "f.close()\n",
    "print(parent_map)\n",
    "print(child_map)"
   ]
  },
  {
   "cell_type": "code",
   "execution_count": 38,
   "metadata": {
    "id": "zDv2CRlbzH8q"
   },
   "outputs": [
    {
     "name": "stdout",
     "output_type": "stream",
     "text": [
      "aquatic_mammal\n",
      "Descendants:\n",
      "\n",
      "\tw h a l e\n",
      "\n",
      "\ts e a l\n",
      "\n",
      "\to t t e r\n",
      "\n",
      "\td o l p h i n\n",
      "\n",
      "\tb e a v e r\n",
      "\n",
      "Ancestors:\n",
      "\n",
      "finish\n"
     ]
    }
   ],
   "source": [
    "# find details given wordnet_id\n",
    "category = '0' #'n02084071' is dog\n",
    "descendants = []\n",
    "ancestors = []\n",
    "# find Descendants and Ancestors\n",
    "print(words_map[category])\n",
    "# print(gloss_map[category]+\"\\n\")\n",
    "#list all children\n",
    "print(\"Descendants:\\n\")\n",
    "if category in child_map:\n",
    "  search = [child for child in child_map[category]]\n",
    "while search: # go over all children (BFS)\n",
    "  node = search.pop()\n",
    "  print(\"\\t\"+ blank.join(words_map[node])+\"\\n\")\n",
    "  descendants.append(blank.join(words_map[node])) # keep all descendant\n",
    "  if node in child_map: #has children\n",
    "    [search.append(child) for child in child_map[node]]\n",
    "\n",
    "#list all parents\n",
    "print(\"Ancestors:\\n\")\n",
    "if category in parent_map:\n",
    "  node = parent_map[category] # only one parent class\n",
    "else:\n",
    "  node = category\n",
    "while node in parent_map: # one way go up\n",
    "  print(\"\\t\"+ blank.join(words_map[node])+\"\\n\")\n",
    "  ancestors.append(blank.join(words_map[node])) # keep all ancestor\n",
    "  node = parent_map[node]\n",
    "print(\"finish\")"
   ]
  },
  {
   "cell_type": "code",
   "execution_count": 39,
   "metadata": {
    "id": "gReUKpVSzH8r"
   },
   "outputs": [],
   "source": [
    "# get imagenet_id: wordnet_id mapping. e.g., '0': 'n01440764'\n",
    "index_wdid = {}\n",
    "with tf.io.gfile.GFile(imagenet_label_to_wordnet_file, mode='r') as f:\n",
    "      for line in f:\n",
    "        if \"{'id'\" in line:\n",
    "#             print(line.split(\": {'\")[0].split(\"{\")[-1].split(\" \")[-1])\n",
    "#             print(line.split(\": {'\")[1].split(\"': '\")[-1].split(\"',\")[0])\n",
    "            index_wdid[line.split(\": {'\")[0].split(\"{\")[-1].split(\" \")[-1]] = line.split(\": {'\")[1].split(\"': '\")[-1].split(\"',\")[0]     # {0: {'id': '01440764-n',\n",
    "# print(index_wdid)"
   ]
  },
  {
   "cell_type": "markdown",
   "metadata": {
    "id": "wJ1xkt89qSSk"
   },
   "source": [
    "build hierarchy"
   ]
  },
  {
   "cell_type": "code",
   "execution_count": 40,
   "metadata": {
    "id": "SRMCK8HZzH8r"
   },
   "outputs": [],
   "source": [
    "# find ancestor, descendants and children for each class, may takes minites\n",
    "an_des_dict_json = {}\n",
    "for index in range(len(clip.IMAGENET_CLASSES)): # for 100 classes\n",
    "  category = index_wdid[str(index)]\n",
    "  an_des_dict_json[str(index)] = {}\n",
    "  descendants = []\n",
    "  ancestors = []\n",
    "  children = []\n",
    "  # find Descendants and Ancestors\n",
    "  #list all children\n",
    "  if category in child_map:\n",
    "    search = [child for child in child_map[category]] # here is only the child\n",
    "    children = [blank.join(words_map[ele]) for ele in search]\n",
    "  while search: # go over all children BFS priority queue\n",
    "    node = search.pop()\n",
    "    descendants.append(blank.join(words_map[node])) # keep all descendant\n",
    "    if node in child_map: #has children\n",
    "      [search.append(child) for child in child_map[node]]\n",
    "\n",
    "  #list all parents\n",
    "  node = parent_map[category] if category in parent_map else category\n",
    "  while node in parent_map: # one way go up\n",
    "    ancestors.append(blank.join(words_map[node])) # keep all ancestor\n",
    "    node = parent_map[node]\n",
    "\n",
    "  # save\n",
    "  an_des_dict_json[str(index)][\"wdid\"] = category\n",
    "  an_des_dict_json[str(index)][\"words_map\"] = blank.join(words_map[category])\n",
    "  an_des_dict_json[str(index)][\"clip_words_map\"] = clip.IMAGENET_CLASSES[index]\n",
    "  an_des_dict_json[str(index)][\"ancestors\"] = ancestors\n",
    "  an_des_dict_json[str(index)][\"descendants\"] = descendants\n",
    "  an_des_dict_json[str(index)][\"children\"] = children"
   ]
  },
  {
   "cell_type": "code",
   "execution_count": 41,
   "metadata": {},
   "outputs": [
    {
     "name": "stdout",
     "output_type": "stream",
     "text": [
      "{'0': {'wdid': '25', 'words_map': 'a p p l e', 'clip_words_map': 'apple', 'ancestors': [], 'descendants': [], 'children': []}, '1': {'wdid': '7', 'words_map': 'a q u a r i u m _ f i s h', 'clip_words_map': 'aquarium_fish', 'ancestors': [], 'descendants': [], 'children': []}, '2': {'wdid': '85', 'words_map': 'b a b y', 'clip_words_map': 'baby', 'ancestors': [], 'descendants': [], 'children': []}, '3': {'wdid': '49', 'words_map': 'b e a r', 'clip_words_map': 'bear', 'ancestors': [], 'descendants': [], 'children': []}, '4': {'wdid': '1', 'words_map': 'b e a v e r', 'clip_words_map': 'beaver', 'ancestors': [], 'descendants': [], 'children': []}, '5': {'wdid': '37', 'words_map': 'b e d', 'clip_words_map': 'bed', 'ancestors': [], 'descendants': [], 'children': []}, '6': {'wdid': '43', 'words_map': 'b e e', 'clip_words_map': 'bee', 'ancestors': [], 'descendants': [], 'children': []}, '7': {'wdid': '44', 'words_map': 'b e e t l e', 'clip_words_map': 'beetle', 'ancestors': [], 'descendants': [], 'children': []}, '8': {'wdid': '109', 'words_map': 'b i c y c l e', 'clip_words_map': 'bicycle', 'ancestors': [], 'descendants': [], 'children': []}, '9': {'wdid': '19', 'words_map': 'b o t t l e', 'clip_words_map': 'bottle', 'ancestors': [], 'descendants': [], 'children': []}, '10': {'wdid': '20', 'words_map': 'b o w l', 'clip_words_map': 'bowl', 'ancestors': [], 'descendants': [], 'children': []}, '11': {'wdid': '86', 'words_map': 'b o y', 'clip_words_map': 'boy', 'ancestors': [], 'descendants': [], 'children': []}, '12': {'wdid': '55', 'words_map': 'b r i d g e', 'clip_words_map': 'bridge', 'ancestors': [], 'descendants': [], 'children': []}, '13': {'wdid': '110', 'words_map': 'b u s', 'clip_words_map': 'bus', 'ancestors': [], 'descendants': [], 'children': []}, '14': {'wdid': '45', 'words_map': 'b u t t e r f l y', 'clip_words_map': 'butterfly', 'ancestors': [], 'descendants': [], 'children': []}, '15': {'wdid': '67', 'words_map': 'c a m e l', 'clip_words_map': 'camel', 'ancestors': [], 'descendants': [], 'children': []}, '16': {'wdid': '21', 'words_map': 'c a n', 'clip_words_map': 'can', 'ancestors': [], 'descendants': [], 'children': []}, '17': {'wdid': '56', 'words_map': 'c a s t l e', 'clip_words_map': 'castle', 'ancestors': [], 'descendants': [], 'children': []}, '18': {'wdid': '46', 'words_map': 'c a t e r p i l l a r', 'clip_words_map': 'caterpillar', 'ancestors': [], 'descendants': [], 'children': []}, '19': {'wdid': '68', 'words_map': 'c a t t l e', 'clip_words_map': 'cattle', 'ancestors': [], 'descendants': [], 'children': []}, '20': {'wdid': '38', 'words_map': 'c h a i r', 'clip_words_map': 'chair', 'ancestors': [], 'descendants': [], 'children': []}, '21': {'wdid': '69', 'words_map': 'c h i m p a n z e e', 'clip_words_map': 'chimpanzee', 'ancestors': [], 'descendants': [], 'children': []}, '22': {'wdid': '31', 'words_map': 'c l o c k', 'clip_words_map': 'clock', 'ancestors': [], 'descendants': [], 'children': []}, '23': {'wdid': '61', 'words_map': 'c l o u d', 'clip_words_map': 'cloud', 'ancestors': [], 'descendants': [], 'children': []}, '24': {'wdid': '47', 'words_map': 'c o c k r o a c h', 'clip_words_map': 'cockroach', 'ancestors': [], 'descendants': [], 'children': []}, '25': {'wdid': '39', 'words_map': 'c o u c h', 'clip_words_map': 'couch', 'ancestors': [], 'descendants': [], 'children': []}, '26': {'wdid': '79', 'words_map': 'c r a b', 'clip_words_map': 'crab', 'ancestors': [], 'descendants': [], 'children': []}, '27': {'wdid': '91', 'words_map': 'c r o c o d i l e', 'clip_words_map': 'crocodile', 'ancestors': [], 'descendants': [], 'children': []}, '28': {'wdid': '22', 'words_map': 'c u p', 'clip_words_map': 'cup', 'ancestors': [], 'descendants': [], 'children': []}, '29': {'wdid': '92', 'words_map': 'd i n o s a u r', 'clip_words_map': 'dinosaur', 'ancestors': [], 'descendants': [], 'children': []}, '30': {'wdid': '2', 'words_map': 'd o l p h i n', 'clip_words_map': 'dolphin', 'ancestors': [], 'descendants': [], 'children': []}, '31': {'wdid': '70', 'words_map': 'e l e p h a n t', 'clip_words_map': 'elephant', 'ancestors': [], 'descendants': [], 'children': []}, '32': {'wdid': '8', 'words_map': 'f l a t f i s h', 'clip_words_map': 'flatfish', 'ancestors': [], 'descendants': [], 'children': []}, '33': {'wdid': '62', 'words_map': 'f o r e s t', 'clip_words_map': 'forest', 'ancestors': [], 'descendants': [], 'children': []}, '34': {'wdid': '73', 'words_map': 'f o x', 'clip_words_map': 'fox', 'ancestors': [], 'descendants': [], 'children': []}, '35': {'wdid': '87', 'words_map': 'g i r l', 'clip_words_map': 'girl', 'ancestors': [], 'descendants': [], 'children': []}, '36': {'wdid': '97', 'words_map': 'h a m s t e r', 'clip_words_map': 'hamster', 'ancestors': [], 'descendants': [], 'children': []}, '37': {'wdid': '57', 'words_map': 'h o u s e', 'clip_words_map': 'house', 'ancestors': [], 'descendants': [], 'children': []}, '38': {'wdid': '71', 'words_map': 'k a n g a r o o', 'clip_words_map': 'kangaroo', 'ancestors': [], 'descendants': [], 'children': []}, '39': {'wdid': '32', 'words_map': 'k e y b o a r d', 'clip_words_map': 'keyboard', 'ancestors': [], 'descendants': [], 'children': []}, '40': {'wdid': '33', 'words_map': 'l a m p', 'clip_words_map': 'lamp', 'ancestors': [], 'descendants': [], 'children': []}, '41': {'wdid': '115', 'words_map': 'l a w n _ m o w e r', 'clip_words_map': 'lawn_mower', 'ancestors': [], 'descendants': [], 'children': []}, '42': {'wdid': '50', 'words_map': 'l e o p a r d', 'clip_words_map': 'leopard', 'ancestors': [], 'descendants': [], 'children': []}, '43': {'wdid': '51', 'words_map': 'l i o n', 'clip_words_map': 'lion', 'ancestors': [], 'descendants': [], 'children': []}, '44': {'wdid': '93', 'words_map': 'l i z a r d', 'clip_words_map': 'lizard', 'ancestors': [], 'descendants': [], 'children': []}, '45': {'wdid': '80', 'words_map': 'l o b s t e r', 'clip_words_map': 'lobster', 'ancestors': [], 'descendants': [], 'children': []}, '46': {'wdid': '88', 'words_map': 'm a n', 'clip_words_map': 'man', 'ancestors': [], 'descendants': [], 'children': []}, '47': {'wdid': '103', 'words_map': 'm a p l e _ t r e e', 'clip_words_map': 'maple_tree', 'ancestors': [], 'descendants': [], 'children': []}, '48': {'wdid': '111', 'words_map': 'm o t o r c y c l e', 'clip_words_map': 'motorcycle', 'ancestors': [], 'descendants': [], 'children': []}, '49': {'wdid': '63', 'words_map': 'm o u n t a i n', 'clip_words_map': 'mountain', 'ancestors': [], 'descendants': [], 'children': []}, '50': {'wdid': '98', 'words_map': 'm o u s e', 'clip_words_map': 'mouse', 'ancestors': [], 'descendants': [], 'children': []}, '51': {'wdid': '26', 'words_map': 'm u s h r o o m', 'clip_words_map': 'mushroom', 'ancestors': [], 'descendants': [], 'children': []}, '52': {'wdid': '104', 'words_map': 'o a k _ t r e e', 'clip_words_map': 'oak_tree', 'ancestors': [], 'descendants': [], 'children': []}, '53': {'wdid': '27', 'words_map': 'o r a n g e', 'clip_words_map': 'orange', 'ancestors': [], 'descendants': [], 'children': []}, '54': {'wdid': '13', 'words_map': 'o r c h i d', 'clip_words_map': 'orchid', 'ancestors': [], 'descendants': [], 'children': []}, '55': {'wdid': '3', 'words_map': 'o t t e r', 'clip_words_map': 'otter', 'ancestors': [], 'descendants': [], 'children': []}, '56': {'wdid': '105', 'words_map': 'p a l m _ t r e e', 'clip_words_map': 'palm_tree', 'ancestors': [], 'descendants': [], 'children': []}, '57': {'wdid': '28', 'words_map': 'p e a r', 'clip_words_map': 'pear', 'ancestors': [], 'descendants': [], 'children': []}, '58': {'wdid': '112', 'words_map': 'p i c k u p _ t r u c k', 'clip_words_map': 'pickup_truck', 'ancestors': [], 'descendants': [], 'children': []}, '59': {'wdid': '106', 'words_map': 'p i n e _ t r e e', 'clip_words_map': 'pine_tree', 'ancestors': [], 'descendants': [], 'children': []}, '60': {'wdid': '64', 'words_map': 'p l a i n', 'clip_words_map': 'plain', 'ancestors': [], 'descendants': [], 'children': []}, '61': {'wdid': '23', 'words_map': 'p l a t e', 'clip_words_map': 'plate', 'ancestors': [], 'descendants': [], 'children': []}, '62': {'wdid': '14', 'words_map': 'p o p p y', 'clip_words_map': 'poppy', 'ancestors': [], 'descendants': [], 'children': []}, '63': {'wdid': '74', 'words_map': 'p o r c u p i n e', 'clip_words_map': 'porcupine', 'ancestors': [], 'descendants': [], 'children': []}, '64': {'wdid': '75', 'words_map': 'p o s s u m', 'clip_words_map': 'possum', 'ancestors': [], 'descendants': [], 'children': []}, '65': {'wdid': '99', 'words_map': 'r a b b i t', 'clip_words_map': 'rabbit', 'ancestors': [], 'descendants': [], 'children': []}, '66': {'wdid': '76', 'words_map': 'r a c c o o n', 'clip_words_map': 'raccoon', 'ancestors': [], 'descendants': [], 'children': []}, '67': {'wdid': '9', 'words_map': 'r a y', 'clip_words_map': 'ray', 'ancestors': [], 'descendants': [], 'children': []}, '68': {'wdid': '58', 'words_map': 'r o a d', 'clip_words_map': 'road', 'ancestors': [], 'descendants': [], 'children': []}, '69': {'wdid': '116', 'words_map': 'r o c k e t', 'clip_words_map': 'rocket', 'ancestors': [], 'descendants': [], 'children': []}, '70': {'wdid': '15', 'words_map': 'r o s e', 'clip_words_map': 'rose', 'ancestors': [], 'descendants': [], 'children': []}, '71': {'wdid': '65', 'words_map': 's e a', 'clip_words_map': 'sea', 'ancestors': [], 'descendants': [], 'children': []}, '72': {'wdid': '4', 'words_map': 's e a l', 'clip_words_map': 'seal', 'ancestors': [], 'descendants': [], 'children': []}, '73': {'wdid': '10', 'words_map': 's h a r k', 'clip_words_map': 'shark', 'ancestors': [], 'descendants': [], 'children': []}, '74': {'wdid': '100', 'words_map': 's h r e w', 'clip_words_map': 'shrew', 'ancestors': [], 'descendants': [], 'children': []}, '75': {'wdid': '77', 'words_map': 's k u n k', 'clip_words_map': 'skunk', 'ancestors': [], 'descendants': [], 'children': []}, '76': {'wdid': '59', 'words_map': 's k y s c r a p e r', 'clip_words_map': 'skyscraper', 'ancestors': [], 'descendants': [], 'children': []}, '77': {'wdid': '81', 'words_map': 's n a i l', 'clip_words_map': 'snail', 'ancestors': [], 'descendants': [], 'children': []}, '78': {'wdid': '94', 'words_map': 's n a k e', 'clip_words_map': 'snake', 'ancestors': [], 'descendants': [], 'children': []}, '79': {'wdid': '82', 'words_map': 's p i d e r', 'clip_words_map': 'spider', 'ancestors': [], 'descendants': [], 'children': []}, '80': {'wdid': '101', 'words_map': 's q u i r r e l', 'clip_words_map': 'squirrel', 'ancestors': [], 'descendants': [], 'children': []}, '81': {'wdid': '117', 'words_map': 's t r e e t c a r', 'clip_words_map': 'streetcar', 'ancestors': [], 'descendants': [], 'children': []}, '82': {'wdid': '16', 'words_map': 's u n f l o w e r', 'clip_words_map': 'sunflower', 'ancestors': [], 'descendants': [], 'children': []}, '83': {'wdid': '29', 'words_map': 's w e e t _ p e p p e r', 'clip_words_map': 'sweet_pepper', 'ancestors': [], 'descendants': [], 'children': []}, '84': {'wdid': '40', 'words_map': 't a b l e', 'clip_words_map': 'table', 'ancestors': [], 'descendants': [], 'children': []}, '85': {'wdid': '118', 'words_map': 't a n k', 'clip_words_map': 'tank', 'ancestors': [], 'descendants': [], 'children': []}, '86': {'wdid': '34', 'words_map': 't e l e p h o n e', 'clip_words_map': 'telephone', 'ancestors': [], 'descendants': [], 'children': []}, '87': {'wdid': '35', 'words_map': 't e l e v i s i o n', 'clip_words_map': 'television', 'ancestors': [], 'descendants': [], 'children': []}, '88': {'wdid': '52', 'words_map': 't i g e r', 'clip_words_map': 'tiger', 'ancestors': [], 'descendants': [], 'children': []}, '89': {'wdid': '119', 'words_map': 't r a c t o r', 'clip_words_map': 'tractor', 'ancestors': [], 'descendants': [], 'children': []}, '90': {'wdid': '113', 'words_map': 't r a i n', 'clip_words_map': 'train', 'ancestors': [], 'descendants': [], 'children': []}, '91': {'wdid': '11', 'words_map': 't r o u t', 'clip_words_map': 'trout', 'ancestors': [], 'descendants': [], 'children': []}, '92': {'wdid': '17', 'words_map': 't u l i p', 'clip_words_map': 'tulip', 'ancestors': [], 'descendants': [], 'children': []}, '93': {'wdid': '95', 'words_map': 't u r t l e', 'clip_words_map': 'turtle', 'ancestors': [], 'descendants': [], 'children': []}, '94': {'wdid': '41', 'words_map': 'w a r d r o b e', 'clip_words_map': 'wardrobe', 'ancestors': [], 'descendants': [], 'children': []}, '95': {'wdid': '5', 'words_map': 'w h a l e', 'clip_words_map': 'whale', 'ancestors': [], 'descendants': [], 'children': []}, '96': {'wdid': '107', 'words_map': 'w i l l o w _ t r e e', 'clip_words_map': 'willow_tree', 'ancestors': [], 'descendants': [], 'children': []}, '97': {'wdid': '53', 'words_map': 'w o l f', 'clip_words_map': 'wolf', 'ancestors': [], 'descendants': [], 'children': []}, '98': {'wdid': '89', 'words_map': 'w o m a n', 'clip_words_map': 'woman', 'ancestors': [], 'descendants': [], 'children': []}, '99': {'wdid': '83', 'words_map': 'w o r m', 'clip_words_map': 'worm', 'ancestors': [], 'descendants': [], 'children': []}}\n"
     ]
    }
   ],
   "source": [
    "print(an_des_dict_json)"
   ]
  },
  {
   "cell_type": "markdown",
   "metadata": {
    "id": "FJtim-_cJpVs"
   },
   "source": [
    "### Utility functions for finding descendants and ancestors"
   ]
  },
  {
   "cell_type": "code",
   "execution_count": 46,
   "metadata": {
    "id": "FcHqCy_PAP3s"
   },
   "outputs": [],
   "source": [
    "# TODO(yunhaoge) Add examples for using the functions\n",
    "\n",
    "def bottom_up_hierarchy(max_depth_ancestor=1, max_depth_descendant=0, use_children=False):\n",
    "  \"\"\"Obtain the class list by considering hierarchy\n",
    "    here consisder only descendent because max_depth_ancestor=0\n",
    "  \"\"\"\n",
    "  # Consider ancedescendant into clip zero-shot\n",
    "  class_an_des_mapping = [] # start index of each imagenet class, used for following aggregation\n",
    "  imagenet_classes_an_des = []\n",
    "  class_an_des_mapping_list = [] # index details of each imagenet class\n",
    "  i = 0\n",
    "  for imagenet_idx, classname in enumerate(clip.IMAGENET_CLASSES):\n",
    "    class_an_des_mapping.append(i)\n",
    "    imagenet_classes_an_des.append(classname) # add original class name\n",
    "    class_an_des_list = [] # relevant id for specific class\n",
    "    i += 1 # add index first\n",
    "    class_an_des_list.append(i)\n",
    "    node_ancestors = an_des_dict_json[str(imagenet_idx)][\"ancestors\"]\n",
    "    if use_children: # consider only children\n",
    "      node_descendants = an_des_dict_json[str(imagenet_idx)][\"children\"]\n",
    "    else:\n",
    "      node_descendants = an_des_dict_json[str(imagenet_idx)][\"descendants\"]\n",
    "\n",
    "    for an_idx, ancestor in enumerate(node_ancestors): # select ancestors\n",
    "      if an_idx < max_depth_ancestor:\n",
    "        if comma_blank in ancestor: # contains synonym, more than one, keep only one\n",
    "          imagenet_classes_an_des.append(ancestor.split(comma_blank)[0])\n",
    "          i += 1\n",
    "          class_an_des_list.append(i)\n",
    "        else:\n",
    "          imagenet_classes_an_des.append(ancestor)\n",
    "          i += 1\n",
    "          class_an_des_list.append(i)\n",
    "    for des_idx, descentant in enumerate(node_descendants): # select descendants\n",
    "      if des_idx < max_depth_descendant:\n",
    "        if comma_blank in descentant: # contains synonym, more than one, keep only one\n",
    "          imagenet_classes_an_des.append(descentant.split(comma_blank)[0])\n",
    "          i += 1\n",
    "          class_an_des_list.append(i)\n",
    "        else:\n",
    "          imagenet_classes_an_des.append(descentant)\n",
    "          i += 1\n",
    "          class_an_des_list.append(i)\n",
    "    class_an_des_mapping_list.append(class_an_des_list)\n",
    "  return imagenet_classes_an_des, class_an_des_mapping, class_an_des_mapping_list"
   ]
  },
  {
   "cell_type": "code",
   "execution_count": 47,
   "metadata": {
    "id": "RJxTyrVFt2_k"
   },
   "outputs": [],
   "source": [
    "def top_down_hierarchy(interest_case, clip_templete, use_LCA = True, use_ancestor = True):\n",
    "  \"\"\"Obtain the word list by adding LCA.\"\"\"\n",
    "  # interest_case\n",
    "  logits_ori_all = []\n",
    "  for idx, interest_case_ele in enumerate(tqdm(interest_case)):\n",
    "    # original word embedding\n",
    "    word_list_ori = np.array(clip.IMAGENET_CLASSES)[np.array(interest_case_ele)].tolist()\n",
    "    if use_LCA: # add LCA/A\n",
    "      if use_ancestor: # use Ancestor\n",
    "        word_list =  [word + blank + A_all[idx] for word in word_list_ori]\n",
    "      else: # use LCA\n",
    "        word_list =  [word + blank + LCA_all[idx] for word in word_list_ori]\n",
    "    else:\n",
    "      word_list =  [word for word in word_list_ori]\n",
    "  return word_list"
   ]
  },
  {
   "cell_type": "code",
   "execution_count": 48,
   "metadata": {
    "id": "Vnd06rNSpckx"
   },
   "outputs": [],
   "source": [
    "# fine the LCA for each image top 5\n",
    "def find_LCA(top5_ancestor): # general\n",
    "  \"\"\"Obtain the Lowest comman ancestor of top 5 classes.\n",
    "\n",
    "  Args:\n",
    "      top5_ancestor: List of the ancestors for each candidate class\n",
    "  Returns:\n",
    "      LCA: Str, lowest comman ancestor\n",
    "  \"\"\"\n",
    "  LCA = 'physical entity'\n",
    "  # while (1) still have ancestor\n",
    "  while min([len(ele) for ele in top5_ancestor]) > 0 :\n",
    "    # find the highest for each class in topk\n",
    "    current_roots = [topk_ancestor.pop() for topk_ancestor in top5_ancestor]\n",
    "    current_roots_freq = Counter(current_roots)\n",
    "    current_roots_freq = sorted(current_roots_freq.items(), key=lambda x: x[1], reverse=True) # become a list e.g.,[('ee', 2), ('ww', 1), ('cc', 1)]\n",
    "    majority, majority_freq = current_roots_freq[0]\n",
    "    if majority_freq == 5:\n",
    "      LCA = majority if comma_blank not in majority else majority.split(comma_blank)[0]\n",
    "  return LCA"
   ]
  },
  {
   "cell_type": "markdown",
   "metadata": {
    "id": "uMul_5Icp7QL"
   },
   "source": [
    "## Uncertainty Estimation"
   ]
  },
  {
   "cell_type": "code",
   "execution_count": 49,
   "metadata": {
    "id": "5Rk2yUw-EfoT"
   },
   "outputs": [],
   "source": [
    "# with children\n",
    "# hierarchy ImageNet class work on same h for each class\n",
    "max_depth_ancestor = 1 # here only consider descendent\n",
    "max_depth_children = 0 # could change\n",
    "imagenet_bottom_up_first_index_list = []\n",
    "imagenet_bottom_up_all_classes = []\n",
    "imagenet_bottom_up_mapping_index_list = [] # add list for analysis\n",
    "i = 0\n",
    "for imagenet_idx, classname in enumerate(clip.IMAGENET_CLASSES):\n",
    "  imagenet_bottom_up_first_index_list.append(i) # index of each imagenet class\n",
    "  imagenet_bottom_up_all_classes.append(classname) # add original class name\n",
    "  class_an_des_list = [] # relevant id for specific class\n",
    "  i += 1 # add index first\n",
    "  class_an_des_list.append(i)\n",
    "  node_ancestors = an_des_dict_json[str(imagenet_idx)][\"ancestors\"]\n",
    "  node_children = an_des_dict_json[str(imagenet_idx)][\"children\"]\n",
    "\n",
    "  for an_idx, ancestor in enumerate(node_ancestors): # select ancestors\n",
    "    if an_idx < max_depth_ancestor:\n",
    "      if \", \" in ancestor: # contains synonym, more than one, keep only one\n",
    "        imagenet_bottom_up_all_classes.append(ancestor.split(\", \")[0])\n",
    "        i += 1\n",
    "        class_an_des_list.append(i)\n",
    "      else:\n",
    "        imagenet_bottom_up_all_classes.append(ancestor)\n",
    "        i += 1\n",
    "        class_an_des_list.append(i)\n",
    "  for des_idx, descentant in enumerate(node_children): # select descendants\n",
    "    if des_idx < max_depth_children:\n",
    "      if \", \" in descentant: # contains synonym, more than one, keep only one\n",
    "        imagenet_bottom_up_all_classes.append(descentant.split(\", \")[0])\n",
    "        i += 1\n",
    "        class_an_des_list.append(i)\n",
    "      else:\n",
    "        imagenet_bottom_up_all_classes.append(descentant)\n",
    "        i += 1\n",
    "        class_an_des_list.append(i)\n",
    "  imagenet_bottom_up_mapping_index_list.append(class_an_des_list)"
   ]
  },
  {
   "cell_type": "markdown",
   "metadata": {
    "id": "AWKb_k1Cpx67"
   },
   "source": [
    "len(imagenet_bottom_up_mapping_index_list) = 1000, each element is the source node and its children"
   ]
  },
  {
   "cell_type": "code",
   "execution_count": 50,
   "metadata": {
    "id": "dhfhjVBqEVs6"
   },
   "outputs": [],
   "source": [
    "imagenet_classes_an_des, class_an_des_mapping, class_an_des_mapping_list = bottom_up_hierarchy(max_depth_descendant=0)\n",
    "# len(imagenet_classes_an_des) = 1971. word\n",
    "# len(class_an_des_mapping) = 1000. starting index of each class among 1971\n",
    "# len(class_an_des_mapping_list) = 1000."
   ]
  },
  {
   "cell_type": "code",
   "execution_count": 51,
   "metadata": {
    "id": "cJUHp35n4r8G"
   },
   "outputs": [],
   "source": [
    "def compute_accuracy_details(logits, labels):\n",
    "  top_probs, top_labels = jax.lax.top_k(logits, 5)\n",
    "  top1 = 100 * jnp.mean(top_labels[:, 0] == labels)\n",
    "  top5 = 100 * jnp.sum(top_labels == labels[:, None]) / labels.shape[0]\n",
    "  return top1, top5, top_probs, top_labels"
   ]
  },
  {
   "cell_type": "code",
   "execution_count": 52,
   "metadata": {
    "id": "WU8H2Ov34qjx"
   },
   "outputs": [
    {
     "name": "stdout",
     "output_type": "stream",
     "text": [
      "Prompt Engineering: top1=38.55%, top5=67.42%\n",
      "Class Names: top1=32.03%, top5=59.90%\n"
     ]
    }
   ],
   "source": [
    "top1_prompt, top5_prompt, top5_prompt_probs, top5_prompt_labels = compute_accuracy_details(logits_prompteng, labels)\n",
    "top1_name, top5_name, top5_name_probs, top5_name_labels = compute_accuracy_details(logits_name, labels)\n",
    "print(f'Prompt Engineering: top1={top1_prompt:.2f}%, top5={top5_prompt:.2f}%')\n",
    "print(f'Class Names: top1={top1_name:.2f}%, top5={top5_name:.2f}%')"
   ]
  },
  {
   "cell_type": "code",
   "execution_count": 53,
   "metadata": {
    "id": "6_1-Kd1oGtEA"
   },
   "outputs": [],
   "source": [
    "# continuous uncertatinty value calculation\n",
    "def continuous_uncertainty_estimation(prompts=clip.PROMPTS, name_prediction=top5_name_labels[:, 0]):\n",
    "  \"\"\"obtain continuous confidence score for each image\"\"\"\n",
    "\n",
    "  # prompts decision\n",
    "  prompts_slice_log = []\n",
    "  for sample_id in range(len(prompts)): # for each different prompts\n",
    "    prompteng_slice = zeroshot_classifier(clip.IMAGENET_CLASSES, [prompts[sample_id]]) #select one each time\n",
    "    logits_slice = np.matmul(embeddings, prompteng_slice) # compute the logits\n",
    "    probs_slice = np.array(jax.nn.softmax(logits_slice, axis=-1))\n",
    "    preds_slice = jnp.argmax(probs_slice, axis=-1)\n",
    "    prompts_slice_log.append(preds_slice)\n",
    "\n",
    "  prompts_slice_log_array = np.array(prompts_slice_log) # (len(prompts), 50000)\n",
    "\n",
    "  # compare with no-prompts and use consistency to get the confidence score\n",
    "  consistency_with_nonpromp = prompts_slice_log_array == name_prediction\n",
    "  consistency_with_nonpromp_log = sum(consistency_with_nonpromp, axis=0)\n",
    "  confidence_sort_index = numpy.argsort(consistency_with_nonpromp_log) # form small to large\n",
    "\n",
    "  return prompts_slice_log_array, consistency_with_nonpromp_log, confidence_sort_index"
   ]
  },
  {
   "cell_type": "code",
   "execution_count": 54,
   "metadata": {},
   "outputs": [],
   "source": [
    "name_prediction=top5_name_labels[:, 0]\n",
    "prompt_prediction = top5_prompt_labels[:, 0]"
   ]
  },
  {
   "cell_type": "code",
   "execution_count": 55,
   "metadata": {
    "id": "ylNICVcG5pR0"
   },
   "outputs": [
    {
     "name": "stderr",
     "output_type": "stream",
     "text": [
      "100%|██████████| 100/100 [00:04<00:00, 23.87it/s]\n",
      "100%|██████████| 100/100 [00:04<00:00, 22.84it/s]\n",
      "100%|██████████| 100/100 [00:03<00:00, 26.66it/s]\n",
      "100%|██████████| 100/100 [00:03<00:00, 25.70it/s]\n",
      "100%|██████████| 100/100 [00:03<00:00, 25.95it/s]\n",
      "100%|██████████| 100/100 [00:03<00:00, 26.93it/s]\n",
      "100%|██████████| 100/100 [00:03<00:00, 26.68it/s]\n",
      "100%|██████████| 100/100 [00:04<00:00, 24.20it/s]\n",
      "100%|██████████| 100/100 [00:03<00:00, 26.24it/s]\n",
      "100%|██████████| 100/100 [00:03<00:00, 26.82it/s]\n",
      "100%|██████████| 100/100 [00:03<00:00, 25.54it/s]\n",
      "100%|██████████| 100/100 [00:03<00:00, 25.85it/s]\n",
      "100%|██████████| 100/100 [00:04<00:00, 24.97it/s]\n",
      "100%|██████████| 100/100 [00:04<00:00, 23.27it/s]\n",
      "100%|██████████| 100/100 [00:03<00:00, 26.35it/s]\n",
      "100%|██████████| 100/100 [00:03<00:00, 26.19it/s]\n",
      "100%|██████████| 100/100 [00:03<00:00, 25.90it/s]\n",
      "100%|██████████| 100/100 [00:04<00:00, 23.04it/s]\n",
      "100%|██████████| 100/100 [00:04<00:00, 23.01it/s]\n",
      "100%|██████████| 100/100 [00:03<00:00, 26.02it/s]\n",
      "100%|██████████| 100/100 [00:03<00:00, 25.14it/s]\n",
      "100%|██████████| 100/100 [00:03<00:00, 26.97it/s]\n",
      "100%|██████████| 100/100 [00:03<00:00, 26.04it/s]\n",
      "100%|██████████| 100/100 [00:03<00:00, 26.38it/s]\n",
      "100%|██████████| 100/100 [00:03<00:00, 25.21it/s]\n",
      "100%|██████████| 100/100 [00:03<00:00, 26.11it/s]\n",
      "100%|██████████| 100/100 [00:03<00:00, 25.73it/s]\n",
      "100%|██████████| 100/100 [00:04<00:00, 23.82it/s]\n",
      "100%|██████████| 100/100 [00:03<00:00, 25.34it/s]\n",
      "100%|██████████| 100/100 [00:04<00:00, 24.72it/s]\n",
      "100%|██████████| 100/100 [00:03<00:00, 26.08it/s]\n",
      "100%|██████████| 100/100 [00:04<00:00, 24.83it/s]\n",
      "100%|██████████| 100/100 [00:03<00:00, 26.38it/s]\n",
      "100%|██████████| 100/100 [00:03<00:00, 25.87it/s]\n",
      "100%|██████████| 100/100 [00:03<00:00, 26.00it/s]\n",
      "100%|██████████| 100/100 [00:04<00:00, 24.04it/s]\n",
      "100%|██████████| 100/100 [00:03<00:00, 25.92it/s]\n",
      "100%|██████████| 100/100 [00:03<00:00, 26.15it/s]\n",
      "100%|██████████| 100/100 [00:03<00:00, 25.37it/s]\n",
      "100%|██████████| 100/100 [00:04<00:00, 24.53it/s]\n",
      "100%|██████████| 100/100 [00:03<00:00, 25.49it/s]\n",
      "100%|██████████| 100/100 [00:04<00:00, 21.89it/s]\n",
      "100%|██████████| 100/100 [00:03<00:00, 26.24it/s]\n",
      "100%|██████████| 100/100 [00:03<00:00, 26.13it/s]\n",
      "100%|██████████| 100/100 [00:03<00:00, 25.89it/s]\n",
      "100%|██████████| 100/100 [00:03<00:00, 26.10it/s]\n",
      "100%|██████████| 100/100 [00:03<00:00, 25.50it/s]\n",
      "100%|██████████| 100/100 [00:04<00:00, 24.62it/s]\n",
      "100%|██████████| 100/100 [00:03<00:00, 25.20it/s]\n",
      "100%|██████████| 100/100 [00:03<00:00, 26.36it/s]\n",
      "100%|██████████| 100/100 [00:03<00:00, 26.31it/s]\n",
      "100%|██████████| 100/100 [00:03<00:00, 26.25it/s]\n",
      "100%|██████████| 100/100 [00:04<00:00, 23.96it/s]\n",
      "100%|██████████| 100/100 [00:03<00:00, 25.70it/s]\n",
      "100%|██████████| 100/100 [00:03<00:00, 27.20it/s]\n",
      "100%|██████████| 100/100 [00:03<00:00, 26.53it/s]\n",
      "100%|██████████| 100/100 [00:03<00:00, 26.20it/s]\n",
      "100%|██████████| 100/100 [00:03<00:00, 25.78it/s]\n",
      "100%|██████████| 100/100 [00:03<00:00, 25.68it/s]\n",
      "100%|██████████| 100/100 [00:03<00:00, 26.50it/s]\n",
      "100%|██████████| 100/100 [00:03<00:00, 26.31it/s]\n",
      "100%|██████████| 100/100 [00:03<00:00, 26.41it/s]\n",
      "100%|██████████| 100/100 [00:03<00:00, 26.36it/s]\n",
      "100%|██████████| 100/100 [00:03<00:00, 25.28it/s]\n",
      "100%|██████████| 100/100 [00:04<00:00, 23.83it/s]\n",
      "100%|██████████| 100/100 [00:03<00:00, 26.52it/s]\n",
      "100%|██████████| 100/100 [00:03<00:00, 26.60it/s]\n",
      "100%|██████████| 100/100 [00:03<00:00, 26.97it/s]\n",
      "100%|██████████| 100/100 [00:03<00:00, 26.41it/s]\n",
      "100%|██████████| 100/100 [00:03<00:00, 26.78it/s]\n",
      "100%|██████████| 100/100 [00:04<00:00, 24.63it/s]\n",
      "100%|██████████| 100/100 [00:03<00:00, 27.07it/s]\n",
      "100%|██████████| 100/100 [00:03<00:00, 26.30it/s]\n",
      "100%|██████████| 100/100 [00:03<00:00, 25.25it/s]\n",
      "100%|██████████| 100/100 [00:03<00:00, 26.34it/s]\n",
      "100%|██████████| 100/100 [00:04<00:00, 24.36it/s]\n",
      "100%|██████████| 100/100 [00:04<00:00, 22.99it/s]\n",
      "100%|██████████| 100/100 [00:03<00:00, 25.21it/s]\n",
      "100%|██████████| 100/100 [00:03<00:00, 25.79it/s]\n",
      "100%|██████████| 100/100 [00:03<00:00, 25.71it/s]\n",
      "/usr/local/lib/python3.10/dist-packages/jax/_src/numpy/lax_numpy.py:3961: UserWarning: 'kind' argument to argsort is ignored; only 'stable' sorts are supported.\n",
      "  warnings.warn(\"'kind' argument to argsort is ignored; only 'stable' sorts \"\n"
     ]
    },
    {
     "data": {
      "text/plain": [
       "Array(0.0473, dtype=float32)"
      ]
     },
     "execution_count": 55,
     "metadata": {},
     "output_type": "execute_result"
    }
   ],
   "source": [
    "prompts_slice_log_array, consistency_with_nonpromp_log, confidence_sort_index = continuous_uncertainty_estimation()\n",
    "\n",
    "# Calculate accuracy of the low confidence set\n",
    "low_confident_set_size = 10000\n",
    "low_confident_set_index = confidence_sort_index[:low_confident_set_size]\n",
    "# Computed accuracy for the low confidence set\n",
    "acc = np.mean(name_prediction[np.array(low_confident_set_index)] == labels[low_confident_set_index])\n",
    "acc"
   ]
  },
  {
   "cell_type": "markdown",
   "metadata": {
    "id": "stxXR-Leus3E"
   },
   "source": [
    "## Hierarchy-CLIP"
   ]
  },
  {
   "cell_type": "markdown",
   "metadata": {
    "id": "vn6hvP-7fYbf"
   },
   "source": [
    "### Continuous Solution"
   ]
  },
  {
   "cell_type": "code",
   "execution_count": 56,
   "metadata": {
    "id": "tPz9nJZmCC8H"
   },
   "outputs": [],
   "source": [
    "an_des_dict = an_des_dict_json"
   ]
  },
  {
   "cell_type": "code",
   "execution_count": 57,
   "metadata": {
    "id": "ugX9IXHvCEaz"
   },
   "outputs": [],
   "source": [
    "def zeroshot_classifier_hierarchy(classnames, templates, permute=False):\n",
    "  zeroshot_weights = []\n",
    "  permute_fn = permute_words if permute else lambda x: x\n",
    "  for classname in classnames:\n",
    "    texts = [permute_fn(template.format(classname.split('|')[0]) + template.format(classname.split('|')[1])) for template in templates]\n",
    "    class_embeddings = encode_text(tokenize_fn(texts))\n",
    "    class_embedding = class_embeddings.mean(0)\n",
    "    class_embedding /= jnp.linalg.norm(class_embedding)\n",
    "    zeroshot_weights.append(class_embedding)\n",
    "  return jnp.stack(zeroshot_weights, axis=1)"
   ]
  },
  {
   "cell_type": "code",
   "execution_count": 58,
   "metadata": {
    "id": "vpu-BSCfVWNU"
   },
   "outputs": [],
   "source": [
    "def compute_accuracy_rerank(logits, ori_labels, labels):\n",
    "  \"\"\"based on logits, reorder the ori_top5_labels and compare with true labels\"\"\"\n",
    "\n",
    "  top_probs, top_labels_index = jax.lax.top_k(logits, 1)\n",
    "  top_labels = np.array([ele[top_labels_index[idx]] for idx, ele in enumerate(tqdm(ori_labels))])\n",
    "  top1 = 100 * jnp.mean(top_labels[:, 0] == labels)\n",
    "  return top1, top_probs, top_labels"
   ]
  },
  {
   "cell_type": "code",
   "execution_count": 59,
   "metadata": {},
   "outputs": [],
   "source": [
    "name_prediction=top5_name_labels[:, 0]\n",
    "prompt_prediction = top5_prompt_labels[:, 0]"
   ]
  },
  {
   "cell_type": "code",
   "execution_count": 60,
   "metadata": {
    "id": "q81hCYl6qA84"
   },
   "outputs": [
    {
     "name": "stderr",
     "output_type": "stream",
     "text": [
      "1000it [03:06,  5.36it/s]\n",
      "100%|██████████| 1000/1000 [00:00<00:00, 1536.55it/s]"
     ]
    },
    {
     "name": "stdout",
     "output_type": "stream",
     "text": [
      "acc_stable: 0.32616326\n",
      "acc_unstable_ori: 0.034\n",
      "acc_unstable_with_Hierarchy-CLIP: 16.900002\n",
      "overall_acc_with_Hierarchy-CLIP: 32.302\n"
     ]
    },
    {
     "name": "stderr",
     "output_type": "stream",
     "text": [
      "\n"
     ]
    }
   ],
   "source": [
    "# Bottom-up and top-down augmented inference\n",
    "\n",
    "from collections import Counter\n",
    "\n",
    "an_des_dict = an_des_dict_json # simplified wordnet\n",
    "fill_empty_parent = ''\n",
    "unstable_num = 1000\n",
    "# stable set and unstable set\n",
    "unstable_index = confidence_sort_index[:unstable_num] # number of rejected/unstable images\n",
    "stable_index = np.array(list(set(range(len(labels))) - set(unstable_index.tolist()))) # stable, np.array\n",
    "\n",
    "# 1. accuracy of the stable samples:\n",
    "# Computed accuracy\n",
    "acc_stable = np.mean(name_prediction[stable_index] == labels[stable_index])\n",
    "\n",
    "acc_unstable_ori = np.mean(name_prediction[unstable_index] == labels[unstable_index])\n",
    "\n",
    "\n",
    "# 2. accuracy of the unstable samples: use our hierarchy\n",
    "# analysis top 5 in all different cases of baseline\n",
    "baseline_top5 = top5_name_labels[unstable_index]\n",
    "baseline_top5_probs = top5_name_probs[unstable_index]\n",
    "diff_image_embeddings = embeddings[unstable_index]\n",
    "unstable_id_gt_labels = labels[unstable_index]\n",
    "\n",
    "unstable_case = top5_name_labels[unstable_index]   # original top-5 prediction\n",
    "unstable_case_label = labels[unstable_index] # top-5 GT labels\n",
    "\n",
    "# [Top-5 Ancestor collection] calculate Ancestor from simple wordnet for unstable cases\n",
    "A_all = []\n",
    "for example in unstable_case: # for each unstable image\n",
    "  # ancestor of top 5\n",
    "  top5_ancestor = []\n",
    "  # top5_ancestor_raw = []\n",
    "  for ind, top_k in enumerate(example):\n",
    "    if an_des_dict[str(example[ind])]['ancestors']==[]: # no ancestor\n",
    "      top5_ancestor.append(fill_empty_parent)\n",
    "    else:\n",
    "      top5_ancestor.append(an_des_dict[str(example[ind])]['ancestors'].copy()[0]) # avoid influence the root\n",
    "  A_all.append(top5_ancestor)\n",
    "\n",
    "\n",
    "# add ancestor to all candidate classes\n",
    "logits_ori_all = []\n",
    "for idx, unstable_case_ele in tqdm(enumerate(unstable_case)): # for each unstable image\n",
    "  # original word embedding\n",
    "  word_list_ori = np.array(clip.IMAGENET_CLASSES)[np.array(unstable_case_ele)].tolist()\n",
    "  word_list_hierarchy = [] # raw words with only [bottom up]\n",
    "  word_list_hierarchy_with_prompt = [] # words add prompt and ancestor [bottom up + top down]\n",
    "  wordid_list_hierarchy_list = [] # details of index [[1,2], [3,4,5], [6], [7,8], [9]]\n",
    "  wordid_list_hierarchy_mapping_list = [] # used for reduceat (index of first element for each top-5) [1,3,6,7,9]\n",
    "  i = 0 # tracking each class/child class\n",
    "  for word_id, word in enumerate(word_list_ori): # for each class in top 5\n",
    "    tempid_list = [] # for specific word in top5\n",
    "    wordid_list_hierarchy_mapping_list.append(i)\n",
    "    for child_id in class_an_des_mapping_list[unstable_case_ele[word_id]]: # for each children or element [Bottom-up]\n",
    "      raw_word = imagenet_classes_an_des[child_id-1]\n",
    "      word_list_hierarchy.append(raw_word) # child_id start from 1 not 0\n",
    "      word_list_hierarchy_with_prompt.append(raw_word + ' which is a kind of|' + A_all[idx][word_id]) # [Top-down]\n",
    "      # word_list_hierarchy_with_prompt.append(raw_word + ' which is a kind of' + A_all[idx][word_id]) # [Top-down]\n",
    "      tempid_list.append(i)\n",
    "      i+=1\n",
    "    wordid_list_hierarchy_list.append(tempid_list)\n",
    "  word_list = word_list_hierarchy_with_prompt # could change\n",
    "\n",
    "  # inference\n",
    "  word_weights_ori = zeroshot_classifier_hierarchy(word_list, ['{}']) # (512, 5) # do not use prompt ensemble\n",
    "  # word_weights_ori = zeroshot_classifier_hierarchy(word_list, clip.PROMPTS) # (512, 5)\n",
    "  img_embedding = diff_image_embeddings[idx] # (1, 512) single image\n",
    "  logits_ori_raw = np.matmul(img_embedding, word_weights_ori)\n",
    "  logits_ori_raw = logits_ori_raw[np.newaxis, :]\n",
    "  logits_ori = np.maximum.reduceat(logits_ori_raw, indices=wordid_list_hierarchy_mapping_list, axis=1)\n",
    "  logits_ori_all.append(logits_ori)\n",
    "logits_ori_all_array = np.array(logits_ori_all)[:, 0, :]\n",
    "\n",
    "# Manually computed accuracy\n",
    "unstable_top1_acc, unstable_top_probs, unstable_top_labels = compute_accuracy_rerank(logits_ori_all_array, unstable_case, unstable_case_label)\n",
    "\n",
    "\n",
    "# compute overall accuracy\n",
    "overall_acc = (acc_stable*100*len(stable_index) + unstable_top1_acc*len(unstable_index))/len(labels)\n",
    "\n",
    "print(\"acc_stable:\", acc_stable)\n",
    "print(\"acc_unstable_ori:\", acc_unstable_ori)\n",
    "print(\"acc_unstable_with_Hierarchy-CLIP:\", unstable_top1_acc)\n",
    "print(\"overall_acc_with_Hierarchy-CLIP:\", overall_acc)"
   ]
  },
  {
   "cell_type": "markdown",
   "metadata": {
    "id": "kGfoKGzdH1V2"
   },
   "source": [
    "### Descrete solution"
   ]
  },
  {
   "cell_type": "code",
   "execution_count": null,
   "metadata": {
    "id": "ic7zHtNFH7i3"
   },
   "outputs": [],
   "source": [
    "# first half\n",
    "prompteng_firsthalf = zeroshot_classifier(clip.IMAGENET_CLASSES, clip.PROMPTS[0:40]) #select one each time\n",
    "logits_firsthalf = np.matmul(embeddings, prompteng_firsthalf) # compute the logits\n",
    "probs_firsthalf = np.array(jax.nn.softmax(logits_firsthalf, axis=-1))\n",
    "preds_firsthalf = jnp.argmax(probs_firsthalf, axis=-1)"
   ]
  },
  {
   "cell_type": "code",
   "execution_count": null,
   "metadata": {
    "id": "luRWBbLgIFS_"
   },
   "outputs": [],
   "source": [
    "# 2nd half\n",
    "prompteng_2ndhalf = zeroshot_classifier(clip.IMAGENET_CLASSES, clip.PROMPTS[40:80]) #select one each time\n",
    "logits_2ndhalf = np.matmul(embeddings, prompteng_2ndhalf) # compute the logits\n",
    "probs_2ndhalf = np.array(jax.nn.softmax(logits_2ndhalf, axis=-1))\n",
    "preds_2ndhalf = jnp.argmax(probs_2ndhalf, axis=-1)"
   ]
  },
  {
   "cell_type": "code",
   "execution_count": null,
   "metadata": {
    "id": "oX2oPOrHWI7U"
   },
   "outputs": [],
   "source": [
    "name_prediction=top5_name_labels[:, 0]\n",
    "prompt_prediction = top5_prompt_labels[:, 0]"
   ]
  },
  {
   "cell_type": "code",
   "execution_count": null,
   "metadata": {
    "id": "XF4YBUyGI51r"
   },
   "outputs": [],
   "source": [
    "prompts_log = np.stack((name_prediction, prompt_prediction, preds_firsthalf, preds_2ndhalf))"
   ]
  },
  {
   "cell_type": "code",
   "execution_count": null,
   "metadata": {
    "id": "71YFyLkVI9lg"
   },
   "outputs": [],
   "source": [
    "stable_log = np.array([int(np.all(prompts_log[:, i] == prompts_log[:, i][0])) for i in tqdm(range(prompts_log.shape[-1]))])"
   ]
  },
  {
   "cell_type": "code",
   "execution_count": null,
   "metadata": {
    "id": "CIcB5DUbJDcA"
   },
   "outputs": [],
   "source": [
    "unstable_id = np.where(stable_log==0)"
   ]
  },
  {
   "cell_type": "code",
   "execution_count": null,
   "metadata": {
    "id": "qjRuMMfSKwKy"
   },
   "outputs": [],
   "source": [
    "# discrete uncertatinty value calculation\n",
    "def discrete_uncertainty_estimation(prompts=clip.PROMPTS, name_prediction=top5_name_labels[:, 0], prompt_prediction=top5_prompt_labels[:, 0]):\n",
    "  \"\"\"obtain discrete confidence score for each image\"\"\"\n",
    "\n",
    "  # first half\n",
    "  prompteng_firsthalf = zeroshot_classifier(clip.IMAGENET_CLASSES, prompts[0:int(len(prompts)/2)]) #first half [0:40]\n",
    "  logits_firsthalf = np.matmul(embeddings, prompteng_firsthalf) # compute the logits\n",
    "  probs_firsthalf = np.array(jax.nn.softmax(logits_firsthalf, axis=-1))\n",
    "  preds_firsthalf = jnp.argmax(probs_firsthalf, axis=-1)\n",
    "\n",
    "  # 2nd half\n",
    "  prompteng_2ndhalf = zeroshot_classifier(clip.IMAGENET_CLASSES, prompts[int(len(prompts)/2):]) #second half [40:80]\n",
    "  logits_2ndhalf = np.matmul(embeddings, prompteng_2ndhalf) # compute the logits\n",
    "  probs_2ndhalf = np.array(jax.nn.softmax(logits_2ndhalf, axis=-1))\n",
    "  preds_2ndhalf = jnp.argmax(probs_2ndhalf, axis=-1)\n",
    "\n",
    "  # consider all four different kinds of prompts\n",
    "  prompts_log = np.stack((name_prediction, prompt_prediction, preds_firsthalf, preds_2ndhalf))\n",
    "\n",
    "  consistency_log = np.array([int(np.all(prompts_log[:, i] == prompts_log[:, i][0])) for i in tqdm(range(prompts_log.shape[-1]))])\n",
    "\n",
    "  unstable_id = np.where(consistency_log==0)\n",
    "\n",
    "  return consistency_log, unstable_id"
   ]
  },
  {
   "cell_type": "code",
   "execution_count": null,
   "metadata": {
    "id": "vV1TcGHQLrTW"
   },
   "outputs": [],
   "source": [
    "consistency_log, unstable_id = discrete_uncertainty_estimation()\n",
    "# Computed accuracy for the low confidence set len(unstable_id[0]) = 10308\n",
    "acc = np.mean(name_prediction[np.array(unstable_id)] == labels[unstable_id])\n",
    "acc"
   ]
  },
  {
   "cell_type": "code",
   "execution_count": null,
   "metadata": {
    "id": "iDxEaXQTHy_S"
   },
   "outputs": [],
   "source": []
  }
 ],
 "metadata": {
  "colab": {
   "private_outputs": true,
   "provenance": [],
   "toc_visible": true
  },
  "kernelspec": {
   "display_name": "Python 3 (ipykernel)",
   "language": "python",
   "name": "python3"
  },
  "language_info": {
   "codemirror_mode": {
    "name": "ipython",
    "version": 3
   },
   "file_extension": ".py",
   "mimetype": "text/x-python",
   "name": "python",
   "nbconvert_exporter": "python",
   "pygments_lexer": "ipython3",
   "version": "3.10.12"
  }
 },
 "nbformat": 4,
 "nbformat_minor": 4
}
