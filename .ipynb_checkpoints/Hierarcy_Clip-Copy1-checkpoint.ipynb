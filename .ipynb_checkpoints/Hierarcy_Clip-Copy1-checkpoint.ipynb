{
 "cells": [
  {
   "cell_type": "markdown",
   "metadata": {
    "id": "DD02wux82iLo"
   },
   "source": [
    "## 1. Reproducing CLIP zero-shot ImageNet classification performance\n",
    "\n",
    "Replicating the latest OpenAI [Colab](https://github.com/openai/CLIP/blob/main/notebooks/Prompt_Engineering_for_ImageNet.ipynb).\n"
   ]
  },
  {
   "cell_type": "code",
   "execution_count": 1,
   "metadata": {
    "id": "ZrHcKMdltCnX"
   },
   "outputs": [
    {
     "name": "stdout",
     "output_type": "stream",
     "text": [
      "%pylab is deprecated, use %matplotlib inline and import the required libraries.\n",
      "Populating the interactive namespace from numpy and matplotlib\n"
     ]
    }
   ],
   "source": [
    "%pylab inline\n",
    "import tensorflow_datasets as tfds\n",
    "import jax\n",
    "import jax.numpy as jnp\n",
    "from tqdm import tqdm\n",
    "import tensorflow as tf\n",
    "import random\n",
    "import os\n",
    "import json\n",
    "from scipy.special import softmax\n",
    "from PIL import Image\n",
    "import pandas as pd\n",
    "from scenic.projects.baselines.clip import model as clip\n",
    "from scenic.projects.baselines.clip import tokenizer as clip_tokenizer"
   ]
  },
  {
   "cell_type": "code",
   "execution_count": 2,
   "metadata": {
    "cellView": "form",
    "id": "05NWZ85TVscl"
   },
   "outputs": [],
   "source": [
    "#@title ImageNet classNames\n",
    "# https://github.com/openai/CLIP/blob/main/notebooks/Prompt_Engineering_for_ImageNet.ipynb\n",
    "clip.IMAGENET_CLASSES = ['apple',\n",
    " 'aquarium_fish',\n",
    " 'baby',\n",
    " 'bear',\n",
    " 'beaver',\n",
    " 'bed',\n",
    " 'bee',\n",
    " 'beetle',\n",
    " 'bicycle',\n",
    " 'bottle',\n",
    " 'bowl',\n",
    " 'boy',\n",
    " 'bridge',\n",
    " 'bus',\n",
    " 'butterfly',\n",
    " 'camel',\n",
    " 'can',\n",
    " 'castle',\n",
    " 'caterpillar',\n",
    " 'cattle',\n",
    " 'chair',\n",
    " 'chimpanzee',\n",
    " 'clock',\n",
    " 'cloud',\n",
    " 'cockroach',\n",
    " 'couch',\n",
    " 'crab',\n",
    " 'crocodile',\n",
    " 'cup',\n",
    " 'dinosaur',\n",
    " 'dolphin',\n",
    " 'elephant',\n",
    " 'flatfish',\n",
    " 'forest',\n",
    " 'fox',\n",
    " 'girl',\n",
    " 'hamster',\n",
    " 'house',\n",
    " 'kangaroo',\n",
    " 'keyboard',\n",
    " 'lamp',\n",
    " 'lawn_mower',\n",
    " 'leopard',\n",
    " 'lion',\n",
    " 'lizard',\n",
    " 'lobster',\n",
    " 'man',\n",
    " 'maple_tree',\n",
    " 'motorcycle',\n",
    " 'mountain',\n",
    " 'mouse',\n",
    " 'mushroom',\n",
    " 'oak_tree',\n",
    " 'orange',\n",
    " 'orchid',\n",
    " 'otter',\n",
    " 'palm_tree',\n",
    " 'pear',\n",
    " 'pickup_truck',\n",
    " 'pine_tree',\n",
    " 'plain',\n",
    " 'plate',\n",
    " 'poppy',\n",
    " 'porcupine',\n",
    " 'possum',\n",
    " 'rabbit',\n",
    " 'raccoon',\n",
    " 'ray',\n",
    " 'road',\n",
    " 'rocket',\n",
    " 'rose',\n",
    " 'sea',\n",
    " 'seal',\n",
    " 'shark',\n",
    " 'shrew',\n",
    " 'skunk',\n",
    " 'skyscraper',\n",
    " 'snail',\n",
    " 'snake',\n",
    " 'spider',\n",
    " 'squirrel',\n",
    " 'streetcar',\n",
    " 'sunflower',\n",
    " 'sweet_pepper',\n",
    " 'table',\n",
    " 'tank',\n",
    " 'telephone',\n",
    " 'television',\n",
    " 'tiger',\n",
    " 'tractor',\n",
    " 'train',\n",
    " 'trout',\n",
    " 'tulip',\n",
    " 'turtle',\n",
    " 'wardrobe',\n",
    " 'whale',\n",
    " 'willow_tree',\n",
    " 'wolf',\n",
    " 'woman',\n",
    " 'worm']"
   ]
  },
  {
   "cell_type": "code",
   "execution_count": 3,
   "metadata": {
    "id": "JIzYXXxzTAzZ"
   },
   "outputs": [
    {
     "name": "stderr",
     "output_type": "stream",
     "text": [
      "100%|█████████████████████████████████████| 1.29M/1.29M [00:00<00:00, 4.75MiB/s]\n"
     ]
    }
   ],
   "source": [
    "model_name = 'vit_b16' # we could change different backbone\n",
    "\n",
    "model = clip.MODELS[model_name]()\n",
    "vars = clip.load_model_vars(model_name)\n",
    "\n",
    "encode_text = jax.jit(lambda texts: model.apply(vars, texts, method=model.encode_text))\n",
    "encode_image = jax.jit(lambda x: model.apply(vars, x, method=model.encode_image))\n",
    "\n",
    "tokenize_fn = clip_tokenizer.build_tokenizer()"
   ]
  },
  {
   "cell_type": "code",
   "execution_count": 4,
   "metadata": {
    "id": "lRjGzv6sosYZ"
   },
   "outputs": [],
   "source": [
    "def permute_words(text):\n",
    "  words = text.split(' ')\n",
    "  random.shuffle(words)\n",
    "  return ' '.join(words)\n",
    "\n",
    "def zeroshot_classifier(classnames, templates, permute=False):\n",
    "  zeroshot_weights = []\n",
    "  permute_fn = permute_words if permute else lambda x: x\n",
    "  for classname in tqdm(classnames):\n",
    "    texts = [permute_fn(template.format(classname)) for template in templates]\n",
    "    class_embeddings = encode_text(tokenize_fn(texts))\n",
    "    class_embedding = class_embeddings.mean(0)\n",
    "    class_embedding /= jnp.linalg.norm(class_embedding)\n",
    "    zeroshot_weights.append(class_embedding)\n",
    "  return jnp.stack(zeroshot_weights, axis=1)\n"
   ]
  },
  {
   "cell_type": "code",
   "execution_count": 5,
   "metadata": {
    "id": "nw6OUXuMpQ3Q"
   },
   "outputs": [
    {
     "name": "stderr",
     "output_type": "stream",
     "text": [
      "100%|██████████| 100/100 [01:08<00:00,  1.46it/s]\n",
      "100%|██████████| 100/100 [00:09<00:00, 10.27it/s]\n"
     ]
    }
   ],
   "source": [
    "# Readout weights with prompt engineering\n",
    "weights_prompteng = zeroshot_classifier(clip.IMAGENET_CLASSES, clip.PROMPTS)\n",
    "\n",
    "# Readout weights with modified ImageNet class names only\n",
    "weights_name = zeroshot_classifier(clip.IMAGENET_CLASSES, ['{}'])\n"
   ]
  },
  {
   "cell_type": "code",
   "execution_count": 6,
   "metadata": {
    "id": "HLxQkmIIaeH2"
   },
   "outputs": [],
   "source": [
    "def preprocess(batch, size=224):\n",
    "  batch = tf.image.convert_image_dtype(batch, dtype=tf.float32)\n",
    "  return central_crop(resize_small(batch, size), (size, size))\n",
    "\n",
    "def central_crop(image, crop_size):\n",
    "    '''\n",
    "    image\n",
    "    crop_size: (h, w)\n",
    "    '''\n",
    "    h, w = crop_size[0], crop_size[1]\n",
    "    dy = (tf.shape(image)[0] - h) // 2\n",
    "    dx = (tf.shape(image)[1] - w) // 2\n",
    "    return tf.image.crop_to_bounding_box(image, dy, dx, h, w)\n",
    "\n",
    "def resize_small(image, smaller_size, method=\"area\", antialias=True):\n",
    "    '''\n",
    "    image\n",
    "    smaller_size: an integer, that represents a new size of the smaller side of\n",
    "      an input image.\n",
    "    '''\n",
    "    h, w = tf.shape(image)[0], tf.shape(image)[1]\n",
    "\n",
    "    # Figure out the necessary h/w.\n",
    "    ratio = (\n",
    "        tf.cast(smaller_size, tf.float32) /\n",
    "        tf.cast(tf.minimum(h, w), tf.float32))\n",
    "    h = tf.cast(tf.round(tf.cast(h, tf.float32) * ratio), tf.int32)\n",
    "    w = tf.cast(tf.round(tf.cast(w, tf.float32) * ratio), tf.int32)\n",
    "\n",
    "    dtype = image.dtype\n",
    "    image = tf.image.resize(image, (h, w), method, antialias)\n",
    "    return tf.cast(image, dtype)\n",
    "\n",
    "\n",
    "def normalize(img):\n",
    "  return (img - clip.IMAGE_MEAN) / clip.IMAGE_STD\n",
    "\n",
    "def unnormalize(x):\n",
    "  return x * clip.IMAGE_STD + clip.IMAGE_MEAN"
   ]
  },
  {
   "cell_type": "code",
   "execution_count": 7,
   "metadata": {
    "id": "VZx-2xM2uflF"
   },
   "outputs": [],
   "source": [
    "def load_dataset(dataset='cifar100', split='train', batch_size=1024):\n",
    "  ds = tfds.load(dataset, split=split)\n",
    "  def _preprocess(d):\n",
    "    d['image'] = normalize(preprocess(d['image']))\n",
    "    return d\n",
    "  def _prepare(d):\n",
    "    return jax.tree_map(lambda x: x._numpy(), d)\n",
    "  batched_dataset = ds.map(_preprocess).batch(batch_size)\n",
    "  batched_dataset = map(_prepare, batched_dataset)\n",
    "  return batched_dataset\n",
    "\n",
    "def load_dataset_info(dataset='cifar100', split='train', batch_size=1024):\n",
    "  ds, info = tfds.load(dataset, split=split, with_info=\"true\")\n",
    "  def _preprocess(d):\n",
    "    d['image'] = normalize(preprocess(d['image']))\n",
    "    return d\n",
    "  def _prepare(d):\n",
    "    return jax.tree_map(lambda x: x._numpy(), d)\n",
    "  batched_dataset = ds.map(_preprocess).batch(batch_size)\n",
    "  batched_dataset = map(_prepare, batched_dataset)\n",
    "  return batched_dataset, info\n",
    "\n",
    "# def load_dataset_from(data_dir='YOUR/LOCAL/PATH/imagenet2012', dataset='cifar100', split='train', batch_size=1024):\n",
    "#   # ds = tfds.load(dataset, split=split, data_dir=data_dir)\n",
    "#   ds = tfds.builder_from_directory(data_dir)\n",
    "#   ds = ds.as_dataset(split='validation')\n",
    "#   def _preprocess(d):\n",
    "#     d['image'] = normalize(preprocess(d['image']))\n",
    "#     return d\n",
    "#   def _prepare(d):\n",
    "#     return jax.tree_map(lambda x: x._numpy(), d)\n",
    "#   batched_dataset = ds.map(_preprocess).batch(batch_size)\n",
    "#   batched_dataset = map(_prepare, batched_dataset)\n",
    "#   return batched_dataset"
   ]
  },
  {
   "cell_type": "code",
   "execution_count": 8,
   "metadata": {
    "id": "nlfoPT44NafG"
   },
   "outputs": [],
   "source": [
    "def compute_image_embeddings(dset, norm_image=True):\n",
    "  embeddings = []\n",
    "  labels = []\n",
    "  for batch in tqdm(dset):\n",
    "    image_embedding = encode_image(batch['image'])\n",
    "    if norm_image:\n",
    "      image_embedding /= jnp.linalg.norm(image_embedding)\n",
    "    embeddings.append(image_embedding)\n",
    "    labels.append(batch['label'])\n",
    "  return jnp.vstack(embeddings), jnp.hstack(labels)\n",
    "\n",
    "def compute_accuracy(logits, labels):\n",
    "  top_probs, top_labels = jax.lax.top_k(logits, 5)\n",
    "  top1 = 100 * jnp.mean(top_labels[:, 0] == labels)\n",
    "  top5 = 100 * jnp.sum(top_labels == labels[:, None]) / labels.shape[0]\n",
    "  return top1, top5"
   ]
  },
  {
   "cell_type": "code",
   "execution_count": 9,
   "metadata": {
    "id": "7IRsBlmgN0nz"
   },
   "outputs": [
    {
     "name": "stderr",
     "output_type": "stream",
     "text": [
      "2023-12-30 12:08:32.426101: W tensorflow/core/common_runtime/gpu/gpu_device.cc:1960] Cannot dlopen some GPU libraries. Please make sure the missing libraries mentioned above are installed properly if you would like to use GPU. Follow the guide at https://www.tensorflow.org/install/gpu for how to download and setup the required libraries for your platform.\n",
      "Skipping registering GPU devices...\n",
      "49it [15:37, 19.14s/it]\n"
     ]
    }
   ],
   "source": [
    "dset = load_dataset('cifar100')\n",
    "# You could also first download ImageNet and then process them with tensorflow_datasets and load them with function:\n",
    "# dset = load_dataset_from(data_dir='YOUR/LOCAL/PATH/imagenet2012', dataset='imagenet2012', split='validation')\n",
    "embeddings, labels = compute_image_embeddings(dset)"
   ]
  },
  {
   "cell_type": "code",
   "execution_count": 10,
   "metadata": {
    "id": "bV7jIm8sFjHD"
   },
   "outputs": [
    {
     "name": "stdout",
     "output_type": "stream",
     "text": [
      "Prompt Engineering: top1=38.55%, top5=67.42%\n",
      "Class Names: top1=32.03%, top5=59.90%\n"
     ]
    }
   ],
   "source": [
    "# More accurate and consistent result\n",
    "logits_prompteng = np.matmul(embeddings, weights_prompteng)\n",
    "logits_name = np.matmul(embeddings, weights_name)\n",
    "top1_prompt, top5_prompt = compute_accuracy(logits_prompteng, labels)\n",
    "top1_name, top5_name = compute_accuracy(logits_name, labels)\n",
    "print(f'Prompt Engineering: top1={top1_prompt:.2f}%, top5={top5_prompt:.2f}%')\n",
    "print(f'Class Names: top1={top1_name:.2f}%, top5={top5_name:.2f}%')"
   ]
  },
  {
   "cell_type": "markdown",
   "metadata": {
    "id": "SLeqlvKV3ZpT"
   },
   "source": [
    "## 2. Build hierarchy from WordNet\n",
    "\n",
    "The wordnet hierarchy is based on Github repo: https://github.com/niharikajainn/imagenet-ancestors-descendants\n"
   ]
  },
  {
   "cell_type": "markdown",
   "metadata": {
    "id": "xMc8VFmpzH8p"
   },
   "source": [
    "### WordNet parse"
   ]
  },
  {
   "cell_type": "code",
   "execution_count": 11,
   "metadata": {
    "id": "RepSntjHI8Er"
   },
   "outputs": [],
   "source": [
    "root_path ='/data/lab/Hierarchy-CLIP/' # VM yunhao"
   ]
  },
  {
   "cell_type": "code",
   "execution_count": 12,
   "metadata": {
    "id": "GI8y4W79zH8p"
   },
   "outputs": [],
   "source": [
    "words_map = {}\n",
    "child_map = {}\n",
    "parent_map = {}\n",
    "gloss_map = {} # description\n",
    "# BEGIN GOOGLE-INTERNAL\n",
    "words_path = os.path.join(root_path, \"imagenet-ancestors-descendants\", \"words.txt\")\n",
    "gloss_path = os.path.join(root_path, \"imagenet-ancestors-descendants\", \"gloss.txt\")\n",
    "child_map_path = os.path.join(root_path, \"imagenet-ancestors-descendants\", \"is_a_new.txt\")\n",
    "imagenet_label_to_wordnet_file = os.path.join(root_path, \"imagenet-ancestors-descendants\", \"imagenet_label_to_wordnet_synset.txt\")\n",
    "# END GOOGLE-INTERNAL\n",
    "\n",
    "blank = ' '\n",
    "comma_blank = ', '"
   ]
  },
  {
   "cell_type": "code",
   "execution_count": 13,
   "metadata": {
    "id": "gSGZoG3CzH8p"
   },
   "outputs": [],
   "source": [
    "#obtain wordnet_id mappings for all words\n",
    "with tf.io.gfile.GFile(words_path, mode='r') as f:\n",
    "\tfor line in f:\n",
    "\t\tline_split = line.split() # use blank \" \" to split\n",
    "\t\twnid = line_split[0] # e.g., 'n03200357'\n",
    "\t\twords = line_split[1:] # e.g., ['electric,', 'electric', 'automobile,', 'electric', 'car'],\n",
    "\t\twords_map[wnid] = words\n",
    "f.close()"
   ]
  },
  {
   "cell_type": "code",
   "execution_count": 14,
   "metadata": {
    "id": "KAeBPSSxzH8q"
   },
   "outputs": [],
   "source": [
    "#obtain wordnet_id mappings for all word description\n",
    "with tf.io.gfile.GFile(gloss_path, mode='r') as f:\n",
    "\tfor line in f:\n",
    "\t\tline_split = line.split()\n",
    "\t\twnid = line_split[0]\n",
    "\t\tgloss = blank.join(line_split[1:])\n",
    "\t\tgloss_map[wnid] = gloss\n",
    "f.close()"
   ]
  },
  {
   "cell_type": "code",
   "execution_count": 15,
   "metadata": {
    "id": "awkQS7mnzH8q"
   },
   "outputs": [],
   "source": [
    "#obtain wordnet_id mappings for all parents-children\n",
    "with tf.io.gfile.GFile(child_map_path, mode='r') as f:\n",
    "\tfor line in f:\n",
    "\t\tparent, child = line.split()\n",
    "\t\tparent_map[child] = parent\n",
    "\t\tif parent not in child_map:\n",
    "\t\t\tchild_map[parent] = [child]\n",
    "\t\telse:\n",
    "\t\t\tchild_map[parent].append(child)\n",
    "f.close()"
   ]
  },
  {
   "cell_type": "code",
   "execution_count": 16,
   "metadata": {},
   "outputs": [
    {
     "name": "stdout",
     "output_type": "stream",
     "text": [
      "{'n02329401': ['n02363005', 'n02346627', 'n02342885', 'n02330245'], 'n02066707': ['n02068974'], 'n14764061': ['n14765785', 'n14766189'], 'n06855207': ['n06855985'], 'n02062430': ['n02062744'], 'n04388743': ['n02732072'], 'n02552171': ['n02657368'], 'n01900488': ['n01900719'], 'n01482071': ['n01482330'], 'n02534559': ['n02537085'], 'n11669921': ['n12041446', 'n11900569', 'n04971313', 'n11978233'], 'n12425281': ['n12454159'], 'n13756125': ['n13765396', 'n13765531', 'n13765990', 'n13766733', 'n13768850', 'n13770529'], 'n07705931': ['n07739125', 'n07767847'], 'n07707451': ['n07734744'], 'n07747055': ['n07747607'], 'n12900462': ['n12901264'], 'n04437953': ['n03046257'], 'n03163973': ['n03085013'], 'n04263760': ['n03636248'], 'n03278248': ['n04401088'], 'n06276697': ['n06277280'], 'n02821943': ['n02818832'], 'n04161981': ['n03001627', 'n04256520'], 'n03405725': ['n04379243', 'n04550184'], 'n02206270': ['n02206856'], 'n02159955': ['n02164464'], 'n02274024': ['n02274259'], 'n02311060': ['n02309337'], 'n02232951': ['n02233338'], 'n02075296': ['n02131653'], 'n02127808': ['n02128385', 'n02129165', 'n02129604'], 'n02083346': ['n02114100', 'n02118333'], 'n04341686': ['n02898711'], 'n03719053': ['n03878066'], 'n02913152': ['n03544360', 'n04233124'], 'n04564698': ['n04096066'], 'n11419404': ['n11439690'], 'n08436759': ['n08438533'], 'n09366317': ['n09359803'], 'n09334396': ['n09393605'], 'n09225146': ['n09426788'], 'n02394477': ['n02437136'], 'n02402010': ['n02402425'], 'n02480153': ['n02481823'], 'n02453108': ['n02503517'], 'n01874434': ['n01877134', 'n01874928'], 'n02507649': ['n02508021'], 'n02441326': ['n02445715'], 'n01976146': ['n01976957', 'n01982650'], 'n01942177': ['n01944390'], 'n01769347': ['n01772222'], 'n01905661': ['n01922303'], 'n09918248': ['n09827683'], 'n10287213': ['n09870926'], 'n10787470': ['n10129825'], 'n09624168': ['n10287213'], 'n09619168': ['n10787470'], 'n01696633': ['n01697178'], 'n01695681': ['n01699831'], 'n01674216': ['n01674464'], 'n01661818': ['n01726692'], 'n01662622': ['n01662784'], 'n02323902': ['n02324045'], 'n01889074': ['n01891633'], 'n13109733': ['n12752205'], 'n15098161': ['n12268918', 'n11608885'], 'n13603305': ['n13656075'], 'n04417180': ['n04584794'], 'n04576211': ['n02834778'], 'n04019101': ['n02924116'], 'n03791235': ['n03790512'], 'n04490091': ['n03930630', 'n04465666'], 'n03932670': ['n04468476'], 'n03418242': ['n03649909'], 'n03348454': ['n04232902'], 'n04170037': ['n04335435']}\n"
     ]
    }
   ],
   "source": [
    "print(child_map)"
   ]
  },
  {
   "cell_type": "code",
   "execution_count": 17,
   "metadata": {},
   "outputs": [
    {
     "name": "stdout",
     "output_type": "stream",
     "text": [
      "{'n02363005': 'n02329401', 'n02068974': 'n02066707', 'n14765785': 'n14764061', 'n06855985': 'n06855207', 'n02062744': 'n02062430', 'n02732072': 'n04388743', 'n02657368': 'n02552171', 'n01900719': 'n01900488', 'n01482330': 'n01482071', 'n02537085': 'n02534559', 'n12041446': 'n11669921', 'n11900569': 'n11669921', 'n04971313': 'n11669921', 'n11978233': 'n11669921', 'n12454159': 'n12425281', 'n13765396': 'n13756125', 'n13765531': 'n13756125', 'n13765990': 'n13756125', 'n13766733': 'n13756125', 'n13768850': 'n13756125', 'n07739125': 'n07705931', 'n07734744': 'n07707451', 'n07747607': 'n07747055', 'n07767847': 'n07705931', 'n12901264': 'n12900462', 'n03046257': 'n04437953', 'n03085013': 'n03163973', 'n03636248': 'n04263760', 'n04401088': 'n03278248', 'n06277280': 'n06276697', 'n02818832': 'n02821943', 'n03001627': 'n04161981', 'n04256520': 'n04161981', 'n04379243': 'n03405725', 'n04550184': 'n03405725', 'n02206856': 'n02206270', 'n02164464': 'n02159955', 'n02274259': 'n02274024', 'n02309337': 'n02311060', 'n02233338': 'n02232951', 'n02131653': 'n02075296', 'n02128385': 'n02127808', 'n02129165': 'n02127808', 'n02129604': 'n02127808', 'n02114100': 'n02083346', 'n02898711': 'n04341686', 'n03878066': 'n03719053', 'n03544360': 'n02913152', 'n04096066': 'n04564698', 'n04233124': 'n02913152', 'n11439690': 'n11419404', 'n08438533': 'n08436759', 'n09359803': 'n09366317', 'n09393605': 'n09334396', 'n09426788': 'n09225146', 'n02437136': 'n02394477', 'n02402425': 'n02402010', 'n02481823': 'n02480153', 'n02503517': 'n02453108', 'n01877134': 'n01874434', 'n02118333': 'n02083346', 'n02346627': 'n02329401', 'n01874928': 'n01874434', 'n02508021': 'n02507649', 'n02445715': 'n02441326', 'n01976957': 'n01976146', 'n01982650': 'n01976146', 'n01944390': 'n01942177', 'n01772222': 'n01769347', 'n01922303': 'n01905661', 'n09827683': 'n09918248', 'n09870926': 'n10287213', 'n10129825': 'n10787470', 'n10287213': 'n09624168', 'n10787470': 'n09619168', 'n01697178': 'n01696633', 'n01699831': 'n01695681', 'n01674464': 'n01674216', 'n01726692': 'n01661818', 'n01662784': 'n01662622', 'n02342885': 'n02329401', 'n02330245': 'n02329401', 'n02324045': 'n02323902', 'n01891633': 'n01889074', 'n14766189': 'n14764061', 'n12752205': 'n13109733', 'n12268918': 'n15098161', 'n13656075': 'n13603305', 'n11608885': 'n15098161', 'n04584794': 'n04417180', 'n02834778': 'n04576211', 'n02924116': 'n04019101', 'n03790512': 'n03791235', 'n03930630': 'n04490091', 'n04468476': 'n03932670', 'n03649909': 'n03418242', 'n04232902': 'n03348454', 'n04335435': 'n04170037', 'n13770529': 'n13756125', 'n04465666': 'n04490091'}\n"
     ]
    }
   ],
   "source": [
    "print(parent_map)"
   ]
  },
  {
   "cell_type": "code",
   "execution_count": 18,
   "metadata": {
    "id": "zDv2CRlbzH8q"
   },
   "outputs": [
    {
     "name": "stdout",
     "output_type": "stream",
     "text": [
      "['beaver']\n",
      "large semiaquatic rodent with webbed hind feet and a broad flat tail; construct complex dams and underwater lodges\n",
      "\n",
      "Ancestors:\n",
      "\n",
      "finish\n"
     ]
    }
   ],
   "source": [
    "# find details given wordnet_id\n",
    "category = 'n02363005' #'n02084071' is dog\n",
    "descendants = []\n",
    "ancestors = []\n",
    "# find Descendants and Ancestors\n",
    "print(words_map[category])\n",
    "print(gloss_map[category]+\"\\n\")\n",
    "#list all children\n",
    "# print(\"Descendants:\\n\")\n",
    "# print(category)\n",
    "# if category in child_map:\n",
    "#   search = [child for child in child_map[category]]\n",
    "# while search: # go over all children (BFS)\n",
    "#   node = search.pop()\n",
    "#   print(\"\\t\"+ blank.join(words_map[node])+\"\\n\")\n",
    "#   descendants.append(blank.join(words_map[node])) # keep all descendant\n",
    "#   if node in child_map: #has children\n",
    "#     [search.append(child) for child in child_map[node]]\n",
    "\n",
    "#list all parents\n",
    "print(\"Ancestors:\\n\")\n",
    "if category in parent_map:\n",
    "  node = parent_map[category] # only one parent class\n",
    "else:\n",
    "  node = category\n",
    "while node in parent_map: # one way go up\n",
    "  print(\"\\t\"+ blank.join(words_map[node])+\"\\n\")\n",
    "  ancestors.append(blank.join(words_map[node])) # keep all ancestor\n",
    "  node = parent_map[node]\n",
    "print(\"finish\")"
   ]
  },
  {
   "cell_type": "code",
   "execution_count": 19,
   "metadata": {
    "id": "gReUKpVSzH8r"
   },
   "outputs": [],
   "source": [
    "# get imagenet_id: wordnet_id mapping. e.g., '0': 'n01440764'\n",
    "index_wdid = {}\n",
    "with tf.io.gfile.GFile(imagenet_label_to_wordnet_file, mode='r') as f:\n",
    "  for line in f:\n",
    "    if \"{'id'\" in line:\n",
    "      index_wdid[line.split(\": {'\")[0].split(\"{\")[-1].split(\" \")[-1]] = 'n' + line.split(\"-n\")[0].split(\"'\")[-1]      # {0: {'id': '01440764-n',"
   ]
  },
  {
   "cell_type": "code",
   "execution_count": 20,
   "metadata": {},
   "outputs": [
    {
     "name": "stdout",
     "output_type": "stream",
     "text": [
      "{'0': 'n07739125', '1': 'n02732072', '2': 'n09827683', '3': 'n02131653', '4': 'n02363005', '5': 'n02818832', '6': 'n02206856', '7': 'n02164464', '8': 'n02834778', '9': 'n13765396', '10': 'n13765531', '11': 'n09870926', '12': 'n02898711', '13': 'n02924116', '14': 'n02274259', '15': 'n02437136', '16': 'n13765990', '17': 'n03878066', '18': 'n02309337', '19': 'n02402425', '20': 'n03001627', '21': 'n02481823', '22': 'n03046257', '23': 'n11439690', '24': 'n02233338', '25': 'n04256520', '26': 'n01976957', '27': 'n01697178', '28': 'n13766733', '29': 'n01699831', '30': 'n02581957', '31': 'n02503517', '32': 'n07790400', '33': 'n08438533', '34': 'n02118333', '35': 'n10129825', '36': 'n02342885', '37': 'n03544360', '38': 'n01877134', '39': 'n03085013', '40': 'n03636248', '41': 'n03649909', '42': 'n02128385', '43': 'n02129165', '44': 'n01674464', '45': 'n01982650', '46': 'n10287213', '47': 'n12752205', '48': 'n03790512', '49': 'n09359803', '50': 'n02330245', '51': 'n07734744', '52': 'n12268918', '53': 'n07747607', '54': 'n12058630', '55': 'n14765785', '56': 'n13656075', '57': 'n07767847', '58': 'n03930630', '59': 'n11608885', '60': 'n09393605', '61': 'n13768850', '62': 'n11900569', '63': 'n02346627', '64': 'n01874928', '65': 'n02324045', '66': 'n02508021', '67': 'n01495701', '68': 'n04096066', '69': 'n04232902', '70': 'n04971313', '71': 'n09426788', '72': 'n14766040', '73': 'n01482330', '74': 'n01891633', '75': 'n02445715', '76': 'n04233124', '77': 'n01944390', '78': 'n01726692', '79': 'n01772222', '80': 'n14766189', '81': 'n04335435', '82': 'n11978233', '83': 'n12901264', '84': 'n04379243', '85': 'n13770529', '86': 'n04401088', '87': 'n04404412', '88': 'n02129604', '89': 'n04465666', '90': 'n04468476', '91': 'n02537085', '92': 'n12454159', '93': 'n01662784', '94': 'n04550184', '95': 'n02062744', '96': 'n04584794', '97': 'n02114100', '98': 'n10787470', '99': 'n01922303'}\n"
     ]
    }
   ],
   "source": [
    "print(index_wdid)"
   ]
  },
  {
   "cell_type": "markdown",
   "metadata": {
    "id": "wJ1xkt89qSSk"
   },
   "source": [
    "build hierarchy"
   ]
  },
  {
   "cell_type": "code",
   "execution_count": 21,
   "metadata": {
    "id": "SRMCK8HZzH8r"
   },
   "outputs": [],
   "source": [
    "# find ancestor, descendants and children for each class, may takes minites\n",
    "an_des_dict_json = {}\n",
    "for index in range(len(clip.IMAGENET_CLASSES)): # for 1000 classes\n",
    "  category = index_wdid[str(index)]\n",
    "  an_des_dict_json[str(index)] = {}\n",
    "  descendants = []\n",
    "  ancestors = []\n",
    "  children = []\n",
    "  # find Descendants and Ancestors\n",
    "  #list all children\n",
    "#   if category in child_map:\n",
    "#     search = [child for child in child_map[category]] # here is only the child\n",
    "#     children = [blank.join(words_map[ele]) for ele in search]\n",
    "#   while search: # go over all children BFS priority queue\n",
    "#     node = search.pop()\n",
    "#     descendants.append(blank.join(words_map[node])) # keep all descendant\n",
    "#     if node in child_map: #has children\n",
    "#       [search.append(child) for child in child_map[node]]\n",
    "\n",
    "  #list all parents\n",
    "  node = parent_map[category] if category in parent_map else category\n",
    "  while node in parent_map: # one way go up\n",
    "    ancestors.append(blank.join(words_map[node])) # keep all ancestor\n",
    "    node = parent_map[node]\n",
    "\n",
    "  # save\n",
    "  an_des_dict_json[str(index)][\"wdid\"] = category\n",
    "  an_des_dict_json[str(index)][\"words_map\"] = blank.join(words_map[category])\n",
    "#   an_des_dict_json[str(index)][\"clip_words_map\"] = clip.IMAGENET_CLASSES[index]\n",
    "  an_des_dict_json[str(index)][\"ancestors\"] = ancestors\n",
    "  an_des_dict_json[str(index)][\"descendants\"] = descendants\n",
    "  an_des_dict_json[str(index)][\"children\"] = children"
   ]
  },
  {
   "cell_type": "markdown",
   "metadata": {
    "id": "FJtim-_cJpVs"
   },
   "source": [
    "### Utility functions for finding descendants and ancestors"
   ]
  },
  {
   "cell_type": "code",
   "execution_count": 22,
   "metadata": {
    "id": "FcHqCy_PAP3s"
   },
   "outputs": [],
   "source": [
    "# TODO(yunhaoge) Add examples for using the functions\n",
    "\n",
    "def bottom_up_hierarchy(max_depth_ancestor=1, max_depth_descendant=0, use_children=False):\n",
    "  \"\"\"Obtain the class list by considering hierarchy\n",
    "    here consisder only descendent because max_depth_ancestor=0\n",
    "  \"\"\"\n",
    "  # Consider ancedescendant into clip zero-shot\n",
    "  class_an_des_mapping = [] # start index of each imagenet class, used for following aggregation\n",
    "  imagenet_classes_an_des = []\n",
    "  class_an_des_mapping_list = [] # index details of each imagenet class\n",
    "  i = 0\n",
    "  for imagenet_idx, classname in enumerate(clip.IMAGENET_CLASSES):\n",
    "    class_an_des_mapping.append(i)\n",
    "    imagenet_classes_an_des.append(classname) # add original class name\n",
    "    class_an_des_list = [] # relevant id for specific class\n",
    "    i += 1 # add index first\n",
    "    class_an_des_list.append(i)\n",
    "    node_ancestors = an_des_dict_json[str(imagenet_idx)][\"ancestors\"]\n",
    "    if use_children: # consider only children\n",
    "      node_descendants = an_des_dict_json[str(imagenet_idx)][\"children\"]\n",
    "    else:\n",
    "      node_descendants = an_des_dict_json[str(imagenet_idx)][\"descendants\"]\n",
    "\n",
    "    for an_idx, ancestor in enumerate(node_ancestors): # select ancestors\n",
    "      if an_idx < max_depth_ancestor:\n",
    "        if comma_blank in ancestor: # contains synonym, more than one, keep only one\n",
    "          imagenet_classes_an_des.append(ancestor.split(comma_blank)[0])\n",
    "          i += 1\n",
    "          class_an_des_list.append(i)\n",
    "        else:\n",
    "          imagenet_classes_an_des.append(ancestor)\n",
    "          i += 1\n",
    "          class_an_des_list.append(i)\n",
    "    for des_idx, descentant in enumerate(node_descendants): # select descendants\n",
    "      if des_idx < max_depth_descendant:\n",
    "        if comma_blank in descentant: # contains synonym, more than one, keep only one\n",
    "          imagenet_classes_an_des.append(descentant.split(comma_blank)[0])\n",
    "          i += 1\n",
    "          class_an_des_list.append(i)\n",
    "        else:\n",
    "          imagenet_classes_an_des.append(descentant)\n",
    "          i += 1\n",
    "          class_an_des_list.append(i)\n",
    "    class_an_des_mapping_list.append(class_an_des_list)\n",
    "  return imagenet_classes_an_des, class_an_des_mapping, class_an_des_mapping_list"
   ]
  },
  {
   "cell_type": "code",
   "execution_count": 23,
   "metadata": {
    "id": "RJxTyrVFt2_k"
   },
   "outputs": [],
   "source": [
    "def top_down_hierarchy(interest_case, clip_templete, use_LCA = True, use_ancestor = True):\n",
    "  \"\"\"Obtain the word list by adding LCA.\"\"\"\n",
    "  # interest_case\n",
    "  logits_ori_all = []\n",
    "  for idx, interest_case_ele in enumerate(tqdm(interest_case)):\n",
    "    # original word embedding\n",
    "    word_list_ori = np.array(clip.IMAGENET_CLASSES)[np.array(interest_case_ele)].tolist()\n",
    "    if use_LCA: # add LCA/A\n",
    "      if use_ancestor: # use Ancestor\n",
    "        word_list =  [word + blank + A_all[idx] for word in word_list_ori]\n",
    "      else: # use LCA\n",
    "        word_list =  [word + blank + LCA_all[idx] for word in word_list_ori]\n",
    "    else:\n",
    "      word_list =  [word for word in word_list_ori]\n",
    "  return word_list"
   ]
  },
  {
   "cell_type": "code",
   "execution_count": 24,
   "metadata": {
    "id": "Vnd06rNSpckx"
   },
   "outputs": [],
   "source": [
    "# fine the LCA for each image top 5\n",
    "def find_LCA(top5_ancestor): # general\n",
    "  \"\"\"Obtain the Lowest comman ancestor of top 5 classes.\n",
    "\n",
    "  Args:\n",
    "      top5_ancestor: List of the ancestors for each candidate class\n",
    "  Returns:\n",
    "      LCA: Str, lowest comman ancestor\n",
    "  \"\"\"\n",
    "  LCA = 'physical entity'\n",
    "  # while (1) still have ancestor\n",
    "  while min([len(ele) for ele in top5_ancestor]) > 0 :\n",
    "    # find the highest for each class in topk\n",
    "    current_roots = [topk_ancestor.pop() for topk_ancestor in top5_ancestor]\n",
    "    current_roots_freq = Counter(current_roots)\n",
    "    current_roots_freq = sorted(current_roots_freq.items(), key=lambda x: x[1], reverse=True) # become a list e.g.,[('ee', 2), ('ww', 1), ('cc', 1)]\n",
    "    majority, majority_freq = current_roots_freq[0]\n",
    "    if majority_freq == 5:\n",
    "      LCA = majority if comma_blank not in majority else majority.split(comma_blank)[0]\n",
    "  return LCA"
   ]
  },
  {
   "cell_type": "markdown",
   "metadata": {
    "id": "uMul_5Icp7QL"
   },
   "source": [
    "## Uncertainty Estimation"
   ]
  },
  {
   "cell_type": "code",
   "execution_count": 25,
   "metadata": {
    "id": "5Rk2yUw-EfoT"
   },
   "outputs": [],
   "source": [
    "# with children\n",
    "# hierarchy ImageNet class work on same h for each class\n",
    "max_depth_ancestor = 0 # here only consider descendent\n",
    "max_depth_children = 10 # could change\n",
    "imagenet_bottom_up_first_index_list = []\n",
    "imagenet_bottom_up_all_classes = []\n",
    "imagenet_bottom_up_mapping_index_list = [] # add list for analysis\n",
    "i = 0\n",
    "for imagenet_idx, classname in enumerate(clip.IMAGENET_CLASSES):\n",
    "  imagenet_bottom_up_first_index_list.append(i) # index of each imagenet class\n",
    "  imagenet_bottom_up_all_classes.append(classname) # add original class name\n",
    "  class_an_des_list = [] # relevant id for specific class\n",
    "  i += 1 # add index first\n",
    "  class_an_des_list.append(i)\n",
    "  node_ancestors = an_des_dict_json[str(imagenet_idx)][\"ancestors\"]\n",
    "  node_children = an_des_dict_json[str(imagenet_idx)][\"children\"]\n",
    "\n",
    "  for an_idx, ancestor in enumerate(node_ancestors): # select ancestors\n",
    "    if an_idx < max_depth_ancestor:\n",
    "      if \", \" in ancestor: # contains synonym, more than one, keep only one\n",
    "        imagenet_bottom_up_all_classes.append(ancestor.split(\", \")[0])\n",
    "        i += 1\n",
    "        class_an_des_list.append(i)\n",
    "      else:\n",
    "        imagenet_bottom_up_all_classes.append(ancestor)\n",
    "        i += 1\n",
    "        class_an_des_list.append(i)\n",
    "  for des_idx, descentant in enumerate(node_children): # select descendants\n",
    "    if des_idx < max_depth_children:\n",
    "      if \", \" in descentant: # contains synonym, more than one, keep only one\n",
    "        imagenet_bottom_up_all_classes.append(descentant.split(\", \")[0])\n",
    "        i += 1\n",
    "        class_an_des_list.append(i)\n",
    "      else:\n",
    "        imagenet_bottom_up_all_classes.append(descentant)\n",
    "        i += 1\n",
    "        class_an_des_list.append(i)\n",
    "  imagenet_bottom_up_mapping_index_list.append(class_an_des_list)"
   ]
  },
  {
   "cell_type": "markdown",
   "metadata": {
    "id": "AWKb_k1Cpx67"
   },
   "source": [
    "len(imagenet_bottom_up_mapping_index_list) = 1000, each element is the source node and its children"
   ]
  },
  {
   "cell_type": "code",
   "execution_count": 26,
   "metadata": {
    "id": "dhfhjVBqEVs6"
   },
   "outputs": [],
   "source": [
    "imagenet_classes_an_des, class_an_des_mapping, class_an_des_mapping_list = bottom_up_hierarchy(max_depth_descendant=0)\n",
    "# len(imagenet_classes_an_des) = 1971. word\n",
    "# len(class_an_des_mapping) = 1000. starting index of each class among 1971\n",
    "# len(class_an_des_mapping_list) = 1000."
   ]
  },
  {
   "cell_type": "code",
   "execution_count": 27,
   "metadata": {
    "id": "cJUHp35n4r8G"
   },
   "outputs": [],
   "source": [
    "def compute_accuracy_details(logits, labels):\n",
    "  top_probs, top_labels = jax.lax.top_k(logits, 5)\n",
    "  top1 = 100 * jnp.mean(top_labels[:, 0] == labels)\n",
    "  top5 = 100 * jnp.sum(top_labels == labels[:, None]) / labels.shape[0]\n",
    "  return top1, top5, top_probs, top_labels"
   ]
  },
  {
   "cell_type": "code",
   "execution_count": 28,
   "metadata": {
    "id": "WU8H2Ov34qjx"
   },
   "outputs": [
    {
     "name": "stdout",
     "output_type": "stream",
     "text": [
      "Prompt Engineering: top1=38.55%, top5=67.42%\n",
      "Class Names: top1=32.03%, top5=59.90%\n"
     ]
    }
   ],
   "source": [
    "top1_prompt, top5_prompt, top5_prompt_probs, top5_prompt_labels = compute_accuracy_details(logits_prompteng, labels)\n",
    "top1_name, top5_name, top5_name_probs, top5_name_labels = compute_accuracy_details(logits_name, labels)\n",
    "print(f'Prompt Engineering: top1={top1_prompt:.2f}%, top5={top5_prompt:.2f}%')\n",
    "print(f'Class Names: top1={top1_name:.2f}%, top5={top5_name:.2f}%')"
   ]
  },
  {
   "cell_type": "code",
   "execution_count": 29,
   "metadata": {
    "id": "6_1-Kd1oGtEA"
   },
   "outputs": [],
   "source": [
    "# continuous uncertatinty value calculation\n",
    "def continuous_uncertainty_estimation(prompts=clip.PROMPTS, name_prediction=top5_name_labels[:, 0]):\n",
    "  \"\"\"obtain continuous confidence score for each image\"\"\"\n",
    "\n",
    "  # prompts decision\n",
    "  prompts_slice_log = []\n",
    "  for sample_id in range(len(prompts)): # for each different prompts\n",
    "    prompteng_slice = zeroshot_classifier(clip.IMAGENET_CLASSES, [prompts[sample_id]]) #select one each time\n",
    "    logits_slice = np.matmul(embeddings, prompteng_slice) # compute the logits\n",
    "    probs_slice = np.array(jax.nn.softmax(logits_slice, axis=-1))\n",
    "    preds_slice = jnp.argmax(probs_slice, axis=-1)\n",
    "    prompts_slice_log.append(preds_slice)\n",
    "\n",
    "  prompts_slice_log_array = np.array(prompts_slice_log) # (len(prompts), 50000)\n",
    "\n",
    "  # compare with no-prompts and use consistency to get the confidence score\n",
    "  consistency_with_nonpromp = prompts_slice_log_array == name_prediction\n",
    "  consistency_with_nonpromp_log = sum(consistency_with_nonpromp, axis=0)\n",
    "  confidence_sort_index = numpy.argsort(consistency_with_nonpromp_log) # form small to large\n",
    "\n",
    "  return prompts_slice_log_array, consistency_with_nonpromp_log, confidence_sort_index"
   ]
  },
  {
   "cell_type": "code",
   "execution_count": 30,
   "metadata": {},
   "outputs": [],
   "source": [
    "name_prediction=top5_name_labels[:, 0]\n",
    "prompt_prediction = top5_prompt_labels[:, 0]"
   ]
  },
  {
   "cell_type": "code",
   "execution_count": 31,
   "metadata": {
    "id": "ylNICVcG5pR0"
   },
   "outputs": [
    {
     "name": "stderr",
     "output_type": "stream",
     "text": [
      "100%|██████████| 100/100 [00:03<00:00, 25.36it/s]\n",
      "100%|██████████| 100/100 [00:03<00:00, 29.74it/s]\n",
      "100%|██████████| 100/100 [00:03<00:00, 29.62it/s]\n",
      "100%|██████████| 100/100 [00:03<00:00, 30.38it/s]\n",
      "100%|██████████| 100/100 [00:03<00:00, 31.18it/s]\n",
      "100%|██████████| 100/100 [00:03<00:00, 30.13it/s]\n",
      "100%|██████████| 100/100 [00:03<00:00, 30.46it/s]\n",
      "100%|██████████| 100/100 [00:03<00:00, 31.58it/s]\n",
      "100%|██████████| 100/100 [00:03<00:00, 28.70it/s]\n",
      "100%|██████████| 100/100 [00:03<00:00, 29.18it/s]\n",
      "100%|██████████| 100/100 [00:03<00:00, 27.72it/s]\n",
      "100%|██████████| 100/100 [00:03<00:00, 29.78it/s]\n",
      "100%|██████████| 100/100 [00:03<00:00, 27.47it/s]\n",
      "100%|██████████| 100/100 [00:03<00:00, 30.67it/s]\n",
      "100%|██████████| 100/100 [00:03<00:00, 30.07it/s]\n",
      "100%|██████████| 100/100 [00:03<00:00, 27.01it/s]\n",
      "100%|██████████| 100/100 [00:03<00:00, 25.46it/s]\n",
      "100%|██████████| 100/100 [00:03<00:00, 28.76it/s]\n",
      "100%|██████████| 100/100 [00:03<00:00, 29.44it/s]\n",
      "100%|██████████| 100/100 [00:03<00:00, 30.24it/s]\n",
      "100%|██████████| 100/100 [00:03<00:00, 29.42it/s]\n",
      "100%|██████████| 100/100 [00:03<00:00, 29.85it/s]\n",
      "100%|██████████| 100/100 [00:03<00:00, 30.13it/s]\n",
      "100%|██████████| 100/100 [00:03<00:00, 26.09it/s]\n",
      "100%|██████████| 100/100 [00:03<00:00, 29.52it/s]\n",
      "100%|██████████| 100/100 [00:03<00:00, 30.31it/s]\n",
      "100%|██████████| 100/100 [00:03<00:00, 32.23it/s]\n",
      "100%|██████████| 100/100 [00:03<00:00, 29.39it/s]\n",
      "100%|██████████| 100/100 [00:03<00:00, 27.58it/s]\n",
      "100%|██████████| 100/100 [00:03<00:00, 28.57it/s]\n",
      "100%|██████████| 100/100 [00:03<00:00, 26.93it/s]\n",
      "100%|██████████| 100/100 [00:03<00:00, 30.33it/s]\n",
      "100%|██████████| 100/100 [00:03<00:00, 29.44it/s]\n",
      "100%|██████████| 100/100 [00:03<00:00, 29.88it/s]\n",
      "100%|██████████| 100/100 [00:03<00:00, 29.55it/s]\n",
      "100%|██████████| 100/100 [00:03<00:00, 31.70it/s]\n",
      "100%|██████████| 100/100 [00:03<00:00, 31.58it/s]\n",
      "100%|██████████| 100/100 [00:03<00:00, 27.37it/s]\n",
      "100%|██████████| 100/100 [00:03<00:00, 29.54it/s]\n",
      "100%|██████████| 100/100 [00:03<00:00, 29.88it/s]\n",
      "100%|██████████| 100/100 [00:03<00:00, 29.71it/s]\n",
      "100%|██████████| 100/100 [00:03<00:00, 30.53it/s]\n",
      "100%|██████████| 100/100 [00:03<00:00, 31.26it/s]\n",
      "100%|██████████| 100/100 [00:03<00:00, 31.43it/s]\n",
      "100%|██████████| 100/100 [00:03<00:00, 27.02it/s]\n",
      "100%|██████████| 100/100 [00:03<00:00, 31.63it/s]\n",
      "100%|██████████| 100/100 [00:03<00:00, 32.07it/s]\n",
      "100%|██████████| 100/100 [00:03<00:00, 29.20it/s]\n",
      "100%|██████████| 100/100 [00:03<00:00, 29.44it/s]\n",
      "100%|██████████| 100/100 [00:03<00:00, 29.88it/s]\n",
      "100%|██████████| 100/100 [00:03<00:00, 29.53it/s]\n",
      "100%|██████████| 100/100 [00:03<00:00, 26.01it/s]\n",
      "100%|██████████| 100/100 [00:03<00:00, 29.38it/s]\n",
      "100%|██████████| 100/100 [00:03<00:00, 29.57it/s]\n",
      "100%|██████████| 100/100 [00:03<00:00, 29.56it/s]\n",
      "100%|██████████| 100/100 [00:03<00:00, 32.15it/s]\n",
      "100%|██████████| 100/100 [00:03<00:00, 30.28it/s]\n",
      "100%|██████████| 100/100 [00:03<00:00, 29.59it/s]\n",
      "100%|██████████| 100/100 [00:03<00:00, 26.68it/s]\n",
      "100%|██████████| 100/100 [00:03<00:00, 31.49it/s]\n",
      "100%|██████████| 100/100 [00:03<00:00, 29.49it/s]\n",
      "100%|██████████| 100/100 [00:03<00:00, 29.07it/s]\n",
      "100%|██████████| 100/100 [00:03<00:00, 29.74it/s]\n",
      "100%|██████████| 100/100 [00:03<00:00, 29.22it/s]\n",
      "100%|██████████| 100/100 [00:03<00:00, 29.57it/s]\n",
      "100%|██████████| 100/100 [00:03<00:00, 27.18it/s]\n",
      "100%|██████████| 100/100 [00:03<00:00, 27.49it/s]\n",
      "100%|██████████| 100/100 [00:03<00:00, 28.96it/s]\n",
      "100%|██████████| 100/100 [00:03<00:00, 29.65it/s]\n",
      "100%|██████████| 100/100 [00:03<00:00, 28.93it/s]\n",
      "100%|██████████| 100/100 [00:03<00:00, 29.16it/s]\n",
      "100%|██████████| 100/100 [00:03<00:00, 27.63it/s]\n",
      "100%|██████████| 100/100 [00:03<00:00, 29.36it/s]\n",
      "100%|██████████| 100/100 [00:03<00:00, 28.44it/s]\n",
      "100%|██████████| 100/100 [00:03<00:00, 31.12it/s]\n",
      "100%|██████████| 100/100 [00:03<00:00, 32.80it/s]\n",
      "100%|██████████| 100/100 [00:03<00:00, 29.85it/s]\n",
      "100%|██████████| 100/100 [00:03<00:00, 26.87it/s]\n",
      "100%|██████████| 100/100 [00:03<00:00, 26.23it/s]\n",
      "100%|██████████| 100/100 [00:03<00:00, 28.82it/s]\n",
      "/usr/local/lib/python3.10/dist-packages/jax/_src/numpy/lax_numpy.py:3961: UserWarning: 'kind' argument to argsort is ignored; only 'stable' sorts are supported.\n",
      "  warnings.warn(\"'kind' argument to argsort is ignored; only 'stable' sorts \"\n"
     ]
    },
    {
     "data": {
      "text/plain": [
       "Array(0.0473, dtype=float32)"
      ]
     },
     "execution_count": 31,
     "metadata": {},
     "output_type": "execute_result"
    }
   ],
   "source": [
    "prompts_slice_log_array, consistency_with_nonpromp_log, confidence_sort_index = continuous_uncertainty_estimation()\n",
    "\n",
    "# Calculate accuracy of the low confidence set\n",
    "low_confident_set_size = 10000\n",
    "low_confident_set_index = confidence_sort_index[:low_confident_set_size]\n",
    "# Computed accuracy for the low confidence set\n",
    "acc = np.mean(name_prediction[np.array(low_confident_set_index)] == labels[low_confident_set_index])\n",
    "acc"
   ]
  },
  {
   "cell_type": "markdown",
   "metadata": {
    "id": "stxXR-Leus3E"
   },
   "source": [
    "## Hierarchy-CLIP"
   ]
  },
  {
   "cell_type": "markdown",
   "metadata": {
    "id": "vn6hvP-7fYbf"
   },
   "source": [
    "### Continuous Solution"
   ]
  },
  {
   "cell_type": "code",
   "execution_count": 32,
   "metadata": {
    "id": "tPz9nJZmCC8H"
   },
   "outputs": [],
   "source": [
    "an_des_dict = an_des_dict_json"
   ]
  },
  {
   "cell_type": "code",
   "execution_count": 33,
   "metadata": {
    "id": "ugX9IXHvCEaz"
   },
   "outputs": [],
   "source": [
    "def zeroshot_classifier_hierarchy(classnames, templates, permute=False):\n",
    "  zeroshot_weights = []\n",
    "  permute_fn = permute_words if permute else lambda x: x\n",
    "  for classname in classnames:\n",
    "    texts = [permute_fn(template.format(classname.split('|')[0]) + template.format(classname.split('|')[1])) for template in templates]\n",
    "    class_embeddings = encode_text(tokenize_fn(texts))\n",
    "    class_embedding = class_embeddings.mean(0)\n",
    "    class_embedding /= jnp.linalg.norm(class_embedding)\n",
    "    zeroshot_weights.append(class_embedding)\n",
    "  return jnp.stack(zeroshot_weights, axis=1)"
   ]
  },
  {
   "cell_type": "code",
   "execution_count": 34,
   "metadata": {
    "id": "vpu-BSCfVWNU"
   },
   "outputs": [],
   "source": [
    "def compute_accuracy_rerank(logits, ori_labels, labels):\n",
    "  \"\"\"based on logits, reorder the ori_top5_labels and compare with true labels\"\"\"\n",
    "\n",
    "  top_probs, top_labels_index = jax.lax.top_k(logits, 1)\n",
    "  top_labels = np.array([ele[top_labels_index[idx]] for idx, ele in enumerate(tqdm(ori_labels))])\n",
    "  top1 = 100 * jnp.mean(top_labels[:, 0] == labels)\n",
    "  return top1, top_probs, top_labels"
   ]
  },
  {
   "cell_type": "code",
   "execution_count": 35,
   "metadata": {
    "id": "q81hCYl6qA84"
   },
   "outputs": [
    {
     "name": "stderr",
     "output_type": "stream",
     "text": [
      "1000it [02:53,  5.78it/s]\n",
      "100%|██████████| 1000/1000 [00:00<00:00, 1538.04it/s]"
     ]
    },
    {
     "name": "stdout",
     "output_type": "stream",
     "text": [
      "acc_stable: 0.32616326\n",
      "acc_unstable_ori: 0.034\n",
      "acc_unstable_with_Hierarchy-CLIP: 17.0\n",
      "overall_acc_with_Hierarchy-CLIP: 32.304\n"
     ]
    },
    {
     "name": "stderr",
     "output_type": "stream",
     "text": [
      "\n"
     ]
    }
   ],
   "source": [
    "# Bottom-up and top-down augmented inference\n",
    "\n",
    "from collections import Counter\n",
    "\n",
    "an_des_dict = an_des_dict_json # simplified wordnet\n",
    "fill_empty_parent = ''\n",
    "unstable_num = 1000\n",
    "# stable set and unstable set\n",
    "unstable_index = confidence_sort_index[:unstable_num] # number of rejected/unstable images\n",
    "stable_index = np.array(list(set(range(len(labels))) - set(unstable_index.tolist()))) # stable, np.array\n",
    "\n",
    "# 1. accuracy of the stable samples:\n",
    "# Computed accuracy\n",
    "acc_stable = np.mean(name_prediction[stable_index] == labels[stable_index])\n",
    "\n",
    "acc_unstable_ori = np.mean(name_prediction[unstable_index] == labels[unstable_index])\n",
    "\n",
    "\n",
    "# 2. accuracy of the unstable samples: use our hierarchy\n",
    "# analysis top 5 in all different cases of baseline\n",
    "baseline_top5 = top5_name_labels[unstable_index]\n",
    "baseline_top5_probs = top5_name_probs[unstable_index]\n",
    "diff_image_embeddings = embeddings[unstable_index]\n",
    "unstable_id_gt_labels = labels[unstable_index]\n",
    "\n",
    "unstable_case = top5_name_labels[unstable_index]   # original top-5 prediction\n",
    "unstable_case_label = labels[unstable_index] # top-5 GT labels\n",
    "\n",
    "# [Top-5 Ancestor collection] calculate Ancestor from simple wordnet for unstable cases\n",
    "A_all = []\n",
    "for example in unstable_case: # for each unstable image\n",
    "  # ancestor of top 5\n",
    "  top5_ancestor = []\n",
    "  # top5_ancestor_raw = []\n",
    "  for ind, top_k in enumerate(example):\n",
    "    if an_des_dict[str(example[ind])]['ancestors']==[]: # no ancestor\n",
    "      top5_ancestor.append(fill_empty_parent)\n",
    "    else:\n",
    "      top5_ancestor.append(an_des_dict[str(example[ind])]['ancestors'].copy()[0]) # avoid influence the root\n",
    "  A_all.append(top5_ancestor)\n",
    "\n",
    "\n",
    "# add ancestor to all candidate classes\n",
    "logits_ori_all = []\n",
    "for idx, unstable_case_ele in tqdm(enumerate(unstable_case)): # for each unstable image\n",
    "  # original word embedding\n",
    "  word_list_ori = np.array(clip.IMAGENET_CLASSES)[np.array(unstable_case_ele)].tolist()\n",
    "  word_list_hierarchy = [] # raw words with only [bottom up]\n",
    "  word_list_hierarchy_with_prompt = [] # words add prompt and ancestor [bottom up + top down]\n",
    "  wordid_list_hierarchy_list = [] # details of index [[1,2], [3,4,5], [6], [7,8], [9]]\n",
    "  wordid_list_hierarchy_mapping_list = [] # used for reduceat (index of first element for each top-5) [1,3,6,7,9]\n",
    "  i = 0 # tracking each class/child class\n",
    "  for word_id, word in enumerate(word_list_ori): # for each class in top 5\n",
    "    tempid_list = [] # for specific word in top5\n",
    "    wordid_list_hierarchy_mapping_list.append(i)\n",
    "    for child_id in class_an_des_mapping_list[unstable_case_ele[word_id]]: # for each children or element [Bottom-up]\n",
    "      raw_word = imagenet_classes_an_des[child_id-1]\n",
    "      word_list_hierarchy.append(raw_word) # child_id start from 1 not 0\n",
    "      word_list_hierarchy_with_prompt.append(raw_word + ' which is a kind of|' + A_all[idx][word_id]) # [Top-down]\n",
    "      # word_list_hierarchy_with_prompt.append(raw_word + ' which is a kind of' + A_all[idx][word_id]) # [Top-down]\n",
    "      tempid_list.append(i)\n",
    "      i+=1\n",
    "    wordid_list_hierarchy_list.append(tempid_list)\n",
    "  word_list = word_list_hierarchy_with_prompt # could change\n",
    "\n",
    "  # inference\n",
    "  word_weights_ori = zeroshot_classifier_hierarchy(word_list, ['{}']) # (512, 5) # do not use prompt ensemble\n",
    "  # word_weights_ori = zeroshot_classifier_hierarchy(word_list, clip.PROMPTS) # (512, 5)\n",
    "  img_embedding = diff_image_embeddings[idx] # (1, 512) single image\n",
    "  logits_ori_raw = np.matmul(img_embedding, word_weights_ori)\n",
    "  logits_ori_raw = logits_ori_raw[np.newaxis, :]\n",
    "  logits_ori = np.maximum.reduceat(logits_ori_raw, indices=wordid_list_hierarchy_mapping_list, axis=1)\n",
    "  logits_ori_all.append(logits_ori)\n",
    "logits_ori_all_array = np.array(logits_ori_all)[:, 0, :]\n",
    "\n",
    "# Manually computed accuracy\n",
    "unstable_top1_acc, unstable_top_probs, unstable_top_labels = compute_accuracy_rerank(logits_ori_all_array, unstable_case, unstable_case_label)\n",
    "\n",
    "\n",
    "# compute overall accuracy\n",
    "overall_acc = (acc_stable*100*len(stable_index) + unstable_top1_acc*len(unstable_index))/len(labels)\n",
    "\n",
    "print(\"acc_stable:\", acc_stable)\n",
    "print(\"acc_unstable_ori:\", acc_unstable_ori)\n",
    "print(\"acc_unstable_with_Hierarchy-CLIP:\", unstable_top1_acc)\n",
    "print(\"overall_acc_with_Hierarchy-CLIP:\", overall_acc)"
   ]
  }
 ],
 "metadata": {
  "colab": {
   "private_outputs": true,
   "provenance": [],
   "toc_visible": true
  },
  "kernelspec": {
   "display_name": "Python 3 (ipykernel)",
   "language": "python",
   "name": "python3"
  },
  "language_info": {
   "codemirror_mode": {
    "name": "ipython",
    "version": 3
   },
   "file_extension": ".py",
   "mimetype": "text/x-python",
   "name": "python",
   "nbconvert_exporter": "python",
   "pygments_lexer": "ipython3",
   "version": "3.10.12"
  }
 },
 "nbformat": 4,
 "nbformat_minor": 4
}
