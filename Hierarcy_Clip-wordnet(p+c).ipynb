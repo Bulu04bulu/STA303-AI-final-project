{
 "cells": [
  {
   "cell_type": "markdown",
   "metadata": {
    "id": "DD02wux82iLo"
   },
   "source": [
    "## 1. Reproducing CLIP zero-shot ImageNet classification performance\n",
    "\n",
    "Replicating the latest OpenAI [Colab](https://github.com/openai/CLIP/blob/main/notebooks/Prompt_Engineering_for_ImageNet.ipynb).\n"
   ]
  },
  {
   "cell_type": "code",
   "execution_count": 1,
   "metadata": {
    "id": "ZrHcKMdltCnX"
   },
   "outputs": [
    {
     "name": "stdout",
     "output_type": "stream",
     "text": [
      "%pylab is deprecated, use %matplotlib inline and import the required libraries.\n",
      "Populating the interactive namespace from numpy and matplotlib\n"
     ]
    }
   ],
   "source": [
    "%pylab inline\n",
    "import tensorflow_datasets as tfds\n",
    "import jax\n",
    "import jax.numpy as jnp\n",
    "from tqdm import tqdm\n",
    "import tensorflow as tf\n",
    "import random\n",
    "import os\n",
    "import json\n",
    "from scipy.special import softmax\n",
    "from PIL import Image\n",
    "import pandas as pd\n",
    "from scenic.projects.baselines.clip import model as clip\n",
    "from scenic.projects.baselines.clip import tokenizer as clip_tokenizer"
   ]
  },
  {
   "cell_type": "code",
   "execution_count": 166,
   "metadata": {},
   "outputs": [],
   "source": [
    "clip.CLASSES = ['apple',\n",
    " 'aquarium_fish',\n",
    " 'baby',\n",
    " 'bear',\n",
    " 'beaver',\n",
    " 'bed',\n",
    " 'bee',\n",
    " 'beetle',\n",
    " 'bicycle',\n",
    " 'bottle',\n",
    " 'bowl',\n",
    " 'boy',\n",
    " 'bridge',\n",
    " 'bus',\n",
    " 'butterfly',\n",
    " 'camel',\n",
    " 'can',\n",
    " 'castle',\n",
    " 'caterpillar',\n",
    " 'cattle',\n",
    " 'chair',\n",
    " 'chimpanzee',\n",
    " 'clock',\n",
    " 'cloud',\n",
    " 'cockroach',\n",
    " 'couch',\n",
    " 'crab',\n",
    " 'crocodile',\n",
    " 'cup',\n",
    " 'dinosaur',\n",
    " 'dolphin',\n",
    " 'elephant',\n",
    " 'flatfish',\n",
    " 'forest',\n",
    " 'fox',\n",
    " 'girl',\n",
    " 'hamster',\n",
    " 'house',\n",
    " 'kangaroo',\n",
    " 'keyboard',\n",
    " 'lamp',\n",
    " 'lawn_mower',\n",
    " 'leopard',\n",
    " 'lion',\n",
    " 'lizard',\n",
    " 'lobster',\n",
    " 'man',\n",
    " 'maple_tree',\n",
    " 'motorcycle',\n",
    " 'mountain',\n",
    " 'mouse',\n",
    " 'mushroom',\n",
    " 'oak_tree',\n",
    " 'orange',\n",
    " 'orchid',\n",
    " 'otter',\n",
    " 'palm_tree',\n",
    " 'pear',\n",
    " 'pickup_truck',\n",
    " 'pine_tree',\n",
    " 'plain',\n",
    " 'plate',\n",
    " 'poppy',\n",
    " 'porcupine',\n",
    " 'possum',\n",
    " 'rabbit',\n",
    " 'raccoon',\n",
    " 'ray',\n",
    " 'road',\n",
    " 'rocket',\n",
    " 'rose',\n",
    " 'sea',\n",
    " 'seal',\n",
    " 'shark',\n",
    " 'shrew',\n",
    " 'skunk',\n",
    " 'skyscraper',\n",
    " 'snail',\n",
    " 'snake',\n",
    " 'spider',\n",
    " 'squirrel',\n",
    " 'streetcar',\n",
    " 'sunflower',\n",
    " 'sweet_pepper',\n",
    " 'table',\n",
    " 'tank',\n",
    " 'telephone',\n",
    " 'television',\n",
    " 'tiger',\n",
    " 'tractor',\n",
    " 'train',\n",
    " 'trout',\n",
    " 'tulip',\n",
    " 'turtle',\n",
    " 'wardrobe',\n",
    " 'whale',\n",
    " 'willow_tree',\n",
    " 'wolf',\n",
    " 'woman',\n",
    " 'worm']\n",
    "# clip.IMAGENET_CLASSES = ['beaver',\n",
    "#  'dolphin',\n",
    "#  'otter',\n",
    "#  'seal',\n",
    "#  'whale',\n",
    "#  'aquarium_fish',\n",
    "#  'flatfish',\n",
    "#  'ray',\n",
    "#  'shark',\n",
    "#  'trout',\n",
    "#  'orchid',\n",
    "#  'poppy',\n",
    "#  'rose',\n",
    "#  'sunflower',\n",
    "#  'tulip',\n",
    "#  'bottle',\n",
    "#  'bowl',\n",
    "#  'can',\n",
    "#  'cup',\n",
    "#  'plate',\n",
    "#  'apple',\n",
    "#  'mushroom',\n",
    "#  'orange',\n",
    "#  'pear',\n",
    "#  'sweet_pepper',\n",
    "#  'clock',\n",
    "#  'keyboard',\n",
    "#  'lamp',\n",
    "#  'telephone',\n",
    "#  'television',\n",
    "#  'bed',\n",
    "#  'chair',\n",
    "#  'couch',\n",
    "#  'table',\n",
    "#  'wardrobe',\n",
    "#  'bee',\n",
    "#  'beetle',\n",
    "#  'butterfly',\n",
    "#  'caterpillar',\n",
    "#  'cockroach',\n",
    "#  'bear',\n",
    "#  'leopard',\n",
    "#  'lion',\n",
    "#  'tiger',\n",
    "#  'wolf',\n",
    "#  'bridge',\n",
    "#  'castle',\n",
    "#  'house',\n",
    "#  'road',\n",
    "#  'skyscraper',\n",
    "#  'cloud',\n",
    "#  'forest',\n",
    "#  'mountain',\n",
    "#  'plain',\n",
    "#  'sea',\n",
    "#  'camel',\n",
    "#  'cattle',\n",
    "#  'chimpanzee',\n",
    "#  'elephant',\n",
    "#  'kangaroo',\n",
    "#  'fox',\n",
    "#  'porcupine',\n",
    "#  'possum',\n",
    "#  'raccoon',\n",
    "#  'skunk',\n",
    "#  'crab',\n",
    "#  'lobster',\n",
    "#  'snail',\n",
    "#  'spider',\n",
    "#  'worm',\n",
    "#  'baby',\n",
    "#  'boy',\n",
    "#  'girl',\n",
    "#  'man',\n",
    "#  'woman',\n",
    "#  'crocodile',\n",
    "#  'dinosaur',\n",
    "#  'lizard',\n",
    "#  'snake',\n",
    "#  'turtle',\n",
    "#  'hamster',\n",
    "#  'mouse',\n",
    "#  'rabbit',\n",
    "#  'shrew',\n",
    "#  'squirrel',\n",
    "#  'maple_tree',\n",
    "#  'oak_tree',\n",
    "#  'palm_tree',\n",
    "#  'pine_tree',\n",
    "#  'willow_tree',\n",
    "#  'bicycle',\n",
    "#  'bus',\n",
    "#  'motorcycle',\n",
    "#  'pickup_truck',\n",
    "#  'train',\n",
    "#  'lawn_mower',\n",
    "#  'rocket',\n",
    "#  'streetcar',\n",
    "#  'tank',\n",
    "#  'tractor']"
   ]
  },
  {
   "cell_type": "code",
   "execution_count": 167,
   "metadata": {},
   "outputs": [
    {
     "name": "stdout",
     "output_type": "stream",
     "text": [
      "['apple', 'aquarium_fish', 'baby', 'bear', 'beaver', 'bed', 'bee', 'beetle', 'bicycle', 'bottle', 'bowl', 'boy', 'bridge', 'bus', 'butterfly', 'camel', 'can', 'castle', 'caterpillar', 'cattle', 'chair', 'chimpanzee', 'clock', 'cloud', 'cockroach', 'couch', 'crab', 'crocodile', 'cup', 'dinosaur', 'dolphin', 'elephant', 'flatfish', 'forest', 'fox', 'girl', 'hamster', 'house', 'kangaroo', 'keyboard', 'lamp', 'lawn_mower', 'leopard', 'lion', 'lizard', 'lobster', 'man', 'maple_tree', 'motorcycle', 'mountain', 'mouse', 'mushroom', 'oak_tree', 'orange', 'orchid', 'otter', 'palm_tree', 'pear', 'pickup_truck', 'pine_tree', 'plain', 'plate', 'poppy', 'porcupine', 'possum', 'rabbit', 'raccoon', 'ray', 'road', 'rocket', 'rose', 'sea', 'seal', 'shark', 'shrew', 'skunk', 'skyscraper', 'snail', 'snake', 'spider', 'squirrel', 'streetcar', 'sunflower', 'sweet_pepper', 'table', 'tank', 'telephone', 'television', 'tiger', 'tractor', 'train', 'trout', 'tulip', 'turtle', 'wardrobe', 'whale', 'willow_tree', 'wolf', 'woman', 'worm']\n"
     ]
    }
   ],
   "source": [
    "print(clip.CLASSES)"
   ]
  },
  {
   "cell_type": "code",
   "execution_count": 37,
   "metadata": {
    "id": "JIzYXXxzTAzZ"
   },
   "outputs": [
    {
     "name": "stderr",
     "output_type": "stream",
     "text": [
      "\n",
      "  0%|                                              | 0.00/1.29M [00:00<?, ?iB/s]\u001b[A\n",
      "  8%|███                                    | 104k/1.29M [00:00<00:01, 928kiB/s]\u001b[A\n",
      "100%|█████████████████████████████████████| 1.29M/1.29M [00:00<00:00, 4.47MiB/s]\u001b[A\n"
     ]
    }
   ],
   "source": [
    "model_name = 'vit_b16' # we could change different backbone\n",
    "\n",
    "model = clip.MODELS[model_name]()\n",
    "vars = clip.load_model_vars(model_name)\n",
    "\n",
    "encode_text = jax.jit(lambda texts: model.apply(vars, texts, method=model.encode_text))\n",
    "encode_image = jax.jit(lambda x: model.apply(vars, x, method=model.encode_image))\n",
    "\n",
    "tokenize_fn = clip_tokenizer.build_tokenizer()"
   ]
  },
  {
   "cell_type": "code",
   "execution_count": 38,
   "metadata": {
    "id": "lRjGzv6sosYZ"
   },
   "outputs": [],
   "source": [
    "def permute_words(text):\n",
    "  words = text.split(' ')\n",
    "  random.shuffle(words)\n",
    "  return ' '.join(words)\n",
    "\n",
    "def zeroshot_classifier(classnames, templates, permute=False):\n",
    "  zeroshot_weights = []\n",
    "  permute_fn = permute_words if permute else lambda x: x\n",
    "  for classname in tqdm(classnames):\n",
    "    texts = [permute_fn(template.format(classname)) for template in templates]\n",
    "    class_embeddings = encode_text(tokenize_fn(texts))\n",
    "    class_embedding = class_embeddings.mean(0)\n",
    "    class_embedding /= jnp.linalg.norm(class_embedding)\n",
    "    zeroshot_weights.append(class_embedding)\n",
    "  return jnp.stack(zeroshot_weights, axis=1)\n"
   ]
  },
  {
   "cell_type": "code",
   "execution_count": 164,
   "metadata": {
    "id": "nw6OUXuMpQ3Q"
   },
   "outputs": [
    {
     "name": "stderr",
     "output_type": "stream",
     "text": [
      "100%|██████████| 100/100 [00:58<00:00,  1.71it/s]\n",
      "100%|██████████| 100/100 [00:03<00:00, 25.99it/s]\n"
     ]
    }
   ],
   "source": [
    "# Readout weights with prompt engineering\n",
    "weights_prompteng = zeroshot_classifier(clip.CLASSES, clip.PROMPTS)\n",
    "\n",
    "# Readout weights with modified ImageNet class names only\n",
    "weights_name = zeroshot_classifier(clip.CLASSES, ['{}'])\n"
   ]
  },
  {
   "cell_type": "code",
   "execution_count": 40,
   "metadata": {
    "id": "HLxQkmIIaeH2"
   },
   "outputs": [],
   "source": [
    "def preprocess(batch, size=224):\n",
    "  batch = tf.image.convert_image_dtype(batch, dtype=tf.float32)\n",
    "  return central_crop(resize_small(batch, size), (size, size))\n",
    "\n",
    "def central_crop(image, crop_size):\n",
    "    '''\n",
    "    image\n",
    "    crop_size: (h, w)\n",
    "    '''\n",
    "    h, w = crop_size[0], crop_size[1]\n",
    "    dy = (tf.shape(image)[0] - h) // 2\n",
    "    dx = (tf.shape(image)[1] - w) // 2\n",
    "    return tf.image.crop_to_bounding_box(image, dy, dx, h, w)\n",
    "\n",
    "def resize_small(image, smaller_size, method=\"area\", antialias=True):\n",
    "    '''\n",
    "    image\n",
    "    smaller_size: an integer, that represents a new size of the smaller side of\n",
    "      an input image.\n",
    "    '''\n",
    "    h, w = tf.shape(image)[0], tf.shape(image)[1]\n",
    "\n",
    "    # Figure out the necessary h/w.\n",
    "    ratio = (\n",
    "        tf.cast(smaller_size, tf.float32) /\n",
    "        tf.cast(tf.minimum(h, w), tf.float32))\n",
    "    h = tf.cast(tf.round(tf.cast(h, tf.float32) * ratio), tf.int32)\n",
    "    w = tf.cast(tf.round(tf.cast(w, tf.float32) * ratio), tf.int32)\n",
    "\n",
    "    dtype = image.dtype\n",
    "    image = tf.image.resize(image, (h, w), method, antialias)\n",
    "    return tf.cast(image, dtype)\n",
    "\n",
    "\n",
    "def normalize(img):\n",
    "  return (img - clip.IMAGE_MEAN) / clip.IMAGE_STD\n",
    "\n",
    "def unnormalize(x):\n",
    "  return x * clip.IMAGE_STD + clip.IMAGE_MEAN"
   ]
  },
  {
   "cell_type": "code",
   "execution_count": 41,
   "metadata": {
    "id": "VZx-2xM2uflF"
   },
   "outputs": [],
   "source": [
    "def load_dataset(dataset='cifar100', split='train', batch_size=1024):\n",
    "  ds = tfds.load(dataset, split=split)\n",
    "  def _preprocess(d):\n",
    "    d['image'] = normalize(preprocess(d['image']))\n",
    "    return d\n",
    "  def _prepare(d):\n",
    "    return jax.tree_map(lambda x: x._numpy(), d)\n",
    "  batched_dataset = ds.map(_preprocess).batch(batch_size)\n",
    "  batched_dataset = map(_prepare, batched_dataset)\n",
    "  return batched_dataset\n",
    "\n",
    "# def load_dataset_info(dataset='cifar100', split='train', batch_size=1024):\n",
    "#   ds, info = tfds.load(dataset, split=split, with_info=\"true\")\n",
    "#   def _preprocess(d):\n",
    "#     d['image'] = normalize(preprocess(d['image']))\n",
    "#     return d\n",
    "#   def _prepare(d):\n",
    "#     return jax.tree_map(lambda x: x._numpy(), d)\n",
    "#   batched_dataset = ds.map(_preprocess).batch(batch_size)\n",
    "#   batched_dataset = map(_prepare, batched_dataset)\n",
    "#   return batched_dataset, info\n",
    "\n",
    "# def load_dataset_from(data_dir='YOUR/LOCAL/PATH/imagenet2012', dataset='cifar100', split='train', batch_size=1024):\n",
    "#   # ds = tfds.load(dataset, split=split, data_dir=data_dir)\n",
    "#   ds = tfds.builder_from_directory(data_dir)\n",
    "#   ds = ds.as_dataset(split='validation')\n",
    "#   def _preprocess(d):\n",
    "#     d['image'] = normalize(preprocess(d['image']))\n",
    "#     return d\n",
    "#   def _prepare(d):\n",
    "#     return jax.tree_map(lambda x: x._numpy(), d)\n",
    "#   batched_dataset = ds.map(_preprocess).batch(batch_size)\n",
    "#   batched_dataset = map(_prepare, batched_dataset)\n",
    "#   return batched_dataset"
   ]
  },
  {
   "cell_type": "code",
   "execution_count": 42,
   "metadata": {
    "id": "nlfoPT44NafG"
   },
   "outputs": [],
   "source": [
    "def compute_image_embeddings(dset, norm_image=True):\n",
    "  embeddings = []\n",
    "  labels = []\n",
    "  for batch in tqdm(dset):\n",
    "    image_embedding = encode_image(batch['image'])\n",
    "    if norm_image:\n",
    "      image_embedding /= jnp.linalg.norm(image_embedding)\n",
    "    embeddings.append(image_embedding)\n",
    "    labels.append(batch['label'])\n",
    "  return jnp.vstack(embeddings), jnp.hstack(labels)\n",
    "\n",
    "def compute_accuracy(logits, labels):\n",
    "  top_probs, top_labels = jax.lax.top_k(logits, 5)\n",
    "  top1 = 100 * jnp.mean(top_labels[:, 0] == labels)\n",
    "  top5 = 100 * jnp.sum(top_labels == labels[:, None]) / labels.shape[0]\n",
    "  return top1, top5"
   ]
  },
  {
   "cell_type": "code",
   "execution_count": 44,
   "metadata": {
    "id": "7IRsBlmgN0nz"
   },
   "outputs": [],
   "source": [
    "dset = load_dataset('cifar100')"
   ]
  },
  {
   "cell_type": "code",
   "execution_count": 45,
   "metadata": {},
   "outputs": [
    {
     "name": "stderr",
     "output_type": "stream",
     "text": [
      "\n",
      "  2%|▌                                | 24.0k/1.29M [1:20:27<72:41:39, 5.09iB/s]\n",
      "\n",
      "1it [00:27, 27.96s/it]\u001b[A\n",
      "2it [00:48, 23.81s/it]\u001b[A\n",
      "3it [01:08, 21.79s/it]\u001b[A\n",
      "4it [01:26, 20.39s/it]\u001b[A\n",
      "5it [01:45, 19.77s/it]\u001b[A\n",
      "6it [02:05, 19.83s/it]\u001b[A\n",
      "7it [02:23, 19.36s/it]\u001b[A\n",
      "8it [02:41, 19.02s/it]\u001b[A\n",
      "9it [03:00, 18.83s/it]\u001b[A\n",
      "10it [03:18, 18.60s/it]\u001b[A\n",
      "11it [03:35, 18.09s/it]\u001b[A\n",
      "12it [03:52, 17.69s/it]\u001b[A\n",
      "13it [04:08, 17.48s/it]\u001b[A\n",
      "14it [04:25, 17.31s/it]\u001b[A\n",
      "15it [04:42, 17.20s/it]\u001b[A\n",
      "16it [04:59, 17.14s/it]\u001b[A\n",
      "17it [05:16, 17.04s/it]\u001b[A\n",
      "18it [05:33, 17.02s/it]\u001b[A\n",
      "19it [05:50, 16.97s/it]\u001b[A\n",
      "20it [06:07, 16.93s/it]\u001b[A\n",
      "21it [06:24, 16.98s/it]\u001b[A\n",
      "22it [06:41, 17.00s/it]\u001b[A\n",
      "23it [06:58, 16.98s/it]\u001b[A\n",
      "24it [07:15, 17.00s/it]\u001b[A\n",
      "25it [07:32, 17.00s/it]\u001b[A\n",
      "26it [07:51, 17.66s/it]\u001b[A\n",
      "27it [08:08, 17.47s/it]\u001b[A\n",
      "28it [08:25, 17.32s/it]\u001b[A\n",
      "29it [08:42, 17.19s/it]\u001b[A\n",
      "30it [08:59, 17.10s/it]\u001b[A\n",
      "31it [09:16, 17.04s/it]\u001b[A\n",
      "32it [09:33, 17.06s/it]\u001b[A\n",
      "33it [09:50, 17.03s/it]\u001b[A\n",
      "34it [10:07, 17.04s/it]\u001b[A\n",
      "35it [10:24, 17.00s/it]\u001b[A\n",
      "36it [10:41, 16.99s/it]\u001b[A\n",
      "37it [10:58, 16.97s/it]\u001b[A\n",
      "38it [11:15, 16.98s/it]\u001b[A\n",
      "39it [11:32, 17.05s/it]\u001b[A\n",
      "40it [11:49, 17.00s/it]\u001b[A\n",
      "41it [12:06, 17.00s/it]\u001b[A\n",
      "42it [12:23, 17.05s/it]\u001b[A\n",
      "43it [12:40, 17.03s/it]\u001b[A\n",
      "44it [12:57, 17.05s/it]\u001b[A\n",
      "45it [13:14, 17.15s/it]\u001b[A\n",
      "46it [13:31, 17.05s/it]\u001b[A\n",
      "47it [13:48, 17.02s/it]\u001b[A\n",
      "48it [14:05, 17.05s/it]\u001b[A\n",
      "49it [14:26, 17.69s/it]\u001b[A\n"
     ]
    }
   ],
   "source": [
    "embeddings, labels = compute_image_embeddings(dset)"
   ]
  },
  {
   "cell_type": "code",
   "execution_count": 145,
   "metadata": {},
   "outputs": [
    {
     "name": "stdout",
     "output_type": "stream",
     "text": [
      "50000\n"
     ]
    }
   ],
   "source": [
    "print(len(labels))"
   ]
  },
  {
   "cell_type": "code",
   "execution_count": 149,
   "metadata": {},
   "outputs": [
    {
     "name": "stdout",
     "output_type": "stream",
     "text": [
      "<map object at 0x7f60fca830a0>\n"
     ]
    }
   ],
   "source": [
    "print(dset)"
   ]
  },
  {
   "cell_type": "code",
   "execution_count": 165,
   "metadata": {
    "id": "bV7jIm8sFjHD"
   },
   "outputs": [
    {
     "name": "stdout",
     "output_type": "stream",
     "text": [
      "Prompt Engineering: top1=38.55%, top5=67.42%\n",
      "Class Names: top1=32.03%, top5=59.90%\n"
     ]
    }
   ],
   "source": [
    "# More accurate and consistent result\n",
    "logits_prompteng = np.matmul(embeddings, weights_prompteng)\n",
    "logits_name = np.matmul(embeddings, weights_name)\n",
    "top1_prompt, top5_prompt = compute_accuracy(logits_prompteng, labels)\n",
    "top1_name, top5_name = compute_accuracy(logits_name, labels)\n",
    "print(f'Prompt Engineering: top1={top1_prompt:.2f}%, top5={top5_prompt:.2f}%')\n",
    "print(f'Class Names: top1={top1_name:.2f}%, top5={top5_name:.2f}%')"
   ]
  },
  {
   "cell_type": "markdown",
   "metadata": {
    "id": "SLeqlvKV3ZpT"
   },
   "source": [
    "## 2. Build hierarchy from WordNet\n",
    "\n",
    "The wordnet hierarchy is based on Github repo: https://github.com/niharikajainn/imagenet-ancestors-descendants\n"
   ]
  },
  {
   "cell_type": "markdown",
   "metadata": {
    "id": "xMc8VFmpzH8p"
   },
   "source": [
    "### WordNet parse"
   ]
  },
  {
   "cell_type": "code",
   "execution_count": 168,
   "metadata": {
    "id": "RepSntjHI8Er"
   },
   "outputs": [],
   "source": [
    "root_path ='/data/lab/Hierarchy-CLIP/' # VM yunhao"
   ]
  },
  {
   "cell_type": "code",
   "execution_count": 169,
   "metadata": {
    "id": "GI8y4W79zH8p"
   },
   "outputs": [],
   "source": [
    "words_map = {}\n",
    "child_map = {}\n",
    "parent_map = {}\n",
    "gloss_map = {} # description\n",
    "words_path = os.path.join(root_path, \"imagenet-ancestors-descendants\", \"words.txt\")\n",
    "gloss_path = os.path.join(root_path, \"imagenet-ancestors-descendants\", \"gloss.txt\")\n",
    "child_map_path = os.path.join(root_path, \"imagenet-ancestors-descendants\", \"is_a.txt\")\n",
    "imagenet_label_to_wordnet_file = os.path.join(root_path, \"imagenet-ancestors-descendants\", \"imagenet_label_to_wordnet_synset.txt\")\n",
    "\n",
    "blank = ' '\n",
    "comma_blank = ', '"
   ]
  },
  {
   "cell_type": "code",
   "execution_count": 170,
   "metadata": {
    "id": "gSGZoG3CzH8p"
   },
   "outputs": [],
   "source": [
    "#obtain wordnet_id mappings for all words\n",
    "with tf.io.gfile.GFile(words_path, mode='r') as f:\n",
    "\tfor line in f:\n",
    "\t\tline_split = line.split() # use blank \" \" to split\n",
    "\t\twnid = line_split[0] # e.g., 'n03200357'\n",
    "\t\twords = line_split[1:] # e.g., ['electric,', 'electric', 'automobile,', 'electric', 'car'],\n",
    "\t\twords_map[wnid] = words\n",
    "f.close()"
   ]
  },
  {
   "cell_type": "code",
   "execution_count": 171,
   "metadata": {
    "id": "KAeBPSSxzH8q"
   },
   "outputs": [],
   "source": [
    "#obtain wordnet_id mappings for all word description\n",
    "with tf.io.gfile.GFile(gloss_path, mode='r') as f:\n",
    "\tfor line in f:\n",
    "\t\tline_split = line.split()\n",
    "\t\twnid = line_split[0]\n",
    "\t\tgloss = blank.join(line_split[1:])\n",
    "\t\tgloss_map[wnid] = gloss\n",
    "f.close()"
   ]
  },
  {
   "cell_type": "code",
   "execution_count": 172,
   "metadata": {
    "id": "awkQS7mnzH8q"
   },
   "outputs": [],
   "source": [
    "#obtain wordnet_id mappings for all parents-children\n",
    "with tf.io.gfile.GFile(child_map_path, mode='r') as f:\n",
    "\tfor line in f:\n",
    "\t\tparent, child = line.split()\n",
    "\t\tparent_map[child] = parent\n",
    "\t\tif parent not in child_map:\n",
    "\t\t\tchild_map[parent] = [child]\n",
    "\t\telse:\n",
    "\t\t\tchild_map[parent].append(child)\n",
    "f.close()"
   ]
  },
  {
   "cell_type": "code",
   "execution_count": 173,
   "metadata": {
    "id": "zDv2CRlbzH8q"
   },
   "outputs": [
    {
     "name": "stdout",
     "output_type": "stream",
     "text": [
      "['beaver']\n",
      "large semiaquatic rodent with webbed hind feet and a broad flat tail; construct complex dams and underwater lodges\n",
      "\n",
      "Descendants:\n",
      "\n",
      "\tOld World beaver, Castor fiber\n",
      "\n",
      "\tNew World beaver, Castor canadensis\n",
      "\n",
      "Ancestors:\n",
      "\n",
      "\trodent, gnawer\n",
      "\n",
      "\tplacental, placental mammal, eutherian, eutherian mammal\n",
      "\n",
      "\tmammal, mammalian\n",
      "\n",
      "\tvertebrate, craniate\n",
      "\n",
      "\tchordate\n",
      "\n",
      "\tanimal, animate being, beast, brute, creature, fauna\n",
      "\n",
      "\torganism, being\n",
      "\n",
      "\tliving thing, animate thing\n",
      "\n",
      "\twhole, unit\n",
      "\n",
      "\tobject, physical object\n",
      "\n",
      "\tphysical entity\n",
      "\n",
      "finish\n"
     ]
    }
   ],
   "source": [
    "# find details given wordnet_id\n",
    "category = 'n02363005' #'n02363005' is beaver\n",
    "descendants = []\n",
    "ancestors = []\n",
    "# find Descendants and Ancestors\n",
    "print(words_map[category])\n",
    "print(gloss_map[category]+\"\\n\")\n",
    "#list all children\n",
    "print(\"Descendants:\\n\")\n",
    "if category in child_map:\n",
    "  search = [child for child in child_map[category]]\n",
    "while search: # go over all children (BFS)\n",
    "  node = search.pop()\n",
    "  print(\"\\t\"+ blank.join(words_map[node])+\"\\n\")\n",
    "  descendants.append(blank.join(words_map[node])) # keep all descendant\n",
    "  if node in child_map: #has children\n",
    "    [search.append(child) for child in child_map[node]]\n",
    "\n",
    "#list all parents\n",
    "print(\"Ancestors:\\n\")\n",
    "if category in parent_map:\n",
    "  node = parent_map[category] # only one parent class\n",
    "else:\n",
    "  node = category\n",
    "while node in parent_map: # one way go up\n",
    "  print(\"\\t\"+ blank.join(words_map[node])+\"\\n\")\n",
    "  ancestors.append(blank.join(words_map[node])) # keep all ancestor\n",
    "  node = parent_map[node]\n",
    "print(\"finish\")"
   ]
  },
  {
   "cell_type": "code",
   "execution_count": 174,
   "metadata": {
    "id": "gReUKpVSzH8r"
   },
   "outputs": [],
   "source": [
    "# get imagenet_id: wordnet_id mapping. e.g., '0': 'n01440764'\n",
    "index_wdid = {}\n",
    "with tf.io.gfile.GFile(imagenet_label_to_wordnet_file, mode='r') as f:\n",
    "  for line in f:\n",
    "    if \"{'id'\" in line:\n",
    "      index_wdid[line.split(\": {'\")[0].split(\"{\")[-1].split(\" \")[-1]] = 'n' + line.split(\"-n\")[0].split(\"'\")[-1]      # {0: {'id': '01440764-n',"
   ]
  },
  {
   "cell_type": "code",
   "execution_count": 175,
   "metadata": {},
   "outputs": [
    {
     "name": "stdout",
     "output_type": "stream",
     "text": [
      "{'0': 'n07739125', '1': 'n02732072', '2': 'n09827683', '3': 'n02131653', '4': 'n02363005', '5': 'n02818832', '6': 'n02206856', '7': 'n02164464', '8': 'n02834778', '9': 'n13765396', '10': 'n13765531', '11': 'n09870926', '12': 'n02898711', '13': 'n02924116', '14': 'n02274259', '15': 'n02437136', '16': 'n13765990', '17': 'n03878066', '18': 'n02309337', '19': 'n02402425', '20': 'n03001627', '21': 'n02481823', '22': 'n03046257', '23': 'n11439690', '24': 'n02233338', '25': 'n04256520', '26': 'n01976957', '27': 'n01697178', '28': 'n13766733', '29': 'n01699831', '30': 'n02581957', '31': 'n02503517', '32': 'n07790400', '33': 'n08438533', '34': 'n02118333', '35': 'n10129825', '36': 'n02342885', '37': 'n03544360', '38': 'n01877134', '39': 'n03085013', '40': 'n03636248', '41': 'n03649909', '42': 'n02128385', '43': 'n02129165', '44': 'n01674464', '45': 'n01982650', '46': 'n10287213', '47': 'n12752205', '48': 'n03790512', '49': 'n09359803', '50': 'n02330245', '51': 'n07734744', '52': 'n12268918', '53': 'n07747607', '54': 'n12058630', '55': 'n14765785', '56': 'n13656075', '57': 'n07767847', '58': 'n03930630', '59': 'n11608885', '60': 'n09393605', '61': 'n13768850', '62': 'n11900569', '63': 'n02346627', '64': 'n01874928', '65': 'n02324045', '66': 'n02508021', '67': 'n01495701', '68': 'n04096066', '69': 'n04232902', '70': 'n04971313', '71': 'n09426788', '72': 'n14766040', '73': 'n01482330', '74': 'n01891633', '75': 'n02445715', '76': 'n04233124', '77': 'n01944390', '78': 'n01726692', '79': 'n01772222', '80': 'n14766189', '81': 'n04335435', '82': 'n11978233', '83': 'n12901264', '84': 'n04379243', '85': 'n13770529', '86': 'n04401088', '87': 'n04404412', '88': 'n02129604', '89': 'n04465666', '90': 'n04468476', '91': 'n02537085', '92': 'n12454159', '93': 'n01662784', '94': 'n04550184', '95': 'n02062744', '96': 'n04584794', '97': 'n02114100', '98': 'n10787470', '99': 'n01922303'}\n"
     ]
    }
   ],
   "source": [
    "print(index_wdid)"
   ]
  },
  {
   "cell_type": "markdown",
   "metadata": {
    "id": "wJ1xkt89qSSk"
   },
   "source": [
    "build hierarchy"
   ]
  },
  {
   "cell_type": "code",
   "execution_count": 177,
   "metadata": {
    "id": "SRMCK8HZzH8r"
   },
   "outputs": [],
   "source": [
    "# find ancestor, descendants and children for each class\n",
    "an_des_dict_json = {}\n",
    "for index in range(len(clip.CLASSES)): # for 1000 classes\n",
    "  category = index_wdid[str(index)]\n",
    "  an_des_dict_json[str(index)] = {}\n",
    "  descendants = []\n",
    "  ancestors = []\n",
    "  children = []\n",
    "  # find Descendants and Ancestors\n",
    "  #list all children\n",
    "  if category in child_map:\n",
    "    search = [child for child in child_map[category]] # here is only the child\n",
    "    children = [blank.join(words_map[ele]) for ele in search]\n",
    "  while search: # go over all children BFS priority queue\n",
    "    node = search.pop()\n",
    "    descendants.append(blank.join(words_map[node])) # keep all descendant\n",
    "    if node in child_map: #has children\n",
    "      [search.append(child) for child in child_map[node]]\n",
    "\n",
    "  #list all parents\n",
    "  node = parent_map[category] if category in parent_map else category\n",
    "  while node in parent_map: # one way go up\n",
    "    ancestors.append(blank.join(words_map[node])) # keep all ancestor\n",
    "    node = parent_map[node]\n",
    "\n",
    "  # save\n",
    "  an_des_dict_json[str(index)][\"wdid\"] = category\n",
    "  an_des_dict_json[str(index)][\"words_map\"] = blank.join(words_map[category])\n",
    "  an_des_dict_json[str(index)][\"clip_words_map\"] = clip.CLASSES[index]\n",
    "  an_des_dict_json[str(index)][\"ancestors\"] = ancestors\n",
    "  an_des_dict_json[str(index)][\"descendants\"] = descendants\n",
    "  an_des_dict_json[str(index)][\"children\"] = children"
   ]
  },
  {
   "cell_type": "code",
   "execution_count": 179,
   "metadata": {},
   "outputs": [],
   "source": [
    "# print(an_des_dict_json)"
   ]
  },
  {
   "cell_type": "markdown",
   "metadata": {
    "id": "FJtim-_cJpVs"
   },
   "source": [
    "### Utility functions for finding descendants and ancestors"
   ]
  },
  {
   "cell_type": "code",
   "execution_count": 180,
   "metadata": {
    "id": "FcHqCy_PAP3s"
   },
   "outputs": [],
   "source": [
    "# TODO(yunhaoge) Add examples for using the functions\n",
    "\n",
    "def bottom_up_hierarchy(max_depth_ancestor=1, max_depth_descendant=1, use_children=True):\n",
    "#   \"\"\"Obtain the class list by considering hierarchy\n",
    "#     here consisder only descendent because max_depth_ancestor=0\n",
    "#   \"\"\"\n",
    "  # Consider ancedescendant into clip zero-shot\n",
    "  class_an_des_mapping = [] # start index of each imagenet class, used for following aggregation\n",
    "  imagenet_classes_an_des = []\n",
    "  class_an_des_mapping_list = [] # index details of each imagenet class\n",
    "  i = 0\n",
    "  for imagenet_idx, classname in enumerate(clip.CLASSES):\n",
    "    class_an_des_mapping.append(i)\n",
    "    imagenet_classes_an_des.append(classname) # add original class name\n",
    "    class_an_des_list = [] # relevant id for specific class\n",
    "    i += 1 # add index first\n",
    "    class_an_des_list.append(i)\n",
    "    node_ancestors = an_des_dict_json[str(imagenet_idx)][\"ancestors\"]\n",
    "    if use_children: # consider only children\n",
    "      node_descendants = an_des_dict_json[str(imagenet_idx)][\"children\"]\n",
    "    else:\n",
    "      node_descendants = an_des_dict_json[str(imagenet_idx)][\"descendants\"]\n",
    "\n",
    "    for an_idx, ancestor in enumerate(node_ancestors): # select ancestors\n",
    "      if an_idx < max_depth_ancestor:\n",
    "        if comma_blank in ancestor: # contains synonym, more than one, keep only one\n",
    "          imagenet_classes_an_des.append(ancestor.split(comma_blank)[0])\n",
    "          i += 1\n",
    "          class_an_des_list.append(i)\n",
    "        else:\n",
    "          imagenet_classes_an_des.append(ancestor)\n",
    "          i += 1\n",
    "          class_an_des_list.append(i)\n",
    "    for des_idx, descentant in enumerate(node_descendants): # select descendants\n",
    "      if des_idx < max_depth_descendant:\n",
    "        if comma_blank in descentant: # contains synonym, more than one, keep only one\n",
    "          imagenet_classes_an_des.append(descentant.split(comma_blank)[0])\n",
    "          i += 1\n",
    "          class_an_des_list.append(i)\n",
    "        else:\n",
    "          imagenet_classes_an_des.append(descentant)\n",
    "          i += 1\n",
    "          class_an_des_list.append(i)\n",
    "    class_an_des_mapping_list.append(class_an_des_list)\n",
    "  return imagenet_classes_an_des, class_an_des_mapping, class_an_des_mapping_list"
   ]
  },
  {
   "cell_type": "code",
   "execution_count": 183,
   "metadata": {},
   "outputs": [],
   "source": [
    "# print(imagenet_classes_an_des)"
   ]
  },
  {
   "cell_type": "code",
   "execution_count": 185,
   "metadata": {
    "id": "RJxTyrVFt2_k"
   },
   "outputs": [],
   "source": [
    "def top_down_hierarchy(interest_case, clip_templete, use_LCA = True, use_ancestor = True):\n",
    "  \"\"\"Obtain the word list by adding LCA.\"\"\"\n",
    "  # interest_case\n",
    "  logits_ori_all = []\n",
    "  for idx, interest_case_ele in enumerate(tqdm(interest_case)):\n",
    "    # original word embedding\n",
    "    word_list_ori = np.array(clip.CLASSES)[np.array(interest_case_ele)].tolist()\n",
    "    if use_LCA: # add LCA/A\n",
    "      if use_ancestor: # use Ancestor\n",
    "        word_list =  [word + blank + A_all[idx] for word in word_list_ori]\n",
    "      else: # use LCA\n",
    "        word_list =  [word + blank + LCA_all[idx] for word in word_list_ori]\n",
    "    else:\n",
    "      word_list =  [word for word in word_list_ori]\n",
    "  return word_list"
   ]
  },
  {
   "cell_type": "code",
   "execution_count": 186,
   "metadata": {
    "id": "Vnd06rNSpckx"
   },
   "outputs": [],
   "source": [
    "# fine the LCA for each image top 5\n",
    "def find_LCA(top5_ancestor): # general\n",
    "  \"\"\"Obtain the Lowest comman ancestor of top 5 classes.\n",
    "\n",
    "  Args:\n",
    "      top5_ancestor: List of the ancestors for each candidate class\n",
    "  Returns:\n",
    "      LCA: Str, lowest comman ancestor\n",
    "  \"\"\"\n",
    "  LCA = 'physical entity'\n",
    "  # while (1) still have ancestor\n",
    "  while min([len(ele) for ele in top5_ancestor]) > 0 :\n",
    "    # find the highest for each class in topk\n",
    "    current_roots = [topk_ancestor.pop() for topk_ancestor in top5_ancestor]\n",
    "    current_roots_freq = Counter(current_roots)\n",
    "    current_roots_freq = sorted(current_roots_freq.items(), key=lambda x: x[1], reverse=True) # become a list e.g.,[('ee', 2), ('ww', 1), ('cc', 1)]\n",
    "    majority, majority_freq = current_roots_freq[0]\n",
    "    if majority_freq == 5:\n",
    "      LCA = majority if comma_blank not in majority else majority.split(comma_blank)[0]\n",
    "  return LCA"
   ]
  },
  {
   "cell_type": "markdown",
   "metadata": {
    "id": "uMul_5Icp7QL"
   },
   "source": [
    "## Uncertainty Estimation"
   ]
  },
  {
   "cell_type": "code",
   "execution_count": 187,
   "metadata": {
    "id": "5Rk2yUw-EfoT"
   },
   "outputs": [],
   "source": [
    "# with children\n",
    "# hierarchy ImageNet class work on same h for each class\n",
    "max_depth_ancestor = 1 # here only consider descendent\n",
    "max_depth_children = 1 # could change\n",
    "imagenet_bottom_up_first_index_list = []\n",
    "imagenet_bottom_up_all_classes = []\n",
    "imagenet_bottom_up_mapping_index_list = [] # add list for analysis\n",
    "i = 0\n",
    "for imagenet_idx, classname in enumerate(clip.CLASSES):\n",
    "  imagenet_bottom_up_first_index_list.append(i) # index of each imagenet class\n",
    "  imagenet_bottom_up_all_classes.append(classname) # add original class name\n",
    "  class_an_des_list = [] # relevant id for specific class\n",
    "  i += 1 # add index first\n",
    "  class_an_des_list.append(i)\n",
    "  node_ancestors = an_des_dict_json[str(imagenet_idx)][\"ancestors\"]\n",
    "  node_children = an_des_dict_json[str(imagenet_idx)][\"children\"]\n",
    "\n",
    "  for an_idx, ancestor in enumerate(node_ancestors): # select ancestors\n",
    "    if an_idx < max_depth_ancestor:\n",
    "      if \", \" in ancestor: # contains synonym, more than one, keep only one\n",
    "        imagenet_bottom_up_all_classes.append(ancestor.split(\", \")[0])\n",
    "        i += 1\n",
    "        class_an_des_list.append(i)\n",
    "      else:\n",
    "        imagenet_bottom_up_all_classes.append(ancestor)\n",
    "        i += 1\n",
    "        class_an_des_list.append(i)\n",
    "  for des_idx, descentant in enumerate(node_children): # select descendants\n",
    "    if des_idx < max_depth_children:\n",
    "      if \", \" in descentant: # contains synonym, more than one, keep only one\n",
    "        imagenet_bottom_up_all_classes.append(descentant.split(\", \")[0])\n",
    "        i += 1\n",
    "        class_an_des_list.append(i)\n",
    "      else:\n",
    "        imagenet_bottom_up_all_classes.append(descentant)\n",
    "        i += 1\n",
    "        class_an_des_list.append(i)\n",
    "  imagenet_bottom_up_mapping_index_list.append(class_an_des_list)"
   ]
  },
  {
   "cell_type": "markdown",
   "metadata": {
    "id": "AWKb_k1Cpx67"
   },
   "source": [
    "len(imagenet_bottom_up_mapping_index_list) = 1000, each element is the source node and its children"
   ]
  },
  {
   "cell_type": "code",
   "execution_count": 198,
   "metadata": {
    "id": "dhfhjVBqEVs6"
   },
   "outputs": [],
   "source": [
    "imagenet_classes_an_des, class_an_des_mapping, class_an_des_mapping_list = bottom_up_hierarchy(max_depth_descendant=1)\n",
    "# len(imagenet_classes_an_des) = 1971. word\n",
    "# len(class_an_des_mapping) = 1000. starting index of each class among 1971\n",
    "# len(class_an_des_mapping_list) = 1000."
   ]
  },
  {
   "cell_type": "code",
   "execution_count": 199,
   "metadata": {
    "id": "cJUHp35n4r8G"
   },
   "outputs": [],
   "source": [
    "def compute_accuracy_details(logits, labels):\n",
    "  top_probs, top_labels = jax.lax.top_k(logits, 5)\n",
    "  top1 = 100 * jnp.mean(top_labels[:, 0] == labels)\n",
    "  top5 = 100 * jnp.sum(top_labels == labels[:, None]) / labels.shape[0]\n",
    "  return top1, top5, top_probs, top_labels"
   ]
  },
  {
   "cell_type": "code",
   "execution_count": 200,
   "metadata": {
    "id": "WU8H2Ov34qjx"
   },
   "outputs": [
    {
     "name": "stdout",
     "output_type": "stream",
     "text": [
      "Prompt Engineering: top1=38.55%, top5=67.42%\n",
      "Class Names: top1=32.03%, top5=59.90%\n"
     ]
    }
   ],
   "source": [
    "top1_prompt, top5_prompt, top5_prompt_probs, top5_prompt_labels = compute_accuracy_details(logits_prompteng, labels)\n",
    "top1_name, top5_name, top5_name_probs, top5_name_labels = compute_accuracy_details(logits_name, labels)\n",
    "print(f'Prompt Engineering: top1={top1_prompt:.2f}%, top5={top5_prompt:.2f}%')\n",
    "print(f'Class Names: top1={top1_name:.2f}%, top5={top5_name:.2f}%')"
   ]
  },
  {
   "cell_type": "code",
   "execution_count": 201,
   "metadata": {
    "id": "6_1-Kd1oGtEA"
   },
   "outputs": [],
   "source": [
    "# continuous uncertatinty value calculation\n",
    "def continuous_uncertainty_estimation(prompts=clip.PROMPTS, name_prediction=top5_name_labels[:, 0]):\n",
    "  \"\"\"obtain continuous confidence score for each image\"\"\"\n",
    "\n",
    "  # prompts decision\n",
    "  prompts_slice_log = []\n",
    "  for sample_id in range(len(prompts)): # for each different prompts\n",
    "    prompteng_slice = zeroshot_classifier(clip.CLASSES, [prompts[sample_id]]) #select one each time\n",
    "    logits_slice = np.matmul(embeddings, prompteng_slice) # compute the logits\n",
    "    probs_slice = np.array(jax.nn.softmax(logits_slice, axis=-1))\n",
    "    preds_slice = jnp.argmax(probs_slice, axis=-1)\n",
    "    prompts_slice_log.append(preds_slice)\n",
    "\n",
    "  prompts_slice_log_array = np.array(prompts_slice_log) # (len(prompts), 50000)\n",
    "\n",
    "  # compare with no-prompts and use consistency to get the confidence score\n",
    "  consistency_with_nonpromp = prompts_slice_log_array == name_prediction\n",
    "  consistency_with_nonpromp_log = sum(consistency_with_nonpromp, axis=0)\n",
    "  confidence_sort_index = numpy.argsort(consistency_with_nonpromp_log) # form small to large\n",
    "\n",
    "  return prompts_slice_log_array, consistency_with_nonpromp_log, confidence_sort_index"
   ]
  },
  {
   "cell_type": "code",
   "execution_count": 202,
   "metadata": {},
   "outputs": [],
   "source": [
    "name_prediction=top5_name_labels[:, 0]\n",
    "prompt_prediction = top5_prompt_labels[:, 0]"
   ]
  },
  {
   "cell_type": "code",
   "execution_count": 193,
   "metadata": {
    "id": "ylNICVcG5pR0"
   },
   "outputs": [
    {
     "name": "stderr",
     "output_type": "stream",
     "text": [
      "100%|██████████| 100/100 [00:03<00:00, 27.01it/s]\n",
      "100%|██████████| 100/100 [00:03<00:00, 25.89it/s]\n",
      "100%|██████████| 100/100 [00:03<00:00, 26.86it/s]\n",
      "100%|██████████| 100/100 [00:03<00:00, 27.81it/s]\n",
      "100%|██████████| 100/100 [00:03<00:00, 27.17it/s]\n",
      "100%|██████████| 100/100 [00:03<00:00, 29.35it/s]\n",
      "100%|██████████| 100/100 [00:03<00:00, 29.66it/s]\n",
      "100%|██████████| 100/100 [00:04<00:00, 23.84it/s]\n",
      "100%|██████████| 100/100 [00:03<00:00, 27.95it/s]\n",
      "100%|██████████| 100/100 [00:03<00:00, 28.15it/s]\n",
      "100%|██████████| 100/100 [00:03<00:00, 27.77it/s]\n",
      "100%|██████████| 100/100 [00:03<00:00, 27.98it/s]\n",
      "100%|██████████| 100/100 [00:03<00:00, 28.26it/s]\n",
      "100%|██████████| 100/100 [00:03<00:00, 27.78it/s]\n",
      "100%|██████████| 100/100 [00:04<00:00, 23.28it/s]\n",
      "100%|██████████| 100/100 [00:03<00:00, 25.83it/s]\n",
      "100%|██████████| 100/100 [00:03<00:00, 28.20it/s]\n",
      "100%|██████████| 100/100 [00:03<00:00, 26.99it/s]\n",
      "100%|██████████| 100/100 [00:03<00:00, 27.36it/s]\n",
      "100%|██████████| 100/100 [00:03<00:00, 29.26it/s]\n",
      "100%|██████████| 100/100 [00:03<00:00, 25.22it/s]\n",
      "100%|██████████| 100/100 [00:03<00:00, 27.35it/s]\n",
      "100%|██████████| 100/100 [00:03<00:00, 28.97it/s]\n",
      "100%|██████████| 100/100 [00:03<00:00, 28.92it/s]\n",
      "100%|██████████| 100/100 [00:03<00:00, 27.64it/s]\n",
      "100%|██████████| 100/100 [00:03<00:00, 27.70it/s]\n",
      "100%|██████████| 100/100 [00:03<00:00, 27.27it/s]\n",
      "100%|██████████| 100/100 [00:03<00:00, 26.04it/s]\n",
      "100%|██████████| 100/100 [00:03<00:00, 28.54it/s]\n",
      "100%|██████████| 100/100 [00:03<00:00, 28.75it/s]\n",
      "100%|██████████| 100/100 [00:03<00:00, 27.83it/s]\n",
      "100%|██████████| 100/100 [00:03<00:00, 26.90it/s]\n",
      "100%|██████████| 100/100 [00:03<00:00, 28.31it/s]\n",
      "100%|██████████| 100/100 [00:03<00:00, 25.57it/s]\n",
      "100%|██████████| 100/100 [00:03<00:00, 28.53it/s]\n",
      "100%|██████████| 100/100 [00:03<00:00, 27.99it/s]\n",
      "100%|██████████| 100/100 [00:03<00:00, 29.56it/s]\n",
      "100%|██████████| 100/100 [00:03<00:00, 28.14it/s]\n",
      "100%|██████████| 100/100 [00:03<00:00, 28.11it/s]\n",
      "100%|██████████| 100/100 [00:03<00:00, 28.44it/s]\n",
      "100%|██████████| 100/100 [00:03<00:00, 25.91it/s]\n",
      "100%|██████████| 100/100 [00:03<00:00, 28.80it/s]\n",
      "100%|██████████| 100/100 [00:03<00:00, 28.54it/s]\n",
      "100%|██████████| 100/100 [00:03<00:00, 29.04it/s]\n",
      "100%|██████████| 100/100 [00:03<00:00, 29.47it/s]\n",
      "100%|██████████| 100/100 [00:03<00:00, 27.50it/s]\n",
      "100%|██████████| 100/100 [00:03<00:00, 26.99it/s]\n",
      "100%|██████████| 100/100 [00:03<00:00, 28.63it/s]\n",
      "100%|██████████| 100/100 [00:03<00:00, 29.53it/s]\n",
      "100%|██████████| 100/100 [00:03<00:00, 27.14it/s]\n",
      "100%|██████████| 100/100 [00:03<00:00, 28.69it/s]\n",
      "100%|██████████| 100/100 [00:03<00:00, 27.79it/s]\n",
      "100%|██████████| 100/100 [00:03<00:00, 28.93it/s]\n",
      "100%|██████████| 100/100 [00:04<00:00, 24.25it/s]\n",
      "100%|██████████| 100/100 [00:03<00:00, 29.68it/s]\n",
      "100%|██████████| 100/100 [00:03<00:00, 29.57it/s]\n",
      "100%|██████████| 100/100 [00:03<00:00, 28.47it/s]\n",
      "100%|██████████| 100/100 [00:03<00:00, 28.46it/s]\n",
      "100%|██████████| 100/100 [00:03<00:00, 27.80it/s]\n",
      "100%|██████████| 100/100 [00:03<00:00, 28.65it/s]\n",
      "100%|██████████| 100/100 [00:04<00:00, 24.18it/s]\n",
      "100%|██████████| 100/100 [00:03<00:00, 28.72it/s]\n",
      "100%|██████████| 100/100 [00:03<00:00, 28.14it/s]\n",
      "100%|██████████| 100/100 [00:03<00:00, 27.65it/s]\n",
      "100%|██████████| 100/100 [00:03<00:00, 28.85it/s]\n",
      "100%|██████████| 100/100 [00:03<00:00, 27.81it/s]\n",
      "100%|██████████| 100/100 [00:03<00:00, 25.36it/s]\n",
      "100%|██████████| 100/100 [00:03<00:00, 29.67it/s]\n",
      "100%|██████████| 100/100 [00:03<00:00, 28.38it/s]\n",
      "100%|██████████| 100/100 [00:03<00:00, 27.93it/s]\n",
      "100%|██████████| 100/100 [00:03<00:00, 28.81it/s]\n",
      "100%|██████████| 100/100 [00:03<00:00, 26.19it/s]\n",
      "100%|██████████| 100/100 [00:03<00:00, 28.17it/s]\n",
      "100%|██████████| 100/100 [00:03<00:00, 26.05it/s]\n",
      "100%|██████████| 100/100 [00:03<00:00, 28.44it/s]\n",
      "100%|██████████| 100/100 [00:03<00:00, 28.86it/s]\n",
      "100%|██████████| 100/100 [00:03<00:00, 27.07it/s]\n",
      "100%|██████████| 100/100 [00:03<00:00, 29.47it/s]\n",
      "100%|██████████| 100/100 [00:03<00:00, 29.22it/s]\n",
      "100%|██████████| 100/100 [00:03<00:00, 26.09it/s]\n"
     ]
    },
    {
     "data": {
      "text/plain": [
       "Array(0.0473, dtype=float32)"
      ]
     },
     "execution_count": 193,
     "metadata": {},
     "output_type": "execute_result"
    }
   ],
   "source": [
    "prompts_slice_log_array, consistency_with_nonpromp_log, confidence_sort_index = continuous_uncertainty_estimation()\n",
    "\n",
    "# Calculate accuracy of the low confidence set\n",
    "low_confident_set_size = 10000\n",
    "low_confident_set_index = confidence_sort_index[:low_confident_set_size]\n",
    "# Computed accuracy for the low confidence set\n",
    "acc = np.mean(name_prediction[np.array(low_confident_set_index)] == labels[low_confident_set_index])\n",
    "acc"
   ]
  },
  {
   "cell_type": "markdown",
   "metadata": {
    "id": "stxXR-Leus3E"
   },
   "source": [
    "## Hierarchy-CLIP"
   ]
  },
  {
   "cell_type": "markdown",
   "metadata": {
    "id": "vn6hvP-7fYbf"
   },
   "source": [
    "### Continuous Solution"
   ]
  },
  {
   "cell_type": "code",
   "execution_count": 203,
   "metadata": {
    "id": "tPz9nJZmCC8H"
   },
   "outputs": [],
   "source": [
    "an_des_dict = an_des_dict_json"
   ]
  },
  {
   "cell_type": "code",
   "execution_count": 204,
   "metadata": {
    "id": "ugX9IXHvCEaz"
   },
   "outputs": [],
   "source": [
    "def zeroshot_classifier_hierarchy(classnames, templates, permute=False):\n",
    "  zeroshot_weights = []\n",
    "  permute_fn = permute_words if permute else lambda x: x\n",
    "  for classname in classnames:\n",
    "    texts = [permute_fn(template.format(classname.split('|')[0]) + template.format(classname.split('|')[1])) for template in templates]\n",
    "    class_embeddings = encode_text(tokenize_fn(texts))\n",
    "    class_embedding = class_embeddings.mean(0)\n",
    "    class_embedding /= jnp.linalg.norm(class_embedding)\n",
    "    zeroshot_weights.append(class_embedding)\n",
    "  return jnp.stack(zeroshot_weights, axis=1)"
   ]
  },
  {
   "cell_type": "code",
   "execution_count": 205,
   "metadata": {
    "id": "vpu-BSCfVWNU"
   },
   "outputs": [],
   "source": [
    "def compute_accuracy_rerank(logits, ori_labels, labels):\n",
    "  \"\"\"based on logits, reorder the ori_top5_labels and compare with true labels\"\"\"\n",
    "\n",
    "  top_probs, top_labels_index = jax.lax.top_k(logits, 1)\n",
    "  top_labels = np.array([ele[top_labels_index[idx]] for idx, ele in enumerate(tqdm(ori_labels))])\n",
    "  top1 = 100 * jnp.mean(top_labels[:, 0] == labels)\n",
    "  return top1, top_probs, top_labels"
   ]
  },
  {
   "cell_type": "code",
   "execution_count": 206,
   "metadata": {
    "id": "q81hCYl6qA84"
   },
   "outputs": [
    {
     "name": "stderr",
     "output_type": "stream",
     "text": [
      "1000it [08:43,  1.91it/s]\n",
      "100%|██████████| 1000/1000 [00:00<00:00, 1714.60it/s]"
     ]
    },
    {
     "name": "stdout",
     "output_type": "stream",
     "text": [
      "acc_stable: 0.32616326\n",
      "acc_unstable_ori: 0.034\n",
      "acc_unstable_with_Hierarchy-CLIP: 19.7\n",
      "overall_acc_with_Hierarchy-CLIP: 32.358\n"
     ]
    },
    {
     "name": "stderr",
     "output_type": "stream",
     "text": [
      "\n"
     ]
    }
   ],
   "source": [
    "# Bottom-up and top-down augmented inference\n",
    "\n",
    "from collections import Counter\n",
    "\n",
    "an_des_dict = an_des_dict_json # simplified wordnet\n",
    "fill_empty_parent = ''\n",
    "unstable_num = 1000\n",
    "# stable set and unstable set\n",
    "unstable_index = confidence_sort_index[:unstable_num] # number of rejected/unstable images\n",
    "stable_index = np.array(list(set(range(len(labels))) - set(unstable_index.tolist()))) # stable, np.array\n",
    "\n",
    "# 1. accuracy of the stable samples:\n",
    "# Computed accuracy\n",
    "acc_stable = np.mean(name_prediction[stable_index] == labels[stable_index])\n",
    "\n",
    "acc_unstable_ori = np.mean(name_prediction[unstable_index] == labels[unstable_index])\n",
    "\n",
    "\n",
    "# 2. accuracy of the unstable samples: use our hierarchy\n",
    "# analysis top 5 in all different cases of baseline\n",
    "baseline_top5 = top5_name_labels[unstable_index]\n",
    "baseline_top5_probs = top5_name_probs[unstable_index]\n",
    "diff_image_embeddings = embeddings[unstable_index]\n",
    "unstable_id_gt_labels = labels[unstable_index]\n",
    "\n",
    "unstable_case = top5_name_labels[unstable_index]   # original top-5 prediction\n",
    "unstable_case_label = labels[unstable_index] # top-5 GT labels\n",
    "\n",
    "# [Top-5 Ancestor collection] calculate Ancestor from simple wordnet for unstable cases\n",
    "A_all = []\n",
    "for example in unstable_case: # for each unstable image\n",
    "  # ancestor of top 5\n",
    "  top5_ancestor = []\n",
    "  # top5_ancestor_raw = []\n",
    "  for ind, top_k in enumerate(example):\n",
    "    if an_des_dict[str(example[ind])]['ancestors']==[]: # no ancestor\n",
    "      top5_ancestor.append(fill_empty_parent)\n",
    "    else:\n",
    "      top5_ancestor.append(an_des_dict[str(example[ind])]['ancestors'].copy()[0]) # avoid influence the root\n",
    "  A_all.append(top5_ancestor)\n",
    "\n",
    "\n",
    "# add ancestor to all candidate classes\n",
    "logits_ori_all = []\n",
    "for idx, unstable_case_ele in tqdm(enumerate(unstable_case)): # for each unstable image\n",
    "  # original word embedding\n",
    "  word_list_ori = np.array(clip.CLASSES)[np.array(unstable_case_ele)].tolist()\n",
    "  word_list_hierarchy = [] # raw words with only [bottom up]\n",
    "  word_list_hierarchy_with_prompt = [] # words add prompt and ancestor [bottom up + top down]\n",
    "  wordid_list_hierarchy_list = [] # details of index [[1,2], [3,4,5], [6], [7,8], [9]]\n",
    "  wordid_list_hierarchy_mapping_list = [] # used for reduceat (index of first element for each top-5) [1,3,6,7,9]\n",
    "  i = 0 # tracking each class/child class\n",
    "  for word_id, word in enumerate(word_list_ori): # for each class in top 5\n",
    "    tempid_list = [] # for specific word in top5\n",
    "    wordid_list_hierarchy_mapping_list.append(i)\n",
    "    for child_id in class_an_des_mapping_list[unstable_case_ele[word_id]]: # for each children or element [Bottom-up]\n",
    "      raw_word = imagenet_classes_an_des[child_id-1]\n",
    "      word_list_hierarchy.append(raw_word) # child_id start from 1 not 0\n",
    "      word_list_hierarchy_with_prompt.append(raw_word + ' which is a kind of|' + A_all[idx][word_id]) # [Top-down]\n",
    "      # word_list_hierarchy_with_prompt.append(raw_word + ' which is a kind of' + A_all[idx][word_id]) # [Top-down]\n",
    "      tempid_list.append(i)\n",
    "      i+=1\n",
    "    wordid_list_hierarchy_list.append(tempid_list)\n",
    "  word_list = word_list_hierarchy_with_prompt # could change\n",
    "\n",
    "  # inference\n",
    "  word_weights_ori = zeroshot_classifier_hierarchy(word_list, ['{}']) # (512, 5) # do not use prompt ensemble\n",
    "  # word_weights_ori = zeroshot_classifier_hierarchy(word_list, clip.PROMPTS) # (512, 5)\n",
    "  img_embedding = diff_image_embeddings[idx] # (1, 512) single image\n",
    "  logits_ori_raw = np.matmul(img_embedding, word_weights_ori)\n",
    "  logits_ori_raw = logits_ori_raw[np.newaxis, :]\n",
    "  logits_ori = np.maximum.reduceat(logits_ori_raw, indices=wordid_list_hierarchy_mapping_list, axis=1)\n",
    "  logits_ori_all.append(logits_ori)\n",
    "logits_ori_all_array = np.array(logits_ori_all)[:, 0, :]\n",
    "\n",
    "# Manually computed accuracy\n",
    "unstable_top1_acc, unstable_top_probs, unstable_top_labels = compute_accuracy_rerank(logits_ori_all_array, unstable_case, unstable_case_label)\n",
    "\n",
    "\n",
    "# compute overall accuracy\n",
    "overall_acc = (acc_stable*100*len(stable_index) + unstable_top1_acc*len(unstable_index))/len(labels)\n",
    "\n",
    "print(\"acc_stable:\", acc_stable)\n",
    "print(\"acc_unstable_ori:\", acc_unstable_ori)\n",
    "print(\"acc_unstable_with_Hierarchy-CLIP:\", unstable_top1_acc)\n",
    "print(\"overall_acc_with_Hierarchy-CLIP:\", overall_acc)"
   ]
  },
  {
   "cell_type": "code",
   "execution_count": 79,
   "metadata": {},
   "outputs": [
    {
     "name": "stdout",
     "output_type": "stream",
     "text": [
      "{'0': {'wdid': 'n02363005', 'words_map': 'beaver', 'clip_words_map': 'apple', 'ancestors': ['rodent, gnawer', 'placental, placental mammal, eutherian, eutherian mammal', 'mammal, mammalian', 'vertebrate, craniate', 'chordate', 'animal, animate being, beast, brute, creature, fauna', 'organism, being', 'living thing, animate thing', 'whole, unit', 'object, physical object', 'physical entity'], 'descendants': ['Old World beaver, Castor fiber', 'New World beaver, Castor canadensis'], 'children': ['New World beaver, Castor canadensis', 'Old World beaver, Castor fiber']}, '1': {'wdid': 'n02581957', 'words_map': 'dolphinfish, dolphin, mahimahi', 'clip_words_map': 'aquarium_fish', 'ancestors': ['percoid fish, percoid, percoidean', 'spiny-finned fish, acanthopterygian', 'teleost fish, teleost, teleostan', 'bony fish', 'fish', 'aquatic vertebrate', 'vertebrate, craniate', 'chordate', 'animal, animate being, beast, brute, creature, fauna', 'organism, being', 'living thing, animate thing', 'whole, unit', 'object, physical object', 'physical entity'], 'descendants': ['Coryphaena equisetis', 'Coryphaena hippurus'], 'children': ['Coryphaena hippurus', 'Coryphaena equisetis']}, '2': {'wdid': 'n14765785', 'words_map': 'otter', 'clip_words_map': 'baby', 'ancestors': ['fur, pelt', 'animal skin', 'animal product', 'animal material', 'material, stuff', 'substance', 'part, portion, component part, component, constituent', 'relation', 'abstraction, abstract entity'], 'descendants': [], 'children': []}, '3': {'wdid': 'n14766040', 'words_map': 'seal, sealskin', 'clip_words_map': 'bear', 'ancestors': ['fur, pelt', 'animal skin', 'animal product', 'animal material', 'material, stuff', 'substance', 'part, portion, component part, component, constituent', 'relation', 'abstraction, abstract entity'], 'descendants': [], 'children': []}, '4': {'wdid': 'n02062744', 'words_map': 'whale', 'clip_words_map': 'beaver', 'ancestors': ['cetacean, cetacean mammal, blower', 'aquatic mammal', 'placental, placental mammal, eutherian, eutherian mammal', 'mammal, mammalian', 'vertebrate, craniate', 'chordate', 'animal, animate being, beast, brute, creature, fauna', 'organism, being', 'living thing, animate thing', 'whole, unit', 'object, physical object', 'physical entity'], 'descendants': ['spouter', 'baleen whale, whalebone whale', 'humpback, humpback whale, Megaptera novaeangliae', 'rorqual, razorback', 'sei whale, Balaenoptera borealis', 'lesser rorqual, piked whale, minke whale, Balaenoptera acutorostrata', 'finback, finback whale, fin whale, common rorqual, Balaenoptera physalus', 'blue whale, sulfur bottom, Balaenoptera musculus', 'bowhead, bowhead whale, Greenland whale, Balaena mysticetus', 'right whale', 'grey whale, gray whale, devilfish, Eschrichtius gibbosus, Eschrichtius robustus', 'narwhal, narwal, narwhale, Monodon monoceros', 'toothed whale', 'pygmy sperm whale, Kogia breviceps', 'dwarf sperm whale, Kogia simus', 'beaked whale', 'bottle-nosed whale, bottlenose whale, bottlenose, Hyperoodon ampullatus', 'sperm whale, cachalot, black whale, Physeter catodon', 'dolphin', 'pilot whale, black whale, common blackfish, blackfish, Globicephala melaena', 'porpoise', 'harbor porpoise, herring hog, Phocoena phocoena', 'vaquita, Phocoena sinus', 'grampus, Grampus griseus', 'common dolphin, Delphinus delphis', 'white whale, beluga, Delphinapterus leucas', 'bottlenose dolphin, bottle-nosed dolphin, bottlenose', 'Pacific bottlenose dolphin, Tursiops gilli', 'Atlantic bottlenose dolphin, Tursiops truncatus', 'river dolphin', 'killer whale, killer, orca, grampus, sea wolf, Orcinus orca'], 'children': ['toothed whale', 'narwhal, narwal, narwhale, Monodon monoceros', 'baleen whale, whalebone whale', 'spouter']}, '5': {'wdid': 'n02732072', 'words_map': 'aquarium, fish tank, marine museum', 'clip_words_map': 'bed', 'ancestors': ['tank, storage tank', 'vessel', 'container', 'instrumentality, instrumentation', 'artifact, artefact', 'whole, unit', 'object, physical object', 'physical entity'], 'descendants': ['fishbowl, fish bowl, goldfish bowl'], 'children': ['fishbowl, fish bowl, goldfish bowl']}, '6': {'wdid': 'n07790400', 'words_map': 'flatfish', 'clip_words_map': 'bee', 'ancestors': ['saltwater fish', 'seafood', 'food, solid food', 'solid', 'matter', 'physical entity'], 'descendants': ['flounder', 'yellowtail flounder', 'lemon sole, winter flounder', 'sand dab', 'plaice', 'turbot', 'sole, fillet of sole', 'lemon sole, English sole', 'grey sole, gray sole', 'halibut'], 'children': ['halibut', 'sole, fillet of sole', 'flounder']}, '7': {'wdid': 'n01495701', 'words_map': 'ray', 'clip_words_map': 'beetle', 'ancestors': ['elasmobranch, selachian', 'cartilaginous fish, chondrichthian', 'fish', 'aquatic vertebrate', 'vertebrate, craniate', 'chordate', 'animal, animate being, beast, brute, creature, fauna', 'organism, being', 'living thing, animate thing', 'whole, unit', 'object, physical object', 'physical entity'], 'descendants': ['skate', 'barndoor skate, Raja laevis', 'thorny skate, Raja radiata', 'little skate, Raja erinacea', 'grey skate, gray skate, Raja batis', 'manta, manta ray, devilfish', 'devil ray, Mobula hypostoma', 'Atlantic manta, Manta birostris', 'eagle ray', 'cownose ray, cow-nosed ray, Rhinoptera bonasus', 'spotted eagle ray, spotted ray, Aetobatus narinari', 'stingray', 'butterfly ray', 'roughtail stingray, Dasyatis centroura', 'guitarfish', 'sawfish', 'smalltooth sawfish, Pristis pectinatus', 'electric ray, crampfish, numbfish, torpedo'], 'children': ['electric ray, crampfish, numbfish, torpedo', 'sawfish', 'guitarfish', 'stingray', 'eagle ray', 'manta, manta ray, devilfish', 'skate']}, '8': {'wdid': 'n01482330', 'words_map': 'shark', 'clip_words_map': 'bicycle', 'ancestors': ['elasmobranch, selachian', 'cartilaginous fish, chondrichthian', 'fish', 'aquatic vertebrate', 'vertebrate, craniate', 'chordate', 'animal, animate being, beast, brute, creature, fauna', 'organism, being', 'living thing, animate thing', 'whole, unit', 'object, physical object', 'physical entity'], 'descendants': ['angel shark, angelfish, Squatina squatina, monkfish', 'hammerhead, hammerhead shark', 'shovelhead, bonnethead, bonnet shark, Sphyrna tiburo', 'smalleye hammerhead, Sphyrna tudes', 'smooth hammerhead, Sphyrna zygaena', 'dogfish', 'spiny dogfish', 'Pacific spiny dogfish, Squalus suckleyi', 'Atlantic spiny dogfish, Squalus acanthias', 'smooth dogfish', 'whitetip shark, reef whitetip shark, Triaenodon obseus', 'Florida smoothhound, Mustelus norrisi', 'American smooth dogfish, Mustelus canis', 'smoothhound, smoothhound shark, Mustelus mustelus', 'requiem shark', 'soupfin shark, soupfin, soup-fin, Galeorhinus zyopterus', 'tiger shark, Galeocerdo cuvieri', 'blue shark, great blue shark, Prionace glauca', 'lemon shark, Negaprion brevirostris', 'dusky shark, Carcharhinus obscurus', 'whitetip shark, oceanic whitetip shark, white-tipped shark, Carcharinus longimanus', 'blacktip shark, sandbar shark, Carcharhinus limbatus', 'sandbar shark, Carcharhinus plumbeus', 'bull shark, cub shark, Carcharhinus leucas', 'cat shark', 'whale shark, Rhincodon typus', 'sand tiger, sand shark, Carcharias taurus, Odontaspis taurus', 'nurse shark, Ginglymostoma cirratum', 'carpet shark, Orectolobus barbatus', 'thresher, thrasher, thresher shark, fox shark, Alopius vulpinus', 'mackerel shark', 'basking shark, Cetorhinus maximus', 'great white shark, white shark, man-eater, man-eating shark, Carcharodon carcharias', 'mako, mako shark', 'bonito shark, blue pointed, Isurus glaucus', 'longfin mako, Isurus paucus', 'shortfin mako, Isurus oxyrhincus', 'porbeagle, Lamna nasus', 'cow shark, six-gilled shark, Hexanchus griseus'], 'children': ['cow shark, six-gilled shark, Hexanchus griseus', 'mackerel shark', 'thresher, thrasher, thresher shark, fox shark, Alopius vulpinus', 'carpet shark, Orectolobus barbatus', 'nurse shark, Ginglymostoma cirratum', 'sand tiger, sand shark, Carcharias taurus, Odontaspis taurus', 'whale shark, Rhincodon typus', 'cat shark', 'requiem shark', 'dogfish', 'hammerhead, hammerhead shark', 'angel shark, angelfish, Squatina squatina, monkfish']}, '9': {'wdid': 'n02537085', 'words_map': 'trout', 'clip_words_map': 'bottle', 'ancestors': ['food fish', 'fish', 'aquatic vertebrate', 'vertebrate, craniate', 'chordate', 'animal, animate being, beast, brute, creature, fauna', 'organism, being', 'living thing, animate thing', 'whole, unit', 'object, physical object', 'physical entity'], 'descendants': ['brook trout, speckled trout, Salvelinus fontinalis', 'lake trout, salmon trout, Salvelinus namaycush', 'rainbow trout, Salmo gairdneri', 'brown trout, salmon trout, Salmo trutta', 'sea trout'], 'children': ['brown trout, salmon trout, Salmo trutta', 'rainbow trout, Salmo gairdneri', 'lake trout, salmon trout, Salvelinus namaycush', 'brook trout, speckled trout, Salvelinus fontinalis']}, '10': {'wdid': 'n12058630', 'words_map': 'marsh orchid', 'clip_words_map': 'bowl', 'ancestors': ['orchid, orchidaceous plant', 'flower', 'angiosperm, flowering plant', 'spermatophyte, phanerogam, seed plant', 'vascular plant, tracheophyte', 'plant, flora, plant life', 'organism, being', 'living thing, animate thing', 'whole, unit', 'object, physical object', 'physical entity'], 'descendants': [], 'children': []}, '11': {'wdid': 'n11900569', 'words_map': 'poppy', 'clip_words_map': 'boy', 'ancestors': ['flower', 'angiosperm, flowering plant', 'spermatophyte, phanerogam, seed plant', 'vascular plant, tracheophyte', 'plant, flora, plant life', 'organism, being', 'living thing, animate thing', 'whole, unit', 'object, physical object', 'physical entity'], 'descendants': ['celandine poppy, wood poppy, Stylophorum diphyllum', 'wind poppy, flaming poppy, Stylomecon heterophyllum, Papaver heterophyllum', 'creamcups, Platystemon californicus', 'Welsh poppy, Meconopsis cambrica', 'blue poppy, Meconopsis betonicifolia', 'plume poppy, bocconia, Macleaya cordata', 'golden cup, Mexican tulip poppy, Hunnemania fumariifolia', 'California poppy, Eschscholtzia californica', 'celandine, greater celandine, swallowwort, swallow wort, Chelidonium majus', 'opium poppy, Papaver somniferum', 'corn poppy, field poppy, Flanders poppy, Papaver rhoeas', 'oriental poppy, Papaver orientale', 'Iceland poppy, arctic poppy, Papaver nudicaule', 'prickly poppy, Papaver argemone', 'western poppy, Papaver californicum', 'Iceland poppy, Papaver alpinum'], 'children': ['Iceland poppy, Papaver alpinum', 'western poppy, Papaver californicum', 'prickly poppy, Papaver argemone', 'Iceland poppy, arctic poppy, Papaver nudicaule', 'oriental poppy, Papaver orientale', 'corn poppy, field poppy, Flanders poppy, Papaver rhoeas', 'opium poppy, Papaver somniferum', 'celandine, greater celandine, swallowwort, swallow wort, Chelidonium majus', 'California poppy, Eschscholtzia californica', 'golden cup, Mexican tulip poppy, Hunnemania fumariifolia', 'plume poppy, bocconia, Macleaya cordata', 'blue poppy, Meconopsis betonicifolia', 'Welsh poppy, Meconopsis cambrica', 'creamcups, Platystemon californicus', 'wind poppy, flaming poppy, Stylomecon heterophyllum, Papaver heterophyllum', 'celandine poppy, wood poppy, Stylophorum diphyllum']}, '12': {'wdid': 'n04971313', 'words_map': 'rose, rosiness', 'clip_words_map': 'bridge', 'ancestors': ['pink', 'chromatic color, chromatic colour, spectral color, spectral colour', 'color, colour, coloring, colouring', 'visual property', 'property', 'attribute', 'abstraction, abstract entity'], 'descendants': ['old rose'], 'children': ['old rose']}, '13': {'wdid': 'n11978233', 'words_map': 'sunflower, helianthus', 'clip_words_map': 'bus', 'ancestors': ['flower', 'angiosperm, flowering plant', 'spermatophyte, phanerogam, seed plant', 'vascular plant, tracheophyte', 'plant, flora, plant life', 'organism, being', 'living thing, animate thing', 'whole, unit', 'object, physical object', 'physical entity'], 'descendants': ['Jerusalem artichoke, girasol, Jerusalem artichoke sunflower, Helianthus tuberosus', 'prairie sunflower, Helianthus petiolaris', \"Maximilian's sunflower, Helianthus maximilianii\", 'showy sunflower, Helianthus laetiflorus', 'giant sunflower, tall sunflower, Indian potato, Helianthus giganteus', 'common sunflower, mirasol, Helianthus annuus', 'swamp sunflower, Helianthus angustifolius'], 'children': ['swamp sunflower, Helianthus angustifolius', 'common sunflower, mirasol, Helianthus annuus', 'giant sunflower, tall sunflower, Indian potato, Helianthus giganteus', 'showy sunflower, Helianthus laetiflorus', \"Maximilian's sunflower, Helianthus maximilianii\", 'prairie sunflower, Helianthus petiolaris', 'Jerusalem artichoke, girasol, Jerusalem artichoke sunflower, Helianthus tuberosus']}, '14': {'wdid': 'n12454159', 'words_map': 'tulip', 'clip_words_map': 'butterfly', 'ancestors': ['liliaceous plant', 'bulbous plant', 'vascular plant, tracheophyte', 'plant, flora, plant life', 'organism, being', 'living thing, animate thing', 'whole, unit', 'object, physical object', 'physical entity'], 'descendants': ['Darwin tulip', 'cottage tulip', 'Tulipa gesneriana', 'lady tulip, candlestick tulip, Tulipa clusiana', 'dwarf tulip, Tulipa armena, Tulipa suaveolens'], 'children': ['dwarf tulip, Tulipa armena, Tulipa suaveolens', 'lady tulip, candlestick tulip, Tulipa clusiana', 'Tulipa gesneriana', 'cottage tulip', 'Darwin tulip']}, '15': {'wdid': 'n13765396', 'words_map': 'bottle, bottleful', 'clip_words_map': 'camel', 'ancestors': ['containerful', 'indefinite quantity', 'measure, quantity, amount', 'abstraction, abstract entity'], 'descendants': ['split'], 'children': ['split']}, '16': {'wdid': 'n13765531', 'words_map': 'bowl, bowlful', 'clip_words_map': 'can', 'ancestors': ['containerful', 'indefinite quantity', 'measure, quantity, amount', 'abstraction, abstract entity'], 'descendants': [], 'children': []}, '17': {'wdid': 'n13765990', 'words_map': 'can, canful', 'clip_words_map': 'castle', 'ancestors': ['containerful', 'indefinite quantity', 'measure, quantity, amount', 'abstraction, abstract entity'], 'descendants': [], 'children': []}, '18': {'wdid': 'n13766733', 'words_map': 'cup, cupful', 'clip_words_map': 'caterpillar', 'ancestors': ['containerful', 'indefinite quantity', 'measure, quantity, amount', 'abstraction, abstract entity'], 'descendants': [], 'children': []}, '19': {'wdid': 'n13768850', 'words_map': 'plate, plateful', 'clip_words_map': 'cattle', 'ancestors': ['containerful', 'indefinite quantity', 'measure, quantity, amount', 'abstraction, abstract entity'], 'descendants': [], 'children': []}, '20': {'wdid': 'n07739125', 'words_map': 'apple', 'clip_words_map': 'chair', 'ancestors': ['pome, false fruit', 'fruit', 'reproductive structure', 'plant organ', 'plant part, plant structure', 'natural object', 'whole, unit', 'object, physical object', 'physical entity'], 'descendants': ['cooking apple', 'Rome Beauty', 'Newtown Wonder', \"Lane's Prince Albert\", \"Bramley's Seedling\", 'eating apple, dessert apple', 'Granny Smith', 'Stayman Winesap', 'Winesap', 'Stayman', 'Prima', 'Pippin', \"Cox's Orange Pippin\", 'Pearmain', 'Northern Spy', 'McIntosh', 'Macoun', 'Jonathan', \"Grimes' golden\", 'Empire', 'Delicious', 'Red Delicious', 'Golden Delicious, Yellow Delicious', 'Baldwin', 'Cortland', 'crab apple, crabapple'], 'children': ['crab apple, crabapple', 'eating apple, dessert apple', 'cooking apple']}, '21': {'wdid': 'n07734744', 'words_map': 'mushroom', 'clip_words_map': 'chimpanzee', 'ancestors': ['vegetable, veggie, veg', 'produce, green goods, green groceries, garden truck', 'food, solid food', 'solid', 'matter', 'physical entity'], 'descendants': [], 'children': []}, '22': {'wdid': 'n07747607', 'words_map': 'orange', 'clip_words_map': 'clock', 'ancestors': ['citrus, citrus fruit, citrous fruit', 'edible fruit', 'produce, green goods, green groceries, garden truck', 'food, solid food', 'solid', 'matter', 'physical entity'], 'descendants': ['sweet orange', 'Valencia orange', 'navel orange', 'Jaffa orange', 'bitter orange, Seville orange, sour orange', 'temple orange'], 'children': ['temple orange', 'bitter orange, Seville orange, sour orange', 'sweet orange']}, '23': {'wdid': 'n07767847', 'words_map': 'pear', 'clip_words_map': 'cloud', 'ancestors': ['pome, false fruit', 'fruit', 'reproductive structure', 'plant organ', 'plant part, plant structure', 'natural object', 'whole, unit', 'object, physical object', 'physical entity'], 'descendants': ['seckel, seckel pear', 'bartlett, bartlett pear', 'anjou', 'bosc'], 'children': ['bosc', 'anjou', 'bartlett, bartlett pear', 'seckel, seckel pear']}, '24': {'wdid': 'n12901264', 'words_map': 'sweet pepper, bell pepper, pimento, pimiento, paprika, sweet pepper plant, Capsicum annuum grossum', 'clip_words_map': 'cockroach', 'ancestors': ['capsicum, pepper, capsicum pepper plant', 'shrub, bush', 'woody plant, ligneous plant', 'vascular plant, tracheophyte', 'plant, flora, plant life', 'organism, being', 'living thing, animate thing', 'whole, unit', 'object, physical object', 'physical entity'], 'descendants': [], 'children': []}, '25': {'wdid': 'n03046257', 'words_map': 'clock', 'clip_words_map': 'couch', 'ancestors': ['timepiece, timekeeper, horologe', 'measuring instrument, measuring system, measuring device', 'instrument', 'device', 'instrumentality, instrumentation', 'artifact, artefact', 'whole, unit', 'object, physical object', 'physical entity'], 'descendants': ['water clock, clepsydra, water glass', 'wall clock', 'turret clock', 'time clock', 'system clock', 'pendulum clock', 'grandfather clock, longcase clock', 'electric clock', 'digital clock', 'cuckoo clock', 'chronometer', 'analog clock', 'alarm clock, alarm'], 'children': ['alarm clock, alarm', 'analog clock', 'chronometer', 'cuckoo clock', 'digital clock', 'electric clock', 'pendulum clock', 'system clock', 'time clock', 'turret clock', 'wall clock', 'water clock, clepsydra, water glass']}, '26': {'wdid': 'n03085013', 'words_map': 'computer keyboard, keypad', 'clip_words_map': 'crab', 'ancestors': ['data input device, input device', 'peripheral, computer peripheral, peripheral device', 'electronic equipment', 'equipment', 'instrumentality, instrumentation', 'artifact, artefact', 'whole, unit', 'object, physical object', 'physical entity'], 'descendants': [], 'children': []}, '27': {'wdid': 'n03636248', 'words_map': 'lamp', 'clip_words_map': 'crocodile', 'ancestors': ['source of illumination', 'device', 'instrumentality, instrumentation', 'artifact, artefact', 'whole, unit', 'object, physical object', 'physical entity'], 'descendants': ['taillight, tail lamp, rear light, rear lamp', 'streetlight, street lamp', 'spotlight, spot', 'spirit lamp', 'sodium-vapor lamp, sodium-vapour lamp', 'oil lamp, kerosene lamp, kerosine lamp', 'safety lamp, Davy lamp', 'neon lamp, neon induction lamp, neon tube', 'limelight, calcium light', 'lantern', \"jack-o'-lantern\", \"dark lantern, bull's-eye\", 'Chinese lantern', 'hurricane lamp, hurricane lantern, tornado lantern, storm lantern, storm lamp', 'gas lamp', 'fluorescent lamp', 'flash, photoflash, flash lamp, flashgun, flashbulb, flash bulb', 'electric lamp', 'slit lamp', 'light bulb, lightbulb, bulb, incandescent lamp, electric light, electric-light bulb', 'flashlight, torch', 'penlight', 'electric-discharge lamp, gas-discharge lamp', 'arc lamp, arc light', 'carbon arc lamp, carbon arc', 'klieg light', 'discharge lamp', 'candle, taper, wax light', 'vigil light, vigil candle', 'rushlight, rush candle', 'dip', 'chandlery', \"Aladdin's lamp\"], 'children': [\"Aladdin's lamp\", 'candle, taper, wax light', 'discharge lamp', 'electric lamp', 'flash, photoflash, flash lamp, flashgun, flashbulb, flash bulb', 'fluorescent lamp', 'gas lamp', 'hurricane lamp, hurricane lantern, tornado lantern, storm lantern, storm lamp', 'lantern', 'limelight, calcium light', 'neon lamp, neon induction lamp, neon tube', 'oil lamp, kerosene lamp, kerosine lamp', 'sodium-vapor lamp, sodium-vapour lamp', 'spirit lamp', 'spotlight, spot', 'streetlight, street lamp', 'taillight, tail lamp, rear light, rear lamp']}, '28': {'wdid': 'n04401088', 'words_map': 'telephone, phone, telephone set', 'clip_words_map': 'cup', 'ancestors': ['electronic equipment', 'equipment', 'instrumentality, instrumentation', 'artifact, artefact', 'whole, unit', 'object, physical object', 'physical entity'], 'descendants': ['dial telephone, dial phone', 'pay-phone, pay-station', 'speakerphone', 'desk phone', 'radiotelephone, radiophone, wireless telephone', 'cellular telephone, cellular phone, cellphone, cell, mobile phone', 'extension, telephone extension, extension phone', 'handset, French telephone'], 'children': ['handset, French telephone', 'extension, telephone extension, extension phone', 'radiotelephone, radiophone, wireless telephone', 'desk phone', 'speakerphone', 'pay-phone, pay-station', 'dial telephone, dial phone']}, '29': {'wdid': 'n04404412', 'words_map': 'television, television system', 'clip_words_map': 'dinosaur', 'ancestors': ['telecommunication system, telecom system, telecommunication equipment, telecom equipment', 'communication system', 'system', 'instrumentality, instrumentation', 'artifact, artefact', 'whole, unit', 'object, physical object', 'physical entity'], 'descendants': ['closed-circuit television', 'surveillance system', 'cable, cable television, cable system, cable television service', 'satellite television, satellite TV', 'color television, colour television, color television system, colour television system, color TV, colour TV', 'field-sequential color television, field-sequential color TV, field-sequential color television system, field-sequential color TV system'], 'children': ['color television, colour television, color television system, colour television system, color TV, colour TV', 'satellite television, satellite TV', 'cable, cable television, cable system, cable television service', 'closed-circuit television']}, '30': {'wdid': 'n02818832', 'words_map': 'bed', 'clip_words_map': 'dolphin', 'ancestors': ['bedroom furniture', 'furniture, piece of furniture, article of furniture', 'furnishing', 'instrumentality, instrumentation', 'artifact, artefact', 'whole, unit', 'object, physical object', 'physical entity'], 'descendants': ['water bed', 'twin bed', 'trundle bed, trundle, truckle bed, truckle', 'sleigh bed', 'single bed', 'hospital bed', 'sickbed', 'platform bed', 'plank-bed', 'Murphy bed', 'marriage bed', 'hammock, sack', 'four-poster', 'double bed', 'deathbed', 'couch', 'cot, camp bed', 'bunk bed, bunk', 'bunk', 'built-in bed', 'berth, bunk, built in bed', 'upper berth, upper', 'lower berth, lower'], 'children': ['berth, bunk, built in bed', 'built-in bed', 'bunk', 'bunk bed, bunk', 'cot, camp bed', 'couch', 'deathbed', 'double bed', 'four-poster', 'hammock, sack', 'marriage bed', 'Murphy bed', 'plank-bed', 'platform bed', 'sickbed', 'single bed', 'sleigh bed', 'trundle bed, trundle, truckle bed, truckle', 'twin bed', 'water bed']}, '31': {'wdid': 'n03001627', 'words_map': 'chair', 'clip_words_map': 'elephant', 'ancestors': ['seat', 'furniture, piece of furniture, article of furniture', 'furnishing', 'instrumentality, instrumentation', 'artifact, artefact', 'whole, unit', 'object, physical object', 'physical entity'], 'descendants': ['wheelchair', 'motorized wheelchair', 'bath chair', 'tablet-armed chair', 'swivel chair', 'straight chair, side chair', 'Windsor chair', 'rocking chair, rocker', 'shoofly', 'platform rocker', 'Boston rocker', 'lawn chair, garden chair', 'ladder-back, ladder-back chair', 'highchair, feeding chair', 'folding chair', 'yacht chair', 'deck chair, beach chair', 'camp chair', 'fighting chair', 'Eames chair', 'chaise longue, chaise, daybed', 'chair of state', 'throne', 'peacock-throne', 'musnud', 'mercy seat', \"cathedra, bishop's throne\", 'barber chair', 'armchair', 'recliner, reclining chair, lounger', 'Morris chair', 'fauteuil', 'easy chair, lounge chair, overstuffed chair', 'wing chair', \"captain's chair\"], 'children': ['armchair', 'barber chair', 'chair of state', 'chaise longue, chaise, daybed', 'Eames chair', 'fighting chair', 'folding chair', 'highchair, feeding chair', 'ladder-back, ladder-back chair', 'lawn chair, garden chair', 'rocking chair, rocker', 'straight chair, side chair', 'swivel chair', 'tablet-armed chair', 'wheelchair']}, '32': {'wdid': 'n04256520', 'words_map': 'sofa, couch, lounge', 'clip_words_map': 'flatfish', 'ancestors': ['seat', 'furniture, piece of furniture, article of furniture', 'furnishing', 'instrumentality, instrumentation', 'artifact, artefact', 'whole, unit', 'object, physical object', 'physical entity'], 'descendants': ['squab', 'settee', 'love seat, loveseat, tete-a-tete, vis-a-vis', 'divan', 'daybed, divan bed', 'convertible, sofa bed', 'studio couch, day bed', 'davenport', 'chesterfield'], 'children': ['convertible, sofa bed', 'daybed, divan bed', 'divan', 'love seat, loveseat, tete-a-tete, vis-a-vis', 'settee', 'squab']}, '33': {'wdid': 'n04379243', 'words_map': 'table', 'clip_words_map': 'forest', 'ancestors': ['furniture, piece of furniture, article of furniture', 'furnishing', 'instrumentality, instrumentation', 'artifact, artefact', 'whole, unit', 'object, physical object', 'physical entity'], 'descendants': ['worktable, work table', 'workbench, work bench, bench', 'lab bench, laboratory bench', 'drafting table, drawing table', 'trestle table', 'tea table', 'table-tennis table, ping-pong table, pingpong table', 'stand', 'lectern, reading desk', 'pool table, billiard table, snooker table', 'platen', 'pier table', 'pedestal table', 'tilt-top table, tip-top table, tip table', 'Parsons table', 'operating table', 'kitchen table', 'gueridon', 'gaming table', 'drop-leaf table', 'gateleg table', 'dressing table, dresser, vanity, toilet table', 'desk', 'writing desk', 'secretary, writing table, escritoire, secretaire', 'davenport', 'counter', 'reception desk', 'notions counter', 'meat counter', 'checkout, checkout counter', 'bar', 'wine bar', 'wet bar', 'sushi bar', 'soda fountain', 'snack bar, snack counter, buffet', 'milk bar', 'commissary', 'salad bar', 'oyster bar', 'cash bar', 'console table, console', 'conference table, council table, council board', 'coffee table, cocktail table', 'card table', 'card table', 'breakfast table', 'booth', \"altar, communion table, Lord's table\"], 'children': [\"altar, communion table, Lord's table\", 'booth', 'breakfast table', 'card table', 'card table', 'coffee table, cocktail table', 'conference table, council table, council board', 'console table, console', 'counter', 'desk', 'dressing table, dresser, vanity, toilet table', 'drop-leaf table', 'gaming table', 'gueridon', 'kitchen table', 'operating table', 'Parsons table', 'pedestal table', 'pier table', 'platen', 'pool table, billiard table, snooker table', 'stand', 'table-tennis table, ping-pong table, pingpong table', 'tea table', 'trestle table', 'worktable, work table']}, '34': {'wdid': 'n04550184', 'words_map': 'wardrobe, closet, press', 'clip_words_map': 'fox', 'ancestors': ['furniture, piece of furniture, article of furniture', 'furnishing', 'instrumentality, instrumentation', 'artifact, artefact', 'whole, unit', 'object, physical object', 'physical entity'], 'descendants': ['coat closet', 'clothes closet, clothespress', 'armoire'], 'children': ['armoire', 'clothes closet, clothespress', 'coat closet']}, '35': {'wdid': 'n02206856', 'words_map': 'bee', 'clip_words_map': 'girl', 'ancestors': ['hymenopterous insect, hymenopteran, hymenopteron, hymenopter', 'insect', 'arthropod', 'invertebrate', 'animal, animate being, beast, brute, creature, fauna', 'organism, being', 'living thing, animate thing', 'whole, unit', 'object, physical object', 'physical entity'], 'descendants': ['potter bee', 'mason bee', 'leaf-cutting bee, leaf-cutter, leaf-cutter bee', 'Nomia melanderi, alkali bee', 'andrena, andrenid, mining bee', 'cuckoo-bumblebee', 'bumblebee, humblebee', 'carpenter bee', 'honeybee, Apis mellifera', 'Italian bee', 'Carniolan bee', 'black bee, German bee', 'Africanized bee, Africanized honey bee, killer bee, Apis mellifera scutellata, Apis mellifera adansonii', 'drone'], 'children': ['drone', 'honeybee, Apis mellifera', 'carpenter bee', 'bumblebee, humblebee', 'cuckoo-bumblebee', 'andrena, andrenid, mining bee', 'Nomia melanderi, alkali bee', 'leaf-cutting bee, leaf-cutter, leaf-cutter bee', 'mason bee', 'potter bee']}, '36': {'wdid': 'n02164464', 'words_map': 'beetle', 'clip_words_map': 'hamster', 'ancestors': ['insect', 'arthropod', 'invertebrate', 'animal, animate being, beast, brute, creature, fauna', 'organism, being', 'living thing, animate thing', 'whole, unit', 'object, physical object', 'physical entity'], 'descendants': ['Asian longhorned beetle, Anoplophora glabripennis', 'rove beetle', 'bark beetle', 'spruce bark beetle, Dendroctonus rufipennis', 'Dutch-elm beetle, Scolytus multistriatus', 'blister beetle, meloid', 'Spanish fly', 'oil beetle', 'weevil', 'rice weevil, black weevil, Sitophylus oryzae', 'seed beetle, seed weevil', 'bean weevil, Acanthoscelides obtectus', 'pea weevil, Bruchus pisorum', 'darkling beetle, darkling groung beetle, tenebrionid', 'flour beetle, flour weevil', 'boll weevil, Anthonomus grandis', 'snout beetle', 'deathwatch beetle, deathwatch, Xestobium rufovillosum', 'whirligig beetle', 'water beetle', 'elaterid beetle, elater, elaterid', 'firefly, fire beetle, Pyrophorus noctiluca', 'click beetle, skipjack, snapping beetle', 'lamellicorn beetle', 'stag beetle', 'scarabaeid beetle, scarabaeid, scarabaean', 'rose chafer, rose beetle, Cetonia aurata', 'melolonthid beetle', 'rose chafer, rose bug, Macrodactylus subspinosus', 'cockchafer, May bug, May beetle, Melolontha melolontha', 'rhinoceros beetle', 'Oriental beetle, Asiatic beetle, Anomala orientalis', 'Japanese beetle, Popillia japonica', 'June beetle, June bug, May bug, May beetle', 'green June beetle, figeater', 'dung beetle', 'dorbeetle', 'tumblebug', 'scarab, scarabaeus, Scarabaeus sacer', 'clerid beetle, clerid', 'bee beetle', 'carpet beetle, carpet bug', 'black carpet beetle', 'buffalo carpet beetle, Anthrenus scrophulariae', 'leaf beetle, chrysomelid', 'Colorado potato beetle, Colorado beetle, potato bug, potato beetle, Leptinotarsa decemlineata', 'flea beetle', 'long-horned beetle, longicorn, longicorn beetle', 'sawyer, sawyer beetle', 'pine sawyer', 'firefly, lightning bug', 'glowworm', 'ground beetle, carabid beetle', 'calosoma', 'searcher, searcher beetle, Calosoma scrutator', 'bombardier beetle', 'ladybug, ladybeetle, lady beetle, ladybird, ladybird beetle', 'vedalia, Rodolia cardinalis', 'Hippodamia convergens', 'Mexican bean beetle, bean beetle, Epilachna varivestis', 'two-spotted ladybug, Adalia bipunctata', 'tiger beetle'], 'children': ['tiger beetle', 'ladybug, ladybeetle, lady beetle, ladybird, ladybird beetle', 'ground beetle, carabid beetle', 'firefly, lightning bug', 'long-horned beetle, longicorn, longicorn beetle', 'leaf beetle, chrysomelid', 'carpet beetle, carpet bug', 'clerid beetle, clerid', 'lamellicorn beetle', 'elaterid beetle, elater, elaterid', 'water beetle', 'whirligig beetle', 'deathwatch beetle, deathwatch, Xestobium rufovillosum', 'weevil', 'blister beetle, meloid', 'bark beetle', 'rove beetle', 'Asian longhorned beetle, Anoplophora glabripennis']}, '37': {'wdid': 'n02274259', 'words_map': 'butterfly', 'clip_words_map': 'house', 'ancestors': ['lepidopterous insect, lepidopteron, lepidopteran', 'insect', 'arthropod', 'invertebrate', 'animal, animate being, beast, brute, creature, fauna', 'organism, being', 'living thing, animate thing', 'whole, unit', 'object, physical object', 'physical entity'], 'descendants': ['lycaenid, lycaenid butterfly', 'hairstreak, hairstreak butterfly', 'Strymon melinus', 'copper', 'American copper, Lycaena hypophlaeas', 'blue', 'sulphur butterfly, sulfur butterfly', 'pierid, pierid butterfly', 'cabbage butterfly', 'southern cabbage butterfly, Pieris protodice', 'large white, Pieris brassicae', 'small white, Pieris rapae', 'danaid, danaid butterfly', 'monarch, monarch butterfly, milkweed butterfly, Danaus plexippus', 'ringlet, ringlet butterfly', 'nymphalid, nymphalid butterfly, brush-footed butterfly, four-footed butterfly', 'peacock, peacock butterfly, Inachis io', 'emperor butterfly, emperor', 'purple emperor, Apatura iris', 'fritillary', 'silverspot', 'comma, comma butterfly, Polygonia comma', 'anglewing', 'viceroy, Limenitis archippus', 'red-spotted purple, Limenitis astyanax', 'banded purple, white admiral, Limenitis arthemis', 'white admiral, Limenitis camilla', 'red admiral, Vanessa atalanta', 'admiral', 'painted beauty, Vanessa virginiensis', 'tortoiseshell, tortoiseshell butterfly', 'mourning cloak, mourning cloak butterfly, Camberwell beauty, Nymphalis antiopa'], 'children': ['nymphalid, nymphalid butterfly, brush-footed butterfly, four-footed butterfly', 'ringlet, ringlet butterfly', 'danaid, danaid butterfly', 'pierid, pierid butterfly', 'sulphur butterfly, sulfur butterfly', 'lycaenid, lycaenid butterfly']}, '38': {'wdid': 'n02309337', 'words_map': 'caterpillar', 'clip_words_map': 'kangaroo', 'ancestors': ['larva', 'animal, animate being, beast, brute, creature, fauna', 'organism, being', 'living thing, animate thing', 'whole, unit', 'object, physical object', 'physical entity'], 'descendants': ['silkworm', 'silkworm, giant silkworm, wild wilkworm', 'ailanthus silkworm, Samia cynthia', 'potato tuberworm, Phthorimaea operculella', 'armyworm, army worm, Pseudaletia unipuncta', 'tussock caterpillar', 'webworm', 'garden webworm, Loxostege similalis', 'fall webworm, Hyphantria cunea', 'beet armyworm, Spodoptera exigua', 'cabbageworm, Pieris rapae', 'cutworm', 'army cutworm, Chorizagrotis auxiliaris', 'bollworm', 'corn earworm, cotton bollworm, tomato fruitworm, tobacco budworm, vetchworm, Heliothis zia', 'pink bollworm, Gelechia gossypiella', 'woolly bear, woolly bear caterpillar', 'woolly bear moth', 'tent caterpillar', 'forest tent caterpillar, Malacosoma disstria', 'measuring worm, inchworm, looper', 'tobacco hornworm, tomato worm, Manduca sexta', 'fall armyworm, Spodoptera frugiperda', 'cankerworm', 'fall cankerworm', 'spring cankerworm', 'lappet caterpillar', 'corn borer, Pyrausta nubilalis', 'tomato hornworm, potato worm, Manduca quinquemaculata'], 'children': ['tomato hornworm, potato worm, Manduca quinquemaculata', 'corn borer, Pyrausta nubilalis', 'lappet caterpillar', 'cankerworm', 'fall armyworm, Spodoptera frugiperda', 'tobacco hornworm, tomato worm, Manduca sexta', 'measuring worm, inchworm, looper', 'tent caterpillar', 'woolly bear, woolly bear caterpillar', 'bollworm', 'cutworm', 'cabbageworm, Pieris rapae', 'beet armyworm, Spodoptera exigua', 'webworm', 'tussock caterpillar', 'armyworm, army worm, Pseudaletia unipuncta', 'potato tuberworm, Phthorimaea operculella', 'silkworm, giant silkworm, wild wilkworm', 'silkworm']}, '39': {'wdid': 'n02233338', 'words_map': 'cockroach, roach', 'clip_words_map': 'keyboard', 'ancestors': ['dictyopterous insect', 'insect', 'arthropod', 'invertebrate', 'animal, animate being, beast, brute, creature, fauna', 'organism, being', 'living thing, animate thing', 'whole, unit', 'object, physical object', 'physical entity'], 'descendants': ['giant cockroach', 'German cockroach, Croton bug, crotonbug, water bug, Blattella germanica', 'Australian cockroach, Periplaneta australasiae', 'American cockroach, Periplaneta americana', 'oriental cockroach, oriental roach, Asiatic cockroach, blackbeetle, Blatta orientalis'], 'children': ['oriental cockroach, oriental roach, Asiatic cockroach, blackbeetle, Blatta orientalis', 'American cockroach, Periplaneta americana', 'Australian cockroach, Periplaneta australasiae', 'German cockroach, Croton bug, crotonbug, water bug, Blattella germanica', 'giant cockroach']}, '40': {'wdid': 'n02131653', 'words_map': 'bear', 'clip_words_map': 'lamp', 'ancestors': ['carnivore', 'placental, placental mammal, eutherian, eutherian mammal', 'mammal, mammalian', 'vertebrate, craniate', 'chordate', 'animal, animate being, beast, brute, creature, fauna', 'organism, being', 'living thing, animate thing', 'whole, unit', 'object, physical object', 'physical entity'], 'descendants': ['bear cub', 'sloth bear, Melursus ursinus, Ursus ursinus', 'American black bear, black bear, Ursus americanus, Euarctos americanus', 'cinnamon bear', 'ice bear, polar bear, Ursus Maritimus, Thalarctos maritimus', 'bruin', 'brown bear, bruin, Ursus arctos', 'grizzly, grizzly bear, silvertip, silver-tip, Ursus horribilis, Ursus arctos horribilis', 'Syrian bear, Ursus arctos syriacus', 'Alaskan brown bear, Kodiak bear, Kodiak, Ursus middendorffi, Ursus arctos middendorffi', 'Asiatic black bear, black bear, Ursus thibetanus, Selenarctos thibetanus'], 'children': ['Asiatic black bear, black bear, Ursus thibetanus, Selenarctos thibetanus', 'brown bear, bruin, Ursus arctos', 'bruin', 'ice bear, polar bear, Ursus Maritimus, Thalarctos maritimus', 'American black bear, black bear, Ursus americanus, Euarctos americanus', 'sloth bear, Melursus ursinus, Ursus ursinus', 'bear cub']}, '41': {'wdid': 'n02128385', 'words_map': 'leopard, Panthera pardus', 'clip_words_map': 'lawn_mower', 'ancestors': ['big cat, cat', 'feline, felid', 'carnivore', 'placental, placental mammal, eutherian, eutherian mammal', 'mammal, mammalian', 'vertebrate, craniate', 'chordate', 'animal, animate being, beast, brute, creature, fauna', 'organism, being', 'living thing, animate thing', 'whole, unit', 'object, physical object', 'physical entity'], 'descendants': ['leopardess', 'panther'], 'children': ['panther', 'leopardess']}, '42': {'wdid': 'n02129165', 'words_map': 'lion, king of beasts, Panthera leo', 'clip_words_map': 'leopard', 'ancestors': ['big cat, cat', 'feline, felid', 'carnivore', 'placental, placental mammal, eutherian, eutherian mammal', 'mammal, mammalian', 'vertebrate, craniate', 'chordate', 'animal, animate being, beast, brute, creature, fauna', 'organism, being', 'living thing, animate thing', 'whole, unit', 'object, physical object', 'physical entity'], 'descendants': ['lion cub', 'lionet', 'lioness'], 'children': ['lioness', 'lionet', 'lion cub']}, '43': {'wdid': 'n02129604', 'words_map': 'tiger, Panthera tigris', 'clip_words_map': 'lion', 'ancestors': ['big cat, cat', 'feline, felid', 'carnivore', 'placental, placental mammal, eutherian, eutherian mammal', 'mammal, mammalian', 'vertebrate, craniate', 'chordate', 'animal, animate being, beast, brute, creature, fauna', 'organism, being', 'living thing, animate thing', 'whole, unit', 'object, physical object', 'physical entity'], 'descendants': ['tiger cub', 'Bengal tiger', 'tigress'], 'children': ['tigress', 'Bengal tiger', 'tiger cub']}, '44': {'wdid': 'n02114100', 'words_map': 'wolf', 'clip_words_map': 'lizard', 'ancestors': ['canine, canid', 'carnivore', 'placental, placental mammal, eutherian, eutherian mammal', 'mammal, mammalian', 'vertebrate, craniate', 'chordate', 'animal, animate being, beast, brute, creature, fauna', 'organism, being', 'living thing, animate thing', 'whole, unit', 'object, physical object', 'physical entity'], 'descendants': ['wolf pup, wolf cub', 'timber wolf, grey wolf, gray wolf, Canis lupus', 'white wolf, Arctic wolf, Canis lupus tundrarum', 'coyote, prairie wolf, brush wolf, Canis latrans', 'coydog', 'red wolf, maned wolf, Canis rufus, Canis niger'], 'children': ['red wolf, maned wolf, Canis rufus, Canis niger', 'coyote, prairie wolf, brush wolf, Canis latrans', 'white wolf, Arctic wolf, Canis lupus tundrarum', 'timber wolf, grey wolf, gray wolf, Canis lupus', 'wolf pup, wolf cub']}, '45': {'wdid': 'n02898711', 'words_map': 'bridge, span', 'clip_words_map': 'lobster', 'ancestors': ['structure, construction', 'artifact, artefact', 'whole, unit', 'object, physical object', 'physical entity'], 'descendants': ['viaduct', 'truss bridge', 'trestle bridge', 'toll bridge', 'suspension bridge', 'steel arch bridge', 'rope bridge', 'pontoon bridge, bateau bridge, floating bridge', 'overpass, flyover', 'footbridge, overcrossing, pedestrian bridge', 'jet bridge', 'gangplank, gangboard, gangway', 'drawbridge, lift bridge', 'covered bridge', 'cattle guard, cattle grid', 'cantilever bridge', 'Bailey bridge'], 'children': ['Bailey bridge', 'cantilever bridge', 'cattle guard, cattle grid', 'covered bridge', 'drawbridge, lift bridge', 'footbridge, overcrossing, pedestrian bridge', 'overpass, flyover', 'pontoon bridge, bateau bridge, floating bridge', 'rope bridge', 'steel arch bridge', 'suspension bridge', 'toll bridge', 'trestle bridge', 'truss bridge', 'viaduct']}, '46': {'wdid': 'n03878066', 'words_map': 'palace, castle', 'clip_words_map': 'man', 'ancestors': ['mansion, mansion house, manse, hall, residence', 'house', 'dwelling, home, domicile, abode, habitation, dwelling house', 'housing, lodging, living accommodations', 'structure, construction', 'artifact, artefact', 'whole, unit', 'object, physical object', 'physical entity'], 'descendants': [], 'children': []}, '47': {'wdid': 'n03544360', 'words_map': 'house', 'clip_words_map': 'maple_tree', 'ancestors': ['dwelling, home, domicile, abode, habitation, dwelling house', 'housing, lodging, living accommodations', 'structure, construction', 'artifact, artefact', 'whole, unit', 'object, physical object', 'physical entity'], 'descendants': ['villa', 'tract house', 'solar house', 'sod house, soddy, adobe house', 'saltbox', 'safe house', 'row house, town house', 'terraced house', 'brownstone', 'residence', 'religious residence, cloister', 'priory', 'monastery', 'lamasery', 'friary', 'charterhouse', 'abbey', 'convent', 'nunnery', 'abbey', 'parsonage, vicarage, rectory', 'glebe house', 'palace', 'alcazar', 'manse', 'deanery', 'court', 'ranch house', 'mansion, mansion house, manse, hall, residence', 'stately home', 'palace, castle', 'manor, manor house', 'maisonette, maisonnette', 'lodging house, rooming house', 'flophouse, dosshouse', 'lodge, hunting lodge', 'hacienda', 'guesthouse', 'gatehouse', 'lodge', 'farmhouse', 'duplex house, duplex, semidetached house', \"dollhouse, doll's house\", 'detached house, single dwelling', 'country house', 'villa', 'villa', 'summer house', 'shooting lodge, shooting box', 'dacha', 'chateau', 'chapterhouse, fraternity house, frat house', 'chalet', 'cabin', 'log cabin', 'bungalow, cottage', 'boarding house, boardinghouse', 'bed and breakfast, bed-and-breakfast', 'beach house'], 'children': ['beach house', 'boarding house, boardinghouse', 'bungalow, cottage', 'cabin', 'chalet', 'chapterhouse, fraternity house, frat house', 'country house', 'detached house, single dwelling', \"dollhouse, doll's house\", 'duplex house, duplex, semidetached house', 'farmhouse', 'gatehouse', 'guesthouse', 'hacienda', 'lodge, hunting lodge', 'lodging house, rooming house', 'maisonette, maisonnette', 'mansion, mansion house, manse, hall, residence', 'ranch house', 'residence', 'row house, town house', 'safe house', 'saltbox', 'sod house, soddy, adobe house', 'solar house', 'tract house', 'villa']}, '48': {'wdid': 'n04096066', 'words_map': 'road, route', 'clip_words_map': 'motorcycle', 'ancestors': ['way', 'artifact, artefact', 'whole, unit', 'object, physical object', 'physical entity'], 'descendants': ['byway, bypath, byroad', 'post road', 'speedway', 'driveway, drive, private road', 'thoroughfare', 'blind alley, cul de sac, dead-end street, impasse', 'street', 'two-way street', 'one-way street', 'street', 'alley, alleyway, back street', 'local road, local street', 'frontage road, service road', 'side street', 'mews', 'main street, high street', 'main drag', 'cross street', 'avenue, boulevard', 'rue', 'artery', 'clearway', 'shortcut, cutoff, crosscut', 'skid road', 'turnoff', 'drive, parkway', 'highway, main road', 'beltway, bypass, ring road, ringway', 'arterial road', 'divided highway, dual carriageway', 'expressway, freeway, motorway, pike, state highway, superhighway, throughway, thruway', 'turnpike, toll road', 'autostrada', 'autobahn', 'highroad, trunk road', 'interstate, interstate highway', 'track, cart track, cartroad', 'portage', 'trail', 'mountain trail', 'ski run, ski trail', 'piste', 'deer trail', 'cattle trail', 'horse-trail', 'Indian trail', 'line, railway line, rail line', 'trunk line, trunk route', 'branch line, spur track, spur', 'loop-line', 'causeway', 'corduroy', 'detour, roundabout way', 'access road, slip road', 'side road', 'roadway', 'carriageway'], 'children': ['roadway', 'side road', 'access road, slip road', 'detour, roundabout way', 'corduroy', 'causeway', 'line, railway line, rail line', 'track, cart track, cartroad', 'highway, main road', 'drive, parkway', 'turnoff', 'skid road', 'shortcut, cutoff, crosscut', 'clearway', 'thoroughfare', 'driveway, drive, private road', 'speedway', 'post road', 'byway, bypath, byroad']}, '49': {'wdid': 'n04233124', 'words_map': 'skyscraper', 'clip_words_map': 'mountain', 'ancestors': ['building, edifice', 'structure, construction', 'artifact, artefact', 'whole, unit', 'object, physical object', 'physical entity'], 'descendants': [], 'children': []}, '50': {'wdid': 'n11439690', 'words_map': 'cloud', 'clip_words_map': 'mouse', 'ancestors': ['physical phenomenon', 'natural phenomenon', 'phenomenon', 'process, physical process', 'physical entity'], 'descendants': ['dust cloud', 'mushroom, mushroom cloud, mushroom-shaped cloud', 'cosmic dust', 'coma', 'aerosol', 'fog', 'fogbank', 'pea soup, pea-souper', 'ice fog, pogonip', 'mist', 'haze', 'smoke, fume', 'gun smoke', 'smother', 'nebula', 'diffuse nebula, gaseous nebula', 'Orion, Hunter', 'planetary nebula'], 'children': ['nebula', 'aerosol', 'coma', 'cosmic dust', 'mushroom, mushroom cloud, mushroom-shaped cloud', 'dust cloud']}, '51': {'wdid': 'n08438533', 'words_map': 'forest, wood, woods', 'clip_words_map': 'mushroom', 'ancestors': ['vegetation, flora, botany', 'collection, aggregation, accumulation, assemblage', 'group, grouping', 'abstraction, abstract entity'], 'descendants': ['jungle', 'second growth', 'rain forest, rainforest', 'temperate rain forest', 'tropical rain forest, selva', 'grove', 'old growth, virgin forest', 'bosk'], 'children': ['bosk', 'old growth, virgin forest', 'grove', 'rain forest, rainforest', 'second growth', 'jungle']}, '52': {'wdid': 'n09359803', 'words_map': 'mountain, mount', 'clip_words_map': 'oak_tree', 'ancestors': ['natural elevation, elevation', 'geological formation, formation', 'object, physical object', 'physical entity'], 'descendants': ['volcano', 'seamount', 'guyot', 'ben', 'alp'], 'children': ['alp', 'ben', 'seamount', 'volcano']}, '53': {'wdid': 'n09393605', 'words_map': 'plain, field, champaign', 'clip_words_map': 'orange', 'ancestors': ['land, dry land, earth, ground, solid ground, terra firma', 'object, physical object', 'physical entity'], 'descendants': ['flat', 'salt flat, salt plain', 'alluvial flat, alluvial plain', 'moor, moorland', 'peneplain, peneplane', 'steppe', 'tundra', 'llano', 'snowfield', 'floodplain, flood plain'], 'children': ['floodplain, flood plain', 'snowfield', 'llano', 'tundra', 'steppe', 'peneplain, peneplane', 'moor, moorland', 'flat']}, '54': {'wdid': 'n09426788', 'words_map': 'sea', 'clip_words_map': 'orchid', 'ancestors': ['body of water, water', 'thing', 'physical entity'], 'descendants': ['South Sea'], 'children': ['South Sea']}, '55': {'wdid': 'n02437136', 'words_map': 'camel', 'clip_words_map': 'otter', 'ancestors': ['even-toed ungulate, artiodactyl, artiodactyl mammal', 'ungulate, hoofed mammal', 'placental, placental mammal, eutherian, eutherian mammal', 'mammal, mammalian', 'vertebrate, craniate', 'chordate', 'animal, animate being, beast, brute, creature, fauna', 'organism, being', 'living thing, animate thing', 'whole, unit', 'object, physical object', 'physical entity'], 'descendants': ['Arabian camel, dromedary, Camelus dromedarius', 'Bactrian camel, Camelus bactrianus'], 'children': ['Bactrian camel, Camelus bactrianus', 'Arabian camel, dromedary, Camelus dromedarius']}, '56': {'wdid': 'n02402425', 'words_map': 'cattle, cows, kine, oxen, Bos taurus', 'clip_words_map': 'palm_tree', 'ancestors': ['bovine', 'bovid', 'ruminant', 'even-toed ungulate, artiodactyl, artiodactyl mammal', 'ungulate, hoofed mammal', 'placental, placental mammal, eutherian, eutherian mammal', 'mammal, mammalian', 'vertebrate, craniate', 'chordate', 'animal, animate being, beast, brute, creature, fauna', 'organism, being', 'living thing, animate thing', 'whole, unit', 'object, physical object', 'physical entity'], 'descendants': ['dairy cattle, dairy cow, milch cow, milk cow, milcher, milker', 'Friesian, Holstein, Holstein-Friesian', 'Ayrshire', 'Jersey', 'Brown Swiss', 'Guernsey', 'milking shorthorn', 'beef, beef cattle', 'Aberdeen Angus, Angus, black Angus', 'longhorn, Texas longhorn', 'cattalo, beefalo', 'Durham, shorthorn', 'Hereford, whiteface', 'Charolais', 'Santa Gertrudis', 'Galloway', 'Africander', 'grade', 'Welsh, Welsh Black', 'cow, moo-cow', 'heifer', 'springer, springing cow', 'ox', 'Devon', 'red poll', 'bull', 'bullock', 'stirk', 'bullock, steer'], 'children': ['bullock, steer', 'stirk', 'bull', 'red poll', 'Devon', 'ox', 'cow, moo-cow', 'Welsh, Welsh Black', 'grade', 'Africander', 'beef, beef cattle', 'dairy cattle, dairy cow, milch cow, milk cow, milcher, milker']}, '57': {'wdid': 'n02481823', 'words_map': 'chimpanzee, chimp, Pan troglodytes', 'clip_words_map': 'pear', 'ancestors': ['great ape, pongid', 'anthropoid ape', 'ape', 'primate', 'placental, placental mammal, eutherian, eutherian mammal', 'mammal, mammalian', 'vertebrate, craniate', 'chordate', 'animal, animate being, beast, brute, creature, fauna', 'organism, being', 'living thing, animate thing', 'whole, unit', 'object, physical object', 'physical entity'], 'descendants': ['eastern chimpanzee, Pan troglodytes schweinfurthii', 'western chimpanzee, Pan troglodytes verus', 'pygmy chimpanzee, bonobo, Pan paniscus', 'central chimpanzee, Pan troglodytes troglodytes'], 'children': ['central chimpanzee, Pan troglodytes troglodytes', 'pygmy chimpanzee, bonobo, Pan paniscus', 'western chimpanzee, Pan troglodytes verus', 'eastern chimpanzee, Pan troglodytes schweinfurthii']}, '58': {'wdid': 'n02503517', 'words_map': 'elephant', 'clip_words_map': 'pickup_truck', 'ancestors': ['proboscidean, proboscidian', 'placental, placental mammal, eutherian, eutherian mammal', 'mammal, mammalian', 'vertebrate, craniate', 'chordate', 'animal, animate being, beast, brute, creature, fauna', 'organism, being', 'living thing, animate thing', 'whole, unit', 'object, physical object', 'physical entity'], 'descendants': ['Indian elephant, Elephas maximus', 'white elephant', 'rogue elephant', 'mammoth', 'woolly mammoth, northern mammoth, Mammuthus primigenius', 'columbian mammoth, Mammuthus columbi', 'imperial mammoth, imperial elephant, Archidiskidon imperator', 'gomphothere', 'African elephant, Loxodonta africana'], 'children': ['African elephant, Loxodonta africana', 'gomphothere', 'mammoth', 'rogue elephant', 'Indian elephant, Elephas maximus']}, '59': {'wdid': 'n01877134', 'words_map': 'kangaroo', 'clip_words_map': 'pine_tree', 'ancestors': ['marsupial, pouched mammal', 'metatherian', 'mammal, mammalian', 'vertebrate, craniate', 'chordate', 'animal, animate being, beast, brute, creature, fauna', 'organism, being', 'living thing, animate thing', 'whole, unit', 'object, physical object', 'physical entity'], 'descendants': ['musk kangaroo, Hypsiprymnodon moschatus', 'rat kangaroo, kangaroo rat', 'potoroo', 'bettong', 'jerboa kangaroo, kangaroo jerboa', 'wallaby, brush kangaroo', 'pademelon, paddymelon', 'hare wallaby, kangaroo hare', 'tree wallaby, tree kangaroo', 'common wallaby, Macropus agiles', 'nail-tailed wallaby, nail-tailed kangaroo', 'rock wallaby, rock kangaroo', 'giant kangaroo, great grey kangaroo, Macropus giganteus'], 'children': ['giant kangaroo, great grey kangaroo, Macropus giganteus', 'wallaby, brush kangaroo', 'rat kangaroo, kangaroo rat', 'musk kangaroo, Hypsiprymnodon moschatus']}, '60': {'wdid': 'n02118333', 'words_map': 'fox', 'clip_words_map': 'plain', 'ancestors': ['canine, canid', 'carnivore', 'placental, placental mammal, eutherian, eutherian mammal', 'mammal, mammalian', 'vertebrate, craniate', 'chordate', 'animal, animate being, beast, brute, creature, fauna', 'organism, being', 'living thing, animate thing', 'whole, unit', 'object, physical object', 'physical entity'], 'descendants': ['Reynard', 'kit fox, prairie fox, Vulpes velox', 'Arctic fox, white fox, Alopex lagopus', 'blue fox', 'vixen', 'grey fox, gray fox, Urocyon cinereoargenteus', 'red fox, Vulpes vulpes', 'black fox', 'silver fox', 'red fox, Vulpes fulva', 'kit fox, Vulpes macrotis'], 'children': ['kit fox, Vulpes macrotis', 'red fox, Vulpes fulva', 'red fox, Vulpes vulpes', 'grey fox, gray fox, Urocyon cinereoargenteus', 'vixen', 'Arctic fox, white fox, Alopex lagopus', 'kit fox, prairie fox, Vulpes velox', 'Reynard']}, '61': {'wdid': 'n02346627', 'words_map': 'porcupine, hedgehog', 'clip_words_map': 'plate', 'ancestors': ['rodent, gnawer', 'placental, placental mammal, eutherian, eutherian mammal', 'mammal, mammalian', 'vertebrate, craniate', 'chordate', 'animal, animate being, beast, brute, creature, fauna', 'organism, being', 'living thing, animate thing', 'whole, unit', 'object, physical object', 'physical entity'], 'descendants': ['New World porcupine', 'Canada porcupine, Erethizon dorsatum', 'Old World porcupine', 'brush-tailed porcupine, brush-tail porcupine', 'long-tailed porcupine, Trichys lipura'], 'children': ['Old World porcupine', 'New World porcupine']}, '62': {'wdid': 'n01874928', 'words_map': 'opossum, possum', 'clip_words_map': 'poppy', 'ancestors': ['marsupial, pouched mammal', 'metatherian', 'mammal, mammalian', 'vertebrate, craniate', 'chordate', 'animal, animate being, beast, brute, creature, fauna', 'organism, being', 'living thing, animate thing', 'whole, unit', 'object, physical object', 'physical entity'], 'descendants': ['crab-eating opossum', 'common opossum, Didelphis virginiana, Didelphis marsupialis'], 'children': ['common opossum, Didelphis virginiana, Didelphis marsupialis', 'crab-eating opossum']}, '63': {'wdid': 'n02508021', 'words_map': 'raccoon, racoon', 'clip_words_map': 'porcupine', 'ancestors': ['procyonid', 'carnivore', 'placental, placental mammal, eutherian, eutherian mammal', 'mammal, mammalian', 'vertebrate, craniate', 'chordate', 'animal, animate being, beast, brute, creature, fauna', 'organism, being', 'living thing, animate thing', 'whole, unit', 'object, physical object', 'physical entity'], 'descendants': ['crab-eating raccoon, Procyon cancrivorus', 'common raccoon, common racoon, coon, ringtail, Procyon lotor'], 'children': ['common raccoon, common racoon, coon, ringtail, Procyon lotor', 'crab-eating raccoon, Procyon cancrivorus']}, '64': {'wdid': 'n02445715', 'words_map': 'skunk, polecat, wood pussy', 'clip_words_map': 'possum', 'ancestors': ['musteline mammal, mustelid, musteline', 'carnivore', 'placental, placental mammal, eutherian, eutherian mammal', 'mammal, mammalian', 'vertebrate, craniate', 'chordate', 'animal, animate being, beast, brute, creature, fauna', 'organism, being', 'living thing, animate thing', 'whole, unit', 'object, physical object', 'physical entity'], 'descendants': ['striped skunk, Mephitis mephitis', 'hooded skunk, Mephitis macroura', 'hog-nosed skunk, hognosed skunk, badger skunk, rooter skunk, Conepatus leuconotus', 'spotted skunk, little spotted skunk, Spilogale putorius'], 'children': ['spotted skunk, little spotted skunk, Spilogale putorius', 'hog-nosed skunk, hognosed skunk, badger skunk, rooter skunk, Conepatus leuconotus', 'hooded skunk, Mephitis macroura', 'striped skunk, Mephitis mephitis']}, '65': {'wdid': 'n01976957', 'words_map': 'crab', 'clip_words_map': 'rabbit', 'ancestors': ['decapod crustacean, decapod', 'crustacean', 'arthropod', 'invertebrate', 'animal, animate being, beast, brute, creature, fauna', 'organism, being', 'living thing, animate thing', 'whole, unit', 'object, physical object', 'physical entity'], 'descendants': ['spider crab', 'giant crab, Macrocheira kaempferi', 'European spider crab, king crab, Maja squinado', 'king crab, Alaska crab, Alaskan king crab, Alaska king crab, Paralithodes camtschatica', 'pea crab', 'oyster crab, Pinnotheres ostreum', 'fiddler crab', 'swimming crab', 'blue crab, Callinectes sapidus', 'American lady crab, lady crab, calico crab, Ovalipes ocellatus', 'English lady crab, Portunus puber', 'Jonah crab, Cancer borealis', 'rock crab, Cancer irroratus', 'Dungeness crab, Cancer magister', 'soft-shell crab, soft-shelled crab', 'hard-shell crab', 'stone crab, Menippe mercenaria'], 'children': ['stone crab, Menippe mercenaria', 'hard-shell crab', 'soft-shell crab, soft-shelled crab', 'Dungeness crab, Cancer magister', 'rock crab, Cancer irroratus', 'Jonah crab, Cancer borealis', 'swimming crab', 'fiddler crab', 'pea crab', 'king crab, Alaska crab, Alaskan king crab, Alaska king crab, Paralithodes camtschatica', 'spider crab']}, '66': {'wdid': 'n01982650', 'words_map': 'lobster', 'clip_words_map': 'raccoon', 'ancestors': ['decapod crustacean, decapod', 'crustacean', 'arthropod', 'invertebrate', 'animal, animate being, beast, brute, creature, fauna', 'organism, being', 'living thing, animate thing', 'whole, unit', 'object, physical object', 'physical entity'], 'descendants': ['spiny lobster, langouste, rock lobster, crawfish, crayfish, sea crawfish', 'Norway lobster, Nephrops norvegicus', 'true lobster', 'Cape lobster, Homarus capensis', 'European lobster, Homarus vulgaris', 'American lobster, Northern lobster, Maine lobster, Homarus americanus'], 'children': ['true lobster', 'Norway lobster, Nephrops norvegicus', 'spiny lobster, langouste, rock lobster, crawfish, crayfish, sea crawfish']}, '67': {'wdid': 'n01944390', 'words_map': 'snail', 'clip_words_map': 'ray', 'ancestors': ['gastropod, univalve', 'mollusk, mollusc, shellfish', 'invertebrate', 'animal, animate being, beast, brute, creature, fauna', 'organism, being', 'living thing, animate thing', 'whole, unit', 'object, physical object', 'physical entity'], 'descendants': ['garden snail', 'Helix hortensis', 'brown snail, Helix aspersa', 'edible snail, Helix pomatia', 'scorpion shell'], 'children': ['scorpion shell', 'edible snail, Helix pomatia', 'garden snail']}, '68': {'wdid': 'n01772222', 'words_map': 'spider', 'clip_words_map': 'road', 'ancestors': ['arachnid, arachnoid', 'arthropod', 'invertebrate', 'animal, animate being, beast, brute, creature, fauna', 'organism, being', 'living thing, animate thing', 'whole, unit', 'object, physical object', 'physical entity'], 'descendants': ['trap-door spider', 'wolf spider, hunting spider', 'European wolf spider, tarantula, Lycosa tarentula', 'tarantula', 'black widow, Latrodectus mactans', 'comb-footed spider, theridiid', 'garden spider, Aranea diademata', 'barn spider, Araneus cavaticus', 'black and gold garden spider, Argiope aurantia', 'orb-weaving spider'], 'children': ['orb-weaving spider', 'black and gold garden spider, Argiope aurantia', 'barn spider, Araneus cavaticus', 'garden spider, Aranea diademata', 'comb-footed spider, theridiid', 'black widow, Latrodectus mactans', 'tarantula', 'wolf spider, hunting spider', 'trap-door spider']}, '69': {'wdid': 'n01922303', 'words_map': 'worm', 'clip_words_map': 'rocket', 'ancestors': ['invertebrate', 'animal, animate being, beast, brute, creature, fauna', 'organism, being', 'living thing, animate thing', 'whole, unit', 'object, physical object', 'physical entity'], 'descendants': ['annelid, annelid worm, segmented worm', 'leech, bloodsucker, hirudinean', 'horseleech', 'medicinal leech, Hirudo medicinalis', 'polychaete, polychete, polychaete worm, polychete worm', 'bloodworm', 'sea mouse', 'lugworm, lug, lobworm', 'oligochaete, oligochaete worm', 'earthworm, angleworm, fishworm, fishing worm, wiggler, nightwalker, nightcrawler, crawler, dew worm, red worm', 'archiannelid', 'nematode, nematode worm, roundworm', 'Guinea worm, Dracunculus medinensis', 'filaria', 'hookworm', 'trichina, Trichinella spiralis', 'wheatworm, wheat eel, wheat eelworm, Tylenchus tritici', 'eelworm', 'vinegar eel, vinegar worm, Anguillula aceti, Turbatrix aceti', 'pinworm, threadworm, Enterobius vermicularis', 'chicken roundworm, Ascaridia galli', 'common roundworm, Ascaris lumbricoides', 'beard worm, pogonophoran', 'ribbon worm, nemertean, nemertine, proboscis worm', 'flatworm, platyhelminth', 'tapeworm, cestode', 'taenia', 'echinococcus', 'fluke, trematode, trematode worm', 'schistosome, blood fluke', 'Fasciolopsis buski', 'liver fluke, Fasciola hepatica', 'planarian, planaria', 'arrowworm, chaetognath', 'sagitta', 'acanthocephalan, spiny-headed worm', 'woodworm', 'helminth, parasitic worm'], 'children': ['helminth, parasitic worm', 'woodworm', 'acanthocephalan, spiny-headed worm', 'arrowworm, chaetognath', 'flatworm, platyhelminth', 'ribbon worm, nemertean, nemertine, proboscis worm', 'beard worm, pogonophoran', 'nematode, nematode worm, roundworm', 'annelid, annelid worm, segmented worm']}, '70': {'wdid': 'n09827683', 'words_map': 'baby, babe, infant', 'clip_words_map': 'rose', 'ancestors': ['child, kid', 'offspring, progeny, issue', 'relative, relation', 'person, individual, someone, somebody, mortal, soul', 'causal agent, cause, causal agency', 'physical entity'], 'descendants': ['test-tube baby', 'nursling, nurseling, suckling', 'papoose, pappoose', 'cherub', 'neonate, newborn, newborn infant, newborn baby', 'term infant', 'stillborn infant', 'low-birth-weight baby, low-birth-weight infant', 'liveborn infant', 'small-for-gestational-age infant, SGA infant', 'premature baby, preterm baby, premature infant, preterm infant, preemie, premie', 'postmature infant', 'blue baby', 'war baby', 'foundling, abandoned infant', 'godchild', 'godson', 'goddaughter'], 'children': ['godchild', 'foundling, abandoned infant', 'war baby', 'blue baby', 'neonate, newborn, newborn infant, newborn baby', 'cherub', 'papoose, pappoose', 'nursling, nurseling, suckling', 'test-tube baby']}, '71': {'wdid': 'n09870926', 'words_map': 'boy', 'clip_words_map': 'sea', 'ancestors': ['man, adult male', 'adult, grownup', 'person, individual, someone, somebody, mortal, soul', 'causal agent, cause, causal agency', 'physical entity'], 'descendants': ['broth of a boy, broth of a man', 'one of the boys'], 'children': ['one of the boys', 'broth of a boy, broth of a man']}, '72': {'wdid': 'n10129825', 'words_map': 'girl, miss, missy, young lady, young woman, fille', 'clip_words_map': 'seal', 'ancestors': ['woman, adult female', 'adult, grownup', 'person, individual, someone, somebody, mortal, soul', 'causal agent, cause, causal agency', 'physical entity'], 'descendants': ['tomboy, romp, hoyden', 'party girl', 'colleen', 'gamine', 'Gibson girl', 'baby, babe, sister', 'dame, doll, wench, skirt, chick, bird', 'valley girl', 'May queen, queen of the May', 'mill-girl', 'working girl', 'rosebud', 'maid, maiden', 'damsel, demoiselle, damoiselle, damosel, damozel', 'sex kitten, sexpot, sex bomb', 'sweater girl', 'gal', 'flapper', 'shop girl', 'soubrette', 'chachka, tsatske, tshatshke, tchotchke, tchotchkeleh', 'belle', 'ring girl', 'bimbo', 'chit', 'peri', 'lass, lassie, young girl, jeune fille', 'bobbysoxer, bobby-socker', 'Lolita'], 'children': ['lass, lassie, young girl, jeune fille', 'peri', 'chit', 'bimbo', 'ring girl', 'belle', 'chachka, tsatske, tshatshke, tchotchke, tchotchkeleh', 'soubrette', 'shop girl', 'flapper', 'gal', 'sweater girl', 'sex kitten, sexpot, sex bomb', 'maid, maiden', 'rosebud', 'working girl', 'mill-girl', 'May queen, queen of the May', 'valley girl', 'dame, doll, wench, skirt, chick, bird', 'baby, babe, sister', 'Gibson girl', 'gamine', 'colleen', 'party girl', 'tomboy, romp, hoyden']}, '73': {'wdid': 'n10287213', 'words_map': 'man, adult male', 'clip_words_map': 'shark', 'ancestors': ['adult, grownup', 'person, individual, someone, somebody, mortal, soul', 'causal agent, cause, causal agency', 'physical entity'], 'descendants': ['Black man', 'soul brother', 'boy', 'ironside', 'Senhor', 'old man, greybeard, graybeard, Methuselah', 'patriarch', 'codger, old codger', 'old-timer, oldtimer, gaffer, old geezer, antique', 'fellow, dude, buster', 'Herr', 'Hooray Henry', 'posseman', 'dandy, dude, fop, gallant, sheik, beau, swell, fashion plate, clotheshorse', 'macaroni', 'coxcomb, cockscomb', 'babu, baboo', 'hunk', 'Monsieur', 'boy', 'broth of a boy, broth of a man', 'one of the boys', 'gentleman', 'Don', 'gent', 'gentleman-at-arms', 'inamorato', 'yellow man', 'eunuch, castrate', 'grass widower, divorced man', 'ex-boyfriend', 'galoot', 'womanizer, womaniser, philanderer', 'Lothario', 'Casanova', 'Don Juan', 'wolf, woman chaser, skirt chaser, masher', 'Esquire, Esq', 'signore', 'patriarch, paterfamilias', 'adonis', 'father figure, father surrogate', 'stepfather', 'foster-father, foster father', 'ex-husband, ex', 'guy, cat, hombre, bozo', 'sod', 'geezer', 'boyfriend, fellow, beau, swain, young man', 'widower, widowman', 'sir', 'bull, bruiser, strapper, Samson', 'signor, signior', 'white man', 'squaw man', \"good old boy, good ole boy, good ol' boy\", 'ejaculator', 'Tarzan', 'father-figure', 'iron man, ironman', 'stud, he-man, macho-man', 'bey', 'housefather', 'middle-aged man', 'dirty old man', 'young buck, young man', 'bachelor, unmarried man', 'stiff', 'shaver', 'old boy, old man', 'Peter Pan', 'ponce', 'wonder boy, golden boy'], 'children': ['wonder boy, golden boy', 'ponce', 'Peter Pan', 'old boy, old man', 'shaver', 'stiff', 'bachelor, unmarried man', 'young buck, young man', 'middle-aged man', 'housefather', 'bey', 'stud, he-man, macho-man', 'iron man, ironman', 'father-figure', 'Tarzan', 'ejaculator', 'white man', 'signor, signior', 'bull, bruiser, strapper, Samson', 'sir', 'widower, widowman', 'boyfriend, fellow, beau, swain, young man', 'geezer', 'guy, cat, hombre, bozo', 'ex-husband, ex', 'father figure, father surrogate', 'adonis', 'patriarch, paterfamilias', 'signore', 'Esquire, Esq', 'womanizer, womaniser, philanderer', 'galoot', 'ex-boyfriend', 'grass widower, divorced man', 'eunuch, castrate', 'yellow man', 'inamorato', 'gentleman', 'boy', 'Monsieur', 'hunk', 'babu, baboo', 'dandy, dude, fop, gallant, sheik, beau, swell, fashion plate, clotheshorse', 'posseman', 'Hooray Henry', 'Herr', 'fellow, dude, buster', 'old man, greybeard, graybeard, Methuselah', 'Senhor', 'ironside', 'Black man']}, '74': {'wdid': 'n10787470', 'words_map': 'woman, adult female', 'clip_words_map': 'shrew', 'ancestors': ['adult, grownup', 'person, individual, someone, somebody, mortal, soul', 'causal agent, cause, causal agency', 'physical entity'], 'descendants': [\"dame, madam, ma'am, lady, gentlewoman\", 'grande dame', 'madame', 'shiksa, shikse', 'girlfriend', 'nullipara', 'bridesmaid, maid of honor', 'maenad', 'maenad', 'mestiza', 'nymph, houri', 'cat', 'ball-buster, ball-breaker', 'amazon, virago', 'gold digger', 'Cinderella', 'debutante, deb', 'vestal', 'divorcee, grass widow', 'Wac', 'matriarch, materfamilias', 'B-girl, bar girl', 'nymphet', 'sylph', 'enchantress, temptress, siren, Delilah, femme fatale', 'Black woman', 'jezebel', 'white woman', 'yellow woman', 'mother figure', 'mistress, kept woman, fancy woman', 'concubine, courtesan, doxy, paramour', 'odalisque', 'wife, married woman', 'vicereine', 'sheika, sheikha', 'signora', 'missus, missis', 'battle-ax, battle-axe', 'uxor, ux.', 'first lady', 'mayoress', 'crown princess', 'marchioness', 'housewife, homemaker, lady of the house, woman of the house', 'viscountess', 'golf widow', 'honest woman', 'matron', 'old lady', 'trophy wife', 'jilt', 'gravida', 'primigravida, gravida I', 'tertigravida, gravida III', 'secundigravida, gravida II', 'bluestocking, bas bleu', 'widow, widow woman', 'war widow', 'dowager', 'baggage', 'Wave', 'girlfriend, girl, lady friend', 'unmarried woman', 'spinster, old maid', 'signorina', 'inamorata', 'ex-wife, ex', 'broad', 'wonder woman', 'girl, miss, missy, young lady, young woman, fille', 'tomboy, romp, hoyden', 'party girl', 'colleen', 'gamine', 'Gibson girl', 'baby, babe, sister', 'dame, doll, wench, skirt, chick, bird', 'valley girl', 'May queen, queen of the May', 'mill-girl', 'working girl', 'rosebud', 'maid, maiden', 'damsel, demoiselle, damoiselle, damosel, damozel', 'sex kitten, sexpot, sex bomb', 'sweater girl', 'gal', 'flapper', 'shop girl', 'soubrette', 'chachka, tsatske, tshatshke, tchotchke, tchotchkeleh', 'belle', 'ring girl', 'bimbo', 'chit', 'peri', 'lass, lassie, young girl, jeune fille', 'bobbysoxer, bobby-socker', 'Lolita', 'old woman', 'granny', 'beldam, beldame', 'hag, beldam, beldame, witch, crone', 'mother', 'coquette, flirt, vamp, vamper, minx, tease, prickteaser', 'nanny, nursemaid, nurse', 'wet nurse, wet-nurse, wetnurse, amah', 'mammy', 'dry nurse', 'matriarch', 'heroine', 'donna', 'girl', 'lady', 'begum', 'prostitute, cocotte, whore, harlot, bawd, tart, cyprian, fancy woman, working girl, sporting lady, lady of pleasure, woman of the street', 'white slave', 'streetwalker, street girl, hooker, hustler, floozy, floozie, slattern', 'comfort woman, ianfu', 'camp follower', 'demimondaine', 'call girl', 'eyeful', 'geisha, geisha girl', 'matron', 'smasher, stunner, knockout, beauty, ravisher, sweetheart, peach, lulu, looker, mantrap, dish', 'bachelor girl, bachelorette', 'dominatrix'], 'children': ['dominatrix', 'bachelor girl, bachelorette', 'smasher, stunner, knockout, beauty, ravisher, sweetheart, peach, lulu, looker, mantrap, dish', 'matron', 'geisha, geisha girl', 'eyeful', 'prostitute, cocotte, whore, harlot, bawd, tart, cyprian, fancy woman, working girl, sporting lady, lady of pleasure, woman of the street', 'lady', 'girl', 'donna', 'heroine', 'matriarch', 'nanny, nursemaid, nurse', 'coquette, flirt, vamp, vamper, minx, tease, prickteaser', 'old woman', 'girl, miss, missy, young lady, young woman, fille', 'wonder woman', 'broad', 'ex-wife, ex', 'inamorata', 'unmarried woman', 'girlfriend, girl, lady friend', 'Wave', 'baggage', 'widow, widow woman', 'bluestocking, bas bleu', 'gravida', 'jilt', 'wife, married woman', 'mistress, kept woman, fancy woman', 'mother figure', 'yellow woman', 'white woman', 'jezebel', 'Black woman', 'enchantress, temptress, siren, Delilah, femme fatale', 'sylph', 'nymphet', 'B-girl, bar girl', 'matriarch, materfamilias', 'Wac', 'divorcee, grass widow', 'vestal', 'debutante, deb', 'Cinderella', 'gold digger', 'amazon, virago', 'ball-buster, ball-breaker', 'cat', 'nymph, houri', 'mestiza', 'maenad', 'maenad', 'bridesmaid, maid of honor', 'nullipara', 'girlfriend', 'shiksa, shikse', \"dame, madam, ma'am, lady, gentlewoman\"]}, '75': {'wdid': 'n01697178', 'words_map': 'crocodile', 'clip_words_map': 'skunk', 'ancestors': ['crocodilian reptile, crocodilian', 'diapsid, diapsid reptile', 'reptile, reptilian', 'vertebrate, craniate', 'chordate', 'animal, animate being, beast, brute, creature, fauna', 'organism, being', 'living thing, animate thing', 'whole, unit', 'object, physical object', 'physical entity'], 'descendants': [\"Morlett's crocodile\", 'Asian crocodile, Crocodylus porosus', 'African crocodile, Nile crocodile, Crocodylus niloticus'], 'children': ['African crocodile, Nile crocodile, Crocodylus niloticus', 'Asian crocodile, Crocodylus porosus', \"Morlett's crocodile\"]}, '76': {'wdid': 'n01699831', 'words_map': 'dinosaur', 'clip_words_map': 'skyscraper', 'ancestors': ['archosaur, archosaurian, archosaurian reptile', 'diapsid, diapsid reptile', 'reptile, reptilian', 'vertebrate, craniate', 'chordate', 'animal, animate being, beast, brute, creature, fauna', 'organism, being', 'living thing, animate thing', 'whole, unit', 'object, physical object', 'physical entity'], 'descendants': ['ground-shaker, seismosaur', 'argentinosaur', 'titanosaur, titanosaurian', 'genus Argentinosaurus', 'diplodocus', 'saurischian, saurischian dinosaur', 'theropod, theropod dinosaur, bird-footed dinosaur', 'maniraptor', 'Mononychus olecranus', 'utahraptor, superslasher', 'deinonychus', 'dromaeosaur', 'velociraptor', 'oviraptorid', 'ornithomimid', 'deinocheirus', 'struthiomimus', 'megalosaur, megalosaurus', 'eoraptor', 'herrerasaur, herrerasaurus', 'compsognathus', 'allosaur, allosaurus', 'tyrannosaur, tyrannosaurus, Tyrannosaurus rex', 'carnosaur', 'ceratosaur, ceratosaurus', 'coelophysis', 'sauropod, sauropod dinosaur', 'barosaur, barosaurus', 'apatosaur, apatosaurus, brontosaur, brontosaurus, thunder lizard, Apatosaurus excelsus', 'iguanodon', 'ornithischian, ornithischian dinosaur', 'hadrosaur, hadrosaurus, duck-billed dinosaur', 'trachodon, trachodont', 'edmontosaurus', 'corythosaur, corythosaurus', 'anatotitan', 'ornithopod, ornithopod dinosaur', 'ceratopsian, horned dinosaur', 'psittacosaur, psittacosaurus', 'styracosaur, styracosaurus', 'triceratops', 'protoceratops', 'bone-headed dinosaur', 'pachycephalosaur, pachycephalosaurus', 'armored dinosaur', 'ankylosaur, ankylosaurus', 'Edmontonia', 'stegosaur, stegosaurus, Stegosaur stenops', 'staurikosaur, staurikosaurus', 'pisanosaur, pisanosaurus'], 'children': ['ornithischian, ornithischian dinosaur', 'iguanodon', 'saurischian, saurischian dinosaur', 'diplodocus', 'titanosaur, titanosaurian', 'argentinosaur', 'ground-shaker, seismosaur']}, '77': {'wdid': 'n01674464', 'words_map': 'lizard', 'clip_words_map': 'snail', 'ancestors': ['saurian', 'diapsid, diapsid reptile', 'reptile, reptilian', 'vertebrate, craniate', 'chordate', 'animal, animate being, beast, brute, creature, fauna', 'organism, being', 'living thing, animate thing', 'whole, unit', 'object, physical object', 'physical entity'], 'descendants': ['monitor, monitor lizard, varan', 'Komodo dragon, Komodo lizard, dragon lizard, giant lizard, Varanus komodoensis', 'African monitor, Varanus niloticus', 'chameleon, chamaeleon', 'horned chameleon, Chamaeleo oweni', 'African chameleon, Chamaeleo chamaeleon', 'lacertid lizard, lacertid', 'green lizard, Lacerta viridis', 'sand lizard, Lacerta agilis', 'venomous lizard', 'beaded lizard, Mexican beaded lizard, Heloderma horridum', 'Gila monster, Heloderma suspectum', 'Lanthanotus borneensis', 'legless lizard', 'anguid lizard', 'glass lizard, glass snake, joint snake', 'blindworm, slowworm, Anguis fragilis', 'alligator lizard', 'agamid, agamid lizard', 'moloch', 'mountain devil, spiny lizard, Moloch horridus', 'dragon, flying dragon, flying lizard', 'frilled lizard, Chlamydosaurus kingi', 'agama', 'teiid lizard, teiid', 'caiman lizard', 'teju', 'whiptail, whiptail lizard', 'checkered whiptail, Cnemidophorus tesselatus', 'western whiptail, Cnemidophorus tigris', 'Chihuahuan spotted whiptail, Cnemidophorus exsanguis', 'plateau striped whiptail, Cnemidophorus velox', 'racerunner, race runner, six-lined racerunner, Cnemidophorus sexlineatus', 'skink, scincid, scincid lizard', 'mountain skink, Eumeces callicephalus', 'western skink, Eumeces skiltonianus', 'night lizard', 'worm lizard', 'iguanid, iguanid lizard', 'American chameleon, anole, Anolis carolinensis', 'basilisk', 'horned lizard, horned toad, horny frog', 'Texas horned lizard, Phrynosoma cornutum', 'tree lizard, Urosaurus ornatus', 'side-blotched lizard, sand lizard, Uta stansburiana', 'spiny lizard', 'sagebrush lizard, Sceloporus graciosus', 'fence lizard', 'eastern fence lizard, pine lizard, Sceloporus undulatus', 'western fence lizard, swift, blue-belly, Sceloporus occidentalis', 'leopard lizard', 'collared lizard', 'earless lizard', 'fringe-toed lizard, Uma notata', 'zebra-tailed lizard, gridiron-tailed lizard, Callisaurus draconoides', 'chuckwalla, Sauromalus obesus', 'desert iguana, Dipsosaurus dorsalis', 'marine iguana, Amblyrhynchus cristatus', 'common iguana, iguana, Iguana iguana', 'gecko', 'banded gecko', 'flying gecko, fringed gecko, Ptychozoon homalocephalum'], 'children': ['gecko', 'iguanid, iguanid lizard', 'worm lizard', 'night lizard', 'skink, scincid, scincid lizard', 'teiid lizard, teiid', 'agamid, agamid lizard', 'anguid lizard', 'legless lizard', 'Lanthanotus borneensis', 'venomous lizard', 'lacertid lizard, lacertid', 'chameleon, chamaeleon', 'monitor, monitor lizard, varan']}, '78': {'wdid': 'n01726692', 'words_map': 'snake, serpent, ophidian', 'clip_words_map': 'snake', 'ancestors': ['diapsid, diapsid reptile', 'reptile, reptilian', 'vertebrate, craniate', 'chordate', 'animal, animate being, beast, brute, creature, fauna', 'organism, being', 'living thing, animate thing', 'whole, unit', 'object, physical object', 'physical entity'], 'descendants': ['viper', 'pit viper', 'fer-de-lance, Bothrops atrops', 'rattlesnake, rattler', 'ground rattler, massasauga, Sistrurus miliaris', 'massasauga, massasauga rattler, Sistrurus catenatus', 'speckled rattlesnake, Crotalus mitchellii', 'Mojave rattlesnake, Crotalus scutulatus', 'tiger rattlesnake, Crotalus tigris', 'rock rattlesnake, Crotalus lepidus', 'Western diamondback, Western diamondback rattlesnake, Crotalus atrox', 'sidewinder, horned rattlesnake, Crotalus cerastes', 'prairie rattlesnake, prairie rattler, Western rattlesnake, Crotalus viridis', 'timber rattlesnake, banded rattlesnake, Crotalus horridus horridus', 'canebrake rattlesnake, canebrake rattler, Crotalus horridus atricaudatus', 'diamondback, diamondback rattlesnake, Crotalus adamanteus', 'water moccasin, cottonmouth, cottonmouth moccasin, Agkistrodon piscivorus', 'copperhead, Agkistrodon contortrix', 'horned viper, cerastes, sand viper, horned asp, Cerastes cornutus', 'gaboon viper, Bitis gabonica', 'puff adder, Bitis arietans', 'asp, asp viper, Vipera aspis', 'adder, common viper, Vipera berus', 'sea snake', 'elapid, elapid snake', 'taipan, Oxyuranus scutellatus', 'krait', 'banded krait, banded adder, Bungarus fasciatus', 'Australian blacksnake, Pseudechis porphyriacus', 'tiger snake, Notechis scutatus', 'death adder, Acanthophis antarcticus', 'mamba', 'black mamba, Dendroaspis augusticeps', 'green mamba', 'ringhals, rinkhals, spitting snake, Hemachatus haemachatus', 'cobra', 'hamadryad, king cobra, Ophiophagus hannah, Naja hannah', 'black-necked cobra, spitting cobra, Naja nigricollis', 'asp, Egyptian cobra, Naja haje', 'Indian cobra, Naja naja', 'copperhead, Denisonia superba', 'coral snake, Old World coral snake', 'Australian coral snake, Rhynchoelaps australis', 'African coral snake, Aspidelaps lubricus', 'Asian coral snake', 'coral snake, harlequin-snake, New World coral snake', 'western coral snake, Micruroides euryxanthus', 'eastern coral snake, Micrurus fulvius', 'constrictor', 'boa', 'python', 'amethystine python', 'rock python, rock snake, Python sebae', 'Indian python, Python molurus', 'reticulated python, Python reticulatus', 'carpet snake, Python variegatus, Morelia spilotes variegatus', 'anaconda, Eunectes murinus', 'rosy boa, Lichanura trivirgata', 'rubber boa, tow-headed snake, Charina bottae', 'boa constrictor, Constrictor constrictor', 'blind snake, worm snake', 'western blind snake, Leptotyphlops humilis', 'colubrid snake, colubrid', 'indigo snake, gopher snake, Drymarchon corais', 'eastern indigo snake, Drymarchon corais couperi', 'night snake, Hypsiglena torquata', 'lyre snake', 'Sonoran lyre snake, Trimorphodon lambda', 'vine snake', 'black-headed snake', 'sand snake', 'banded sand snake, Chilomeniscus cinctus', 'red-bellied snake, Storeria occipitamaculata', 'water snake', 'grass snake, ring snake, ringed snake, Natrix natrix', 'viperine grass snake, Natrix maura', 'water moccasin', 'common water snake, banded water snake, Natrix sipedon, Nerodia sipedon', 'eastern ground snake, Potamophis striatula, Haldea striatula', 'ground snake, Sonora semiannulata', 'lined snake, Tropidoclonion lineatum', 'garter snake, grass snake', 'Western ribbon snake, Thamnophis proximus', 'ribbon snake, Thamnophis sauritus', 'common garter snake, Thamnophis sirtalis', 'king snake, kingsnake', 'milk snake, house snake, milk adder, checkered adder, Lampropeltis triangulum', 'common kingsnake, Lampropeltis getulus', 'bull snake, bull-snake', 'pine snake', 'gopher snake, Pituophis melanoleucus', 'glossy snake, Arizona elegans', 'rat snake', 'Indian rat snake, Ptyas mucosus', 'chicken snake', 'black rat snake, blacksnake, pilot blacksnake, mountain blacksnake, Elaphe obsoleta', 'corn snake, red rat snake, Elaphe guttata', 'whip-snake, whip snake, whipsnake', 'Sonoran whipsnake, Masticophis bilineatus', 'California whipsnake, striped racer, Masticophis lateralis', 'coachwhip, coachwhip snake, Masticophis flagellum', 'racer', 'horseshoe whipsnake, Coluber hippocrepis', 'blacksnake, black racer, Coluber constrictor', 'blue racer, Coluber constrictor flaviventris', 'green snake', 'green snake, grass snake', 'rough green snake, Opheodrys aestivus', 'smooth green snake, Opheodrys vernalis', 'leaf-nosed snake', 'hognose snake, puff adder, sand viper', 'ringneck snake, ring-necked snake, ring snake', 'thunder snake, worm snake, Carphophis amoenus', 'hoop snake'], 'children': ['colubrid snake, colubrid', 'blind snake, worm snake', 'constrictor', 'elapid, elapid snake', 'sea snake', 'viper']}, '79': {'wdid': 'n01662784', 'words_map': 'turtle', 'clip_words_map': 'spider', 'ancestors': ['chelonian, chelonian reptile', 'anapsid, anapsid reptile', 'reptile, reptilian', 'vertebrate, craniate', 'chordate', 'animal, animate being, beast, brute, creature, fauna', 'organism, being', 'living thing, animate thing', 'whole, unit', 'object, physical object', 'physical entity'], 'descendants': ['soft-shelled turtle, pancake turtle', 'smooth softshell, Trionyx muticus', 'spiny softshell, Trionyx spiniferus', 'tortoise', 'Texas tortoise', 'desert tortoise, Gopherus agassizii', 'gopher tortoise, gopher turtle, gopher, Gopherus polypemus', 'giant tortoise', 'European tortoise, Testudo graeca', 'painted turtle, painted terrapin, painted tortoise, Chrysemys picta', 'box turtle, box tortoise', 'Western box turtle, Terrapene ornata', 'cooter, river cooter, Pseudemys concinna', 'slider, yellow-bellied terrapin, Pseudemys scripta', 'red-bellied terrapin, red-bellied turtle, redbelly, Pseudemys rubriventris', 'terrapin', 'diamondback terrapin, Malaclemys centrata', 'mud turtle', 'musk turtle, stinkpot', 'snapping turtle', 'alligator snapping turtle, alligator snapper, Macroclemys temmincki', 'common snapping turtle, snapper, Chelydra serpentina', 'sea turtle, marine turtle', 'leatherback turtle, leatherback, leathery turtle, Dermochelys coriacea', 'hawksbill turtle, hawksbill, hawkbill, tortoiseshell turtle, Eretmochelys imbricata', 'ridley', 'Atlantic ridley, bastard ridley, bastard turtle, Lepidochelys kempii', 'Pacific ridley, olive ridley, Lepidochelys olivacea', 'green turtle, Chelonia mydas', 'loggerhead, loggerhead turtle, Caretta caretta'], 'children': ['sea turtle, marine turtle', 'snapping turtle', 'mud turtle', 'terrapin', 'red-bellied terrapin, red-bellied turtle, redbelly, Pseudemys rubriventris', 'slider, yellow-bellied terrapin, Pseudemys scripta', 'cooter, river cooter, Pseudemys concinna', 'box turtle, box tortoise', 'painted turtle, painted terrapin, painted tortoise, Chrysemys picta', 'tortoise', 'soft-shelled turtle, pancake turtle']}, '80': {'wdid': 'n02342885', 'words_map': 'hamster', 'clip_words_map': 'squirrel', 'ancestors': ['rodent, gnawer', 'placental, placental mammal, eutherian, eutherian mammal', 'mammal, mammalian', 'vertebrate, craniate', 'chordate', 'animal, animate being, beast, brute, creature, fauna', 'organism, being', 'living thing, animate thing', 'whole, unit', 'object, physical object', 'physical entity'], 'descendants': ['Eurasian hamster, Cricetus cricetus', 'golden hamster, Syrian hamster, Mesocricetus auratus'], 'children': ['golden hamster, Syrian hamster, Mesocricetus auratus', 'Eurasian hamster, Cricetus cricetus']}, '81': {'wdid': 'n02330245', 'words_map': 'mouse', 'clip_words_map': 'streetcar', 'ancestors': ['rodent, gnawer', 'placental, placental mammal, eutherian, eutherian mammal', 'mammal, mammalian', 'vertebrate, craniate', 'chordate', 'animal, animate being, beast, brute, creature, fauna', 'organism, being', 'living thing, animate thing', 'whole, unit', 'object, physical object', 'physical entity'], 'descendants': ['house mouse, Mus musculus', 'harvest mouse, Micromyx minutus', 'nude mouse', 'field mouse, fieldmouse', 'European wood mouse, Apodemus sylvaticus', 'wood mouse', 'pygmy mouse, Baiomys taylori', 'deer mouse, Peromyscus maniculatus', 'white-footed mouse, vesper mouse, Peromyscus leucopus', 'cactus mouse, Peromyscus eremicus', 'cotton mouse, Peromyscus gossypinus'], 'children': ['wood mouse', 'field mouse, fieldmouse', 'nude mouse', 'harvest mouse, Micromyx minutus', 'house mouse, Mus musculus']}, '82': {'wdid': 'n02324045', 'words_map': 'rabbit, coney, cony', 'clip_words_map': 'sunflower', 'ancestors': ['leporid, leporid mammal', 'lagomorph, gnawing mammal', 'placental, placental mammal, eutherian, eutherian mammal', 'mammal, mammalian', 'vertebrate, craniate', 'chordate', 'animal, animate being, beast, brute, creature, fauna', 'organism, being', 'living thing, animate thing', 'whole, unit', 'object, physical object', 'physical entity'], 'descendants': ['bunny, bunny rabbit', 'wood rabbit, cottontail, cottontail rabbit', 'marsh hare, swamp rabbit, Sylvilagus palustris', 'swamp rabbit, canecutter, swamp hare, Sylvilagus aquaticus', 'eastern cottontail, Sylvilagus floridanus', 'rabbit ears', 'Angora, Angora rabbit', 'Belgian hare, leporide', 'lapin', 'European rabbit, Old World rabbit, Oryctolagus cuniculus'], 'children': ['European rabbit, Old World rabbit, Oryctolagus cuniculus', 'lapin', 'Belgian hare, leporide', 'Angora, Angora rabbit', 'rabbit ears', 'wood rabbit, cottontail, cottontail rabbit', 'bunny, bunny rabbit']}, '83': {'wdid': 'n01891633', 'words_map': 'shrew, shrewmouse', 'clip_words_map': 'sweet_pepper', 'ancestors': ['insectivore', 'placental, placental mammal, eutherian, eutherian mammal', 'mammal, mammalian', 'vertebrate, craniate', 'chordate', 'animal, animate being, beast, brute, creature, fauna', 'organism, being', 'living thing, animate thing', 'whole, unit', 'object, physical object', 'physical entity'], 'descendants': ['least shrew, Cryptotis parva', 'masked shrew, Sorex cinereus', 'short-tailed shrew, Blarina brevicauda', 'water shrew', 'American water shrew, Sorex palustris', 'European water shrew, Neomys fodiens', 'Mediterranean water shrew, Neomys anomalus', 'common shrew, Sorex araneus'], 'children': ['common shrew, Sorex araneus', 'water shrew', 'short-tailed shrew, Blarina brevicauda', 'masked shrew, Sorex cinereus', 'least shrew, Cryptotis parva']}, '84': {'wdid': 'n14766189', 'words_map': 'squirrel', 'clip_words_map': 'table', 'ancestors': ['fur, pelt', 'animal skin', 'animal product', 'animal material', 'material, stuff', 'substance', 'part, portion, component part, component, constituent', 'relation', 'abstraction, abstract entity'], 'descendants': [], 'children': []}, '85': {'wdid': 'n12752205', 'words_map': 'maple', 'clip_words_map': 'tank', 'ancestors': ['angiospermous tree, flowering tree', 'tree', 'woody plant, ligneous plant', 'vascular plant, tracheophyte', 'plant, flora, plant life', 'organism, being', 'living thing, animate thing', 'whole, unit', 'object, physical object', 'physical entity'], 'descendants': ['Japanese maple, Acer palmatum', 'Japanese maple, full moon maple, Acer japonicum', 'pointed-leaf maple, Acer argutum', 'box elder, ash-leaved maple, Acer negundo', 'California box elder, Acer negundo Californicum', 'sycamore, great maple, scottish maple, Acer pseudoplatanus', 'Norway maple, Acer platanoides', 'hedge maple, field maple, Acer campestre', 'vine maple, Acer circinatum', 'mountain maple, mountain alder, Acer spicatum', 'dwarf maple, Rocky-mountain maple, Acer glabrum', 'Oregon maple, big-leaf maple, Acer macrophyllum', 'moosewood, moose-wood, striped maple, striped dogwood, goosefoot maple, Acer pennsylvanicum', 'red maple, scarlet maple, swamp maple, Acer rubrum', 'sugar maple, rock maple, Acer saccharum', 'silver maple, Acer saccharinum'], 'children': ['silver maple, Acer saccharinum', 'sugar maple, rock maple, Acer saccharum', 'red maple, scarlet maple, swamp maple, Acer rubrum', 'moosewood, moose-wood, striped maple, striped dogwood, goosefoot maple, Acer pennsylvanicum', 'Oregon maple, big-leaf maple, Acer macrophyllum', 'dwarf maple, Rocky-mountain maple, Acer glabrum', 'mountain maple, mountain alder, Acer spicatum', 'vine maple, Acer circinatum', 'hedge maple, field maple, Acer campestre', 'Norway maple, Acer platanoides', 'sycamore, great maple, scottish maple, Acer pseudoplatanus', 'box elder, ash-leaved maple, Acer negundo', 'pointed-leaf maple, Acer argutum', 'Japanese maple, full moon maple, Acer japonicum', 'Japanese maple, Acer palmatum']}, '86': {'wdid': 'n12268918', 'words_map': 'oak', 'clip_words_map': 'telephone', 'ancestors': ['wood', 'plant material, plant substance', 'material, stuff', 'substance', 'part, portion, component part, component, constituent', 'relation', 'abstraction, abstract entity'], 'descendants': ['fumed oak', 'holm oak'], 'children': ['holm oak', 'fumed oak']}, '87': {'wdid': 'n13656075', 'words_map': 'palm', 'clip_words_map': 'television', 'ancestors': ['linear unit, linear measure', 'unit of measurement, unit', 'definite quantity', 'measure, quantity, amount', 'abstraction, abstract entity'], 'descendants': [], 'children': []}, '88': {'wdid': 'n11608885', 'words_map': 'pine', 'clip_words_map': 'tiger', 'ancestors': ['wood', 'plant material, plant substance', 'material, stuff', 'substance', 'part, portion, component part, component, constituent', 'relation', 'abstraction, abstract entity'], 'descendants': ['yellow pine', 'knotty pine', 'white pine'], 'children': ['white pine', 'knotty pine', 'yellow pine']}, '89': {'wdid': 'n04584794', 'words_map': 'willow', 'clip_words_map': 'tractor', 'ancestors': ['textile machine', 'machine', 'device', 'instrumentality, instrumentation', 'artifact, artefact', 'whole, unit', 'object, physical object', 'physical entity'], 'descendants': [], 'children': []}, '90': {'wdid': 'n02834778', 'words_map': 'bicycle, bike, wheel, cycle', 'clip_words_map': 'train', 'ancestors': ['wheeled vehicle', 'container', 'instrumentality, instrumentation', 'artifact, artefact', 'whole, unit', 'object, physical object', 'physical entity'], 'descendants': ['velocipede', 'safety bicycle, safety bike', 'push-bike', 'ordinary, ordinary bicycle', 'mountain bike, all-terrain bike, off-roader', 'bicycle-built-for-two, tandem bicycle, tandem'], 'children': ['bicycle-built-for-two, tandem bicycle, tandem', 'mountain bike, all-terrain bike, off-roader', 'ordinary, ordinary bicycle', 'push-bike', 'safety bicycle, safety bike', 'velocipede']}, '91': {'wdid': 'n02924116', 'words_map': 'bus, autobus, coach, charabanc, double-decker, jitney, motorbus, motorcoach, omnibus, passenger vehicle', 'clip_words_map': 'trout', 'ancestors': ['public transport', 'conveyance, transport', 'instrumentality, instrumentation', 'artifact, artefact', 'whole, unit', 'object, physical object', 'physical entity'], 'descendants': ['school bus', 'minibus', 'trolleybus, trolley coach, trackless trolley'], 'children': ['trolleybus, trolley coach, trackless trolley', 'minibus', 'school bus']}, '92': {'wdid': 'n03790512', 'words_map': 'motorcycle, bike', 'clip_words_map': 'tulip', 'ancestors': ['motor vehicle, automotive vehicle', 'self-propelled vehicle', 'wheeled vehicle', 'container', 'instrumentality, instrumentation', 'artifact, artefact', 'whole, unit', 'object, physical object', 'physical entity'], 'descendants': ['trail bike, dirt bike, scrambler', 'minibike, motorbike', 'moped'], 'children': ['minibike, motorbike', 'trail bike, dirt bike, scrambler']}, '93': {'wdid': 'n03930630', 'words_map': 'pickup, pickup truck', 'clip_words_map': 'turtle', 'ancestors': ['truck, motortruck', 'motor vehicle, automotive vehicle', 'self-propelled vehicle', 'wheeled vehicle', 'container', 'instrumentality, instrumentation', 'artifact, artefact', 'whole, unit', 'object, physical object', 'physical entity'], 'descendants': ['technical'], 'children': ['technical']}, '94': {'wdid': 'n04468476', 'words_map': 'train', 'clip_words_map': 'wardrobe', 'ancestors': ['piece of cloth, piece of material', 'fabric, cloth, material, textile', 'artifact, artefact', 'whole, unit', 'object, physical object', 'physical entity'], 'descendants': [], 'children': []}, '95': {'wdid': 'n03649909', 'words_map': 'lawn mower, mower', 'clip_words_map': 'whale', 'ancestors': ['garden tool, lawn tool', 'tool', 'implement', 'instrumentality, instrumentation', 'artifact, artefact', 'whole, unit', 'object, physical object', 'physical entity'], 'descendants': ['power mower, motor mower', 'riding mower', 'hand mower'], 'children': ['hand mower', 'power mower, motor mower']}, '96': {'wdid': 'n04232902', 'words_map': 'skyrocket, rocket', 'clip_words_map': 'willow_tree', 'ancestors': ['firework, pyrotechnic', 'low explosive', 'explosive', 'chemical, chemical substance', 'material, stuff', 'substance', 'part, portion, component part, component, constituent', 'relation', 'abstraction, abstract entity'], 'descendants': [], 'children': []}, '97': {'wdid': 'n04335435', 'words_map': 'streetcar, tram, tramcar, trolley, trolley car', 'clip_words_map': 'wolf', 'ancestors': ['self-propelled vehicle', 'wheeled vehicle', 'container', 'instrumentality, instrumentation', 'artifact, artefact', 'whole, unit', 'object, physical object', 'physical entity'], 'descendants': ['horsecar'], 'children': ['horsecar']}, '98': {'wdid': 'n13770529', 'words_map': 'tank, tankful', 'clip_words_map': 'woman', 'ancestors': ['containerful', 'indefinite quantity', 'measure, quantity, amount', 'abstraction, abstract entity'], 'descendants': [], 'children': []}, '99': {'wdid': 'n04465666', 'words_map': 'tractor', 'clip_words_map': 'worm', 'ancestors': ['truck, motortruck', 'motor vehicle, automotive vehicle', 'self-propelled vehicle', 'wheeled vehicle', 'container', 'instrumentality, instrumentation', 'artifact, artefact', 'whole, unit', 'object, physical object', 'physical entity'], 'descendants': [], 'children': []}}\n"
     ]
    }
   ],
   "source": [
    "# print(an_des_dict_json)"
   ]
  }
 ],
 "metadata": {
  "colab": {
   "private_outputs": true,
   "provenance": [],
   "toc_visible": true
  },
  "kernelspec": {
   "display_name": "Python 3 (ipykernel)",
   "language": "python",
   "name": "python3"
  },
  "language_info": {
   "codemirror_mode": {
    "name": "ipython",
    "version": 3
   },
   "file_extension": ".py",
   "mimetype": "text/x-python",
   "name": "python",
   "nbconvert_exporter": "python",
   "pygments_lexer": "ipython3",
   "version": "3.10.12"
  }
 },
 "nbformat": 4,
 "nbformat_minor": 4
}
